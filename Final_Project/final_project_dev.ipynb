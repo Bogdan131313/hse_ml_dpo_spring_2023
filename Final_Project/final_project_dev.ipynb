{
 "cells": [
  {
   "cell_type": "code",
   "execution_count": 506,
   "id": "4f38d2b3-592e-4d30-857c-f92380fa182b",
   "metadata": {},
   "outputs": [],
   "source": [
    "#!pip install catboost "
   ]
  },
  {
   "cell_type": "code",
   "execution_count": 507,
   "id": "a6691757-b7c0-447c-b62d-7b804371ff03",
   "metadata": {},
   "outputs": [],
   "source": [
    "# Импорт библиотек\n",
    "import pandas as pd\n",
    "import numpy as np\n",
    "import json\n",
    "from datetime import datetime\n",
    "from sklearn.preprocessing import LabelEncoder\n",
    "from sklearn.preprocessing import StandardScaler\n",
    "from sklearn.linear_model import LinearRegression, Lasso, Ridge\n",
    "from sklearn.ensemble import RandomForestRegressor\n",
    "from sklearn.metrics import r2_score, mean_squared_error, mean_absolute_error, mean_squared_log_error\n",
    "from catboost import CatBoostRegressor, Pool\n",
    "from sklearn.model_selection import GridSearchCV\n",
    "from category_encoders.target_encoder import TargetEncoder\n",
    "import sklearn.metrics\n",
    "import math\n",
    "import matplotlib.pyplot as plt"
   ]
  },
  {
   "cell_type": "code",
   "execution_count": 508,
   "id": "59686ecd-5e64-431f-9b95-4b574b1a2542",
   "metadata": {},
   "outputs": [],
   "source": [
    "# Загрузка датасетов\n",
    "train_data = pd.read_csv('train.csv')\n",
    "test_data  = pd.read_csv('test.csv')"
   ]
  },
  {
   "cell_type": "code",
   "execution_count": 509,
   "id": "800341d6-a818-46d1-b4ca-5bac340434b7",
   "metadata": {},
   "outputs": [
    {
     "data": {
      "text/html": [
       "<div>\n",
       "<style scoped>\n",
       "    .dataframe tbody tr th:only-of-type {\n",
       "        vertical-align: middle;\n",
       "    }\n",
       "\n",
       "    .dataframe tbody tr th {\n",
       "        vertical-align: top;\n",
       "    }\n",
       "\n",
       "    .dataframe thead th {\n",
       "        text-align: right;\n",
       "    }\n",
       "</style>\n",
       "<table border=\"1\" class=\"dataframe\">\n",
       "  <thead>\n",
       "    <tr style=\"text-align: right;\">\n",
       "      <th></th>\n",
       "      <th>id</th>\n",
       "      <th>belongs_to_collection</th>\n",
       "      <th>budget</th>\n",
       "      <th>genres</th>\n",
       "      <th>homepage</th>\n",
       "      <th>imdb_id</th>\n",
       "      <th>original_language</th>\n",
       "      <th>original_title</th>\n",
       "      <th>overview</th>\n",
       "      <th>popularity</th>\n",
       "      <th>...</th>\n",
       "      <th>release_date</th>\n",
       "      <th>runtime</th>\n",
       "      <th>spoken_languages</th>\n",
       "      <th>status</th>\n",
       "      <th>tagline</th>\n",
       "      <th>title</th>\n",
       "      <th>Keywords</th>\n",
       "      <th>cast</th>\n",
       "      <th>crew</th>\n",
       "      <th>revenue</th>\n",
       "    </tr>\n",
       "  </thead>\n",
       "  <tbody>\n",
       "    <tr>\n",
       "      <th>0</th>\n",
       "      <td>1</td>\n",
       "      <td>[{'id': 313576, 'name': 'Hot Tub Time Machine ...</td>\n",
       "      <td>14000000</td>\n",
       "      <td>[{'id': 35, 'name': 'Comedy'}]</td>\n",
       "      <td>NaN</td>\n",
       "      <td>tt2637294</td>\n",
       "      <td>en</td>\n",
       "      <td>Hot Tub Time Machine 2</td>\n",
       "      <td>When Lou, who has become the \"father of the In...</td>\n",
       "      <td>6.575393</td>\n",
       "      <td>...</td>\n",
       "      <td>2/20/15</td>\n",
       "      <td>93.0</td>\n",
       "      <td>[{'iso_639_1': 'en', 'name': 'English'}]</td>\n",
       "      <td>Released</td>\n",
       "      <td>The Laws of Space and Time are About to be Vio...</td>\n",
       "      <td>Hot Tub Time Machine 2</td>\n",
       "      <td>[{'id': 4379, 'name': 'time travel'}, {'id': 9...</td>\n",
       "      <td>[{'cast_id': 4, 'character': 'Lou', 'credit_id...</td>\n",
       "      <td>[{'credit_id': '59ac067c92514107af02c8c8', 'de...</td>\n",
       "      <td>12314651</td>\n",
       "    </tr>\n",
       "    <tr>\n",
       "      <th>1</th>\n",
       "      <td>2</td>\n",
       "      <td>[{'id': 107674, 'name': 'The Princess Diaries ...</td>\n",
       "      <td>40000000</td>\n",
       "      <td>[{'id': 35, 'name': 'Comedy'}, {'id': 18, 'nam...</td>\n",
       "      <td>NaN</td>\n",
       "      <td>tt0368933</td>\n",
       "      <td>en</td>\n",
       "      <td>The Princess Diaries 2: Royal Engagement</td>\n",
       "      <td>Mia Thermopolis is now a college graduate and ...</td>\n",
       "      <td>8.248895</td>\n",
       "      <td>...</td>\n",
       "      <td>8/6/04</td>\n",
       "      <td>113.0</td>\n",
       "      <td>[{'iso_639_1': 'en', 'name': 'English'}]</td>\n",
       "      <td>Released</td>\n",
       "      <td>It can take a lifetime to find true love; she'...</td>\n",
       "      <td>The Princess Diaries 2: Royal Engagement</td>\n",
       "      <td>[{'id': 2505, 'name': 'coronation'}, {'id': 42...</td>\n",
       "      <td>[{'cast_id': 1, 'character': 'Mia Thermopolis'...</td>\n",
       "      <td>[{'credit_id': '52fe43fe9251416c7502563d', 'de...</td>\n",
       "      <td>95149435</td>\n",
       "    </tr>\n",
       "    <tr>\n",
       "      <th>2</th>\n",
       "      <td>3</td>\n",
       "      <td>NaN</td>\n",
       "      <td>3300000</td>\n",
       "      <td>[{'id': 18, 'name': 'Drama'}]</td>\n",
       "      <td>http://sonyclassics.com/whiplash/</td>\n",
       "      <td>tt2582802</td>\n",
       "      <td>en</td>\n",
       "      <td>Whiplash</td>\n",
       "      <td>Under the direction of a ruthless instructor, ...</td>\n",
       "      <td>64.299990</td>\n",
       "      <td>...</td>\n",
       "      <td>10/10/14</td>\n",
       "      <td>105.0</td>\n",
       "      <td>[{'iso_639_1': 'en', 'name': 'English'}]</td>\n",
       "      <td>Released</td>\n",
       "      <td>The road to greatness can take you to the edge.</td>\n",
       "      <td>Whiplash</td>\n",
       "      <td>[{'id': 1416, 'name': 'jazz'}, {'id': 1523, 'n...</td>\n",
       "      <td>[{'cast_id': 5, 'character': 'Andrew Neimann',...</td>\n",
       "      <td>[{'credit_id': '54d5356ec3a3683ba0000039', 'de...</td>\n",
       "      <td>13092000</td>\n",
       "    </tr>\n",
       "  </tbody>\n",
       "</table>\n",
       "<p>3 rows × 23 columns</p>\n",
       "</div>"
      ],
      "text/plain": [
       "   id                              belongs_to_collection    budget  \\\n",
       "0   1  [{'id': 313576, 'name': 'Hot Tub Time Machine ...  14000000   \n",
       "1   2  [{'id': 107674, 'name': 'The Princess Diaries ...  40000000   \n",
       "2   3                                                NaN   3300000   \n",
       "\n",
       "                                              genres  \\\n",
       "0                     [{'id': 35, 'name': 'Comedy'}]   \n",
       "1  [{'id': 35, 'name': 'Comedy'}, {'id': 18, 'nam...   \n",
       "2                      [{'id': 18, 'name': 'Drama'}]   \n",
       "\n",
       "                            homepage    imdb_id original_language  \\\n",
       "0                                NaN  tt2637294                en   \n",
       "1                                NaN  tt0368933                en   \n",
       "2  http://sonyclassics.com/whiplash/  tt2582802                en   \n",
       "\n",
       "                             original_title  \\\n",
       "0                    Hot Tub Time Machine 2   \n",
       "1  The Princess Diaries 2: Royal Engagement   \n",
       "2                                  Whiplash   \n",
       "\n",
       "                                            overview  popularity  ...  \\\n",
       "0  When Lou, who has become the \"father of the In...    6.575393  ...   \n",
       "1  Mia Thermopolis is now a college graduate and ...    8.248895  ...   \n",
       "2  Under the direction of a ruthless instructor, ...   64.299990  ...   \n",
       "\n",
       "  release_date runtime                          spoken_languages    status  \\\n",
       "0      2/20/15    93.0  [{'iso_639_1': 'en', 'name': 'English'}]  Released   \n",
       "1       8/6/04   113.0  [{'iso_639_1': 'en', 'name': 'English'}]  Released   \n",
       "2     10/10/14   105.0  [{'iso_639_1': 'en', 'name': 'English'}]  Released   \n",
       "\n",
       "                                             tagline  \\\n",
       "0  The Laws of Space and Time are About to be Vio...   \n",
       "1  It can take a lifetime to find true love; she'...   \n",
       "2    The road to greatness can take you to the edge.   \n",
       "\n",
       "                                      title  \\\n",
       "0                    Hot Tub Time Machine 2   \n",
       "1  The Princess Diaries 2: Royal Engagement   \n",
       "2                                  Whiplash   \n",
       "\n",
       "                                            Keywords  \\\n",
       "0  [{'id': 4379, 'name': 'time travel'}, {'id': 9...   \n",
       "1  [{'id': 2505, 'name': 'coronation'}, {'id': 42...   \n",
       "2  [{'id': 1416, 'name': 'jazz'}, {'id': 1523, 'n...   \n",
       "\n",
       "                                                cast  \\\n",
       "0  [{'cast_id': 4, 'character': 'Lou', 'credit_id...   \n",
       "1  [{'cast_id': 1, 'character': 'Mia Thermopolis'...   \n",
       "2  [{'cast_id': 5, 'character': 'Andrew Neimann',...   \n",
       "\n",
       "                                                crew   revenue  \n",
       "0  [{'credit_id': '59ac067c92514107af02c8c8', 'de...  12314651  \n",
       "1  [{'credit_id': '52fe43fe9251416c7502563d', 'de...  95149435  \n",
       "2  [{'credit_id': '54d5356ec3a3683ba0000039', 'de...  13092000  \n",
       "\n",
       "[3 rows x 23 columns]"
      ]
     },
     "execution_count": 509,
     "metadata": {},
     "output_type": "execute_result"
    }
   ],
   "source": [
    "train_data[:3]"
   ]
  },
  {
   "cell_type": "code",
   "execution_count": 510,
   "id": "88c1ab4b-0682-41d2-9072-d98425f4e7ba",
   "metadata": {},
   "outputs": [
    {
     "data": {
      "text/plain": [
       "((3000, 23), (4398, 22))"
      ]
     },
     "execution_count": 510,
     "metadata": {},
     "output_type": "execute_result"
    }
   ],
   "source": [
    "train_data.shape, test_data.shape"
   ]
  },
  {
   "cell_type": "code",
   "execution_count": 511,
   "id": "ca9e8b31-249b-4812-bf7f-fe16fd3c99d6",
   "metadata": {},
   "outputs": [
    {
     "name": "stdout",
     "output_type": "stream",
     "text": [
      "<class 'pandas.core.frame.DataFrame'>\n",
      "RangeIndex: 3000 entries, 0 to 2999\n",
      "Data columns (total 23 columns):\n",
      " #   Column                 Non-Null Count  Dtype  \n",
      "---  ------                 --------------  -----  \n",
      " 0   id                     3000 non-null   int64  \n",
      " 1   belongs_to_collection  604 non-null    object \n",
      " 2   budget                 3000 non-null   int64  \n",
      " 3   genres                 2993 non-null   object \n",
      " 4   homepage               946 non-null    object \n",
      " 5   imdb_id                3000 non-null   object \n",
      " 6   original_language      3000 non-null   object \n",
      " 7   original_title         3000 non-null   object \n",
      " 8   overview               2992 non-null   object \n",
      " 9   popularity             3000 non-null   float64\n",
      " 10  poster_path            2999 non-null   object \n",
      " 11  production_companies   2844 non-null   object \n",
      " 12  production_countries   2945 non-null   object \n",
      " 13  release_date           3000 non-null   object \n",
      " 14  runtime                2998 non-null   float64\n",
      " 15  spoken_languages       2980 non-null   object \n",
      " 16  status                 3000 non-null   object \n",
      " 17  tagline                2403 non-null   object \n",
      " 18  title                  3000 non-null   object \n",
      " 19  Keywords               2724 non-null   object \n",
      " 20  cast                   2987 non-null   object \n",
      " 21  crew                   2984 non-null   object \n",
      " 22  revenue                3000 non-null   int64  \n",
      "dtypes: float64(2), int64(3), object(18)\n",
      "memory usage: 539.2+ KB\n"
     ]
    }
   ],
   "source": [
    "train_data.info()"
   ]
  },
  {
   "cell_type": "code",
   "execution_count": 512,
   "id": "6012bc1f-43f2-4aed-9c93-5a8156b6ccbb",
   "metadata": {},
   "outputs": [
    {
     "name": "stdout",
     "output_type": "stream",
     "text": [
      "<class 'pandas.core.frame.DataFrame'>\n",
      "RangeIndex: 4398 entries, 0 to 4397\n",
      "Data columns (total 22 columns):\n",
      " #   Column                 Non-Null Count  Dtype  \n",
      "---  ------                 --------------  -----  \n",
      " 0   id                     4398 non-null   int64  \n",
      " 1   belongs_to_collection  877 non-null    object \n",
      " 2   budget                 4398 non-null   int64  \n",
      " 3   genres                 4382 non-null   object \n",
      " 4   homepage               1420 non-null   object \n",
      " 5   imdb_id                4398 non-null   object \n",
      " 6   original_language      4398 non-null   object \n",
      " 7   original_title         4398 non-null   object \n",
      " 8   overview               4384 non-null   object \n",
      " 9   popularity             4398 non-null   float64\n",
      " 10  poster_path            4397 non-null   object \n",
      " 11  production_companies   4140 non-null   object \n",
      " 12  production_countries   4296 non-null   object \n",
      " 13  release_date           4397 non-null   object \n",
      " 14  runtime                4394 non-null   float64\n",
      " 15  spoken_languages       4356 non-null   object \n",
      " 16  status                 4396 non-null   object \n",
      " 17  tagline                3535 non-null   object \n",
      " 18  title                  4395 non-null   object \n",
      " 19  Keywords               4005 non-null   object \n",
      " 20  cast                   4385 non-null   object \n",
      " 21  crew                   4376 non-null   object \n",
      "dtypes: float64(2), int64(2), object(18)\n",
      "memory usage: 756.0+ KB\n"
     ]
    }
   ],
   "source": [
    "test_data.info()"
   ]
  },
  {
   "cell_type": "code",
   "execution_count": 513,
   "id": "603b3268-1070-458b-980d-6500142af428",
   "metadata": {},
   "outputs": [],
   "source": [
    "# Запишем в отдельную переменную поля в формате json\n",
    "json_type_columns = ['belongs_to_collection', 'genres', 'spoken_languages', 'Keywords', 'cast', 'crew', 'production_companies', 'production_countries']"
   ]
  },
  {
   "cell_type": "code",
   "execution_count": 514,
   "id": "35ae66a4-f56f-40d1-a2d8-2b90fd6ece4b",
   "metadata": {},
   "outputs": [
    {
     "data": {
      "text/html": [
       "<div>\n",
       "<style scoped>\n",
       "    .dataframe tbody tr th:only-of-type {\n",
       "        vertical-align: middle;\n",
       "    }\n",
       "\n",
       "    .dataframe tbody tr th {\n",
       "        vertical-align: top;\n",
       "    }\n",
       "\n",
       "    .dataframe thead th {\n",
       "        text-align: right;\n",
       "    }\n",
       "</style>\n",
       "<table border=\"1\" class=\"dataframe\">\n",
       "  <thead>\n",
       "    <tr style=\"text-align: right;\">\n",
       "      <th></th>\n",
       "      <th>belongs_to_collection</th>\n",
       "      <th>genres</th>\n",
       "      <th>spoken_languages</th>\n",
       "      <th>Keywords</th>\n",
       "      <th>cast</th>\n",
       "      <th>crew</th>\n",
       "      <th>production_companies</th>\n",
       "      <th>production_countries</th>\n",
       "    </tr>\n",
       "  </thead>\n",
       "  <tbody>\n",
       "    <tr>\n",
       "      <th>0</th>\n",
       "      <td>[{'id': 313576, 'name': 'Hot Tub Time Machine ...</td>\n",
       "      <td>[{'id': 35, 'name': 'Comedy'}]</td>\n",
       "      <td>[{'iso_639_1': 'en', 'name': 'English'}]</td>\n",
       "      <td>[{'id': 4379, 'name': 'time travel'}, {'id': 9...</td>\n",
       "      <td>[{'cast_id': 4, 'character': 'Lou', 'credit_id...</td>\n",
       "      <td>[{'credit_id': '59ac067c92514107af02c8c8', 'de...</td>\n",
       "      <td>[{'name': 'Paramount Pictures', 'id': 4}, {'na...</td>\n",
       "      <td>[{'iso_3166_1': 'US', 'name': 'United States o...</td>\n",
       "    </tr>\n",
       "    <tr>\n",
       "      <th>1</th>\n",
       "      <td>[{'id': 107674, 'name': 'The Princess Diaries ...</td>\n",
       "      <td>[{'id': 35, 'name': 'Comedy'}, {'id': 18, 'nam...</td>\n",
       "      <td>[{'iso_639_1': 'en', 'name': 'English'}]</td>\n",
       "      <td>[{'id': 2505, 'name': 'coronation'}, {'id': 42...</td>\n",
       "      <td>[{'cast_id': 1, 'character': 'Mia Thermopolis'...</td>\n",
       "      <td>[{'credit_id': '52fe43fe9251416c7502563d', 'de...</td>\n",
       "      <td>[{'name': 'Walt Disney Pictures', 'id': 2}]</td>\n",
       "      <td>[{'iso_3166_1': 'US', 'name': 'United States o...</td>\n",
       "    </tr>\n",
       "    <tr>\n",
       "      <th>2</th>\n",
       "      <td>NaN</td>\n",
       "      <td>[{'id': 18, 'name': 'Drama'}]</td>\n",
       "      <td>[{'iso_639_1': 'en', 'name': 'English'}]</td>\n",
       "      <td>[{'id': 1416, 'name': 'jazz'}, {'id': 1523, 'n...</td>\n",
       "      <td>[{'cast_id': 5, 'character': 'Andrew Neimann',...</td>\n",
       "      <td>[{'credit_id': '54d5356ec3a3683ba0000039', 'de...</td>\n",
       "      <td>[{'name': 'Bold Films', 'id': 2266}, {'name': ...</td>\n",
       "      <td>[{'iso_3166_1': 'US', 'name': 'United States o...</td>\n",
       "    </tr>\n",
       "  </tbody>\n",
       "</table>\n",
       "</div>"
      ],
      "text/plain": [
       "                               belongs_to_collection  \\\n",
       "0  [{'id': 313576, 'name': 'Hot Tub Time Machine ...   \n",
       "1  [{'id': 107674, 'name': 'The Princess Diaries ...   \n",
       "2                                                NaN   \n",
       "\n",
       "                                              genres  \\\n",
       "0                     [{'id': 35, 'name': 'Comedy'}]   \n",
       "1  [{'id': 35, 'name': 'Comedy'}, {'id': 18, 'nam...   \n",
       "2                      [{'id': 18, 'name': 'Drama'}]   \n",
       "\n",
       "                           spoken_languages  \\\n",
       "0  [{'iso_639_1': 'en', 'name': 'English'}]   \n",
       "1  [{'iso_639_1': 'en', 'name': 'English'}]   \n",
       "2  [{'iso_639_1': 'en', 'name': 'English'}]   \n",
       "\n",
       "                                            Keywords  \\\n",
       "0  [{'id': 4379, 'name': 'time travel'}, {'id': 9...   \n",
       "1  [{'id': 2505, 'name': 'coronation'}, {'id': 42...   \n",
       "2  [{'id': 1416, 'name': 'jazz'}, {'id': 1523, 'n...   \n",
       "\n",
       "                                                cast  \\\n",
       "0  [{'cast_id': 4, 'character': 'Lou', 'credit_id...   \n",
       "1  [{'cast_id': 1, 'character': 'Mia Thermopolis'...   \n",
       "2  [{'cast_id': 5, 'character': 'Andrew Neimann',...   \n",
       "\n",
       "                                                crew  \\\n",
       "0  [{'credit_id': '59ac067c92514107af02c8c8', 'de...   \n",
       "1  [{'credit_id': '52fe43fe9251416c7502563d', 'de...   \n",
       "2  [{'credit_id': '54d5356ec3a3683ba0000039', 'de...   \n",
       "\n",
       "                                production_companies  \\\n",
       "0  [{'name': 'Paramount Pictures', 'id': 4}, {'na...   \n",
       "1        [{'name': 'Walt Disney Pictures', 'id': 2}]   \n",
       "2  [{'name': 'Bold Films', 'id': 2266}, {'name': ...   \n",
       "\n",
       "                                production_countries  \n",
       "0  [{'iso_3166_1': 'US', 'name': 'United States o...  \n",
       "1  [{'iso_3166_1': 'US', 'name': 'United States o...  \n",
       "2  [{'iso_3166_1': 'US', 'name': 'United States o...  "
      ]
     },
     "execution_count": 514,
     "metadata": {},
     "output_type": "execute_result"
    }
   ],
   "source": [
    "train_data[json_type_columns][:3]"
   ]
  },
  {
   "cell_type": "code",
   "execution_count": 515,
   "id": "757cfb47-209c-4670-ac61-1b2102449ceb",
   "metadata": {},
   "outputs": [],
   "source": [
    "#train_data.loc[:, 'cast'][0]"
   ]
  },
  {
   "cell_type": "code",
   "execution_count": 516,
   "id": "d026d473-cf1f-4e2e-9088-cd5275f40e4d",
   "metadata": {},
   "outputs": [],
   "source": [
    "#[i for i in train_data['belongs_to_collection'].values]"
   ]
  },
  {
   "cell_type": "code",
   "execution_count": 517,
   "id": "706a0300-ad82-468e-8d8e-86c684d0d9cb",
   "metadata": {},
   "outputs": [],
   "source": [
    "# Создадим копию тестового и тренирровочного датасетов и будем работать только с ними\n",
    "train_data_c = train_data.copy()\n",
    "test_data_c = test_data.copy()"
   ]
  },
  {
   "cell_type": "markdown",
   "id": "745e9fbe-b7f7-466f-b701-b08df849f7e3",
   "metadata": {},
   "source": [
    "## Работа с признаками"
   ]
  },
  {
   "cell_type": "code",
   "execution_count": 518,
   "id": "344e3885-fc96-4a52-8295-adbb80ce58ba",
   "metadata": {},
   "outputs": [
    {
     "name": "stderr",
     "output_type": "stream",
     "text": [
      "D:\\anaconda3\\lib\\site-packages\\numpy\\core\\fromnumeric.py:3199: VisibleDeprecationWarning: Creating an ndarray from ragged nested sequences (which is a list-or-tuple of lists-or-tuples-or ndarrays with different lengths or shapes) is deprecated. If you meant to do this, you must specify 'dtype=object' when creating the ndarray.\n",
      "  return asarray(a).ndim\n"
     ]
    }
   ],
   "source": [
    "# Общая предобработка json полей \n",
    "for col in json_type_columns:\n",
    "    new_col = []\n",
    "    for i in train_data_c[col]:\n",
    "        #print(i)\n",
    "        if i==i:\n",
    "            new_col.append(eval(i))\n",
    "        else:\n",
    "            new_col.append([])\n",
    "    train_data_c.loc[:, col] = new_col\n",
    "    \n",
    "for col in json_type_columns:\n",
    "    new_col = []\n",
    "    for i in test_data_c[col]:\n",
    "        #print(i)\n",
    "        if i==i:\n",
    "            new_col.append(eval(i))\n",
    "        else:\n",
    "            new_col.append([])\n",
    "    test_data_c.loc[:, col] = new_col"
   ]
  },
  {
   "cell_type": "markdown",
   "id": "15b829f2-9c61-411e-9176-106aad124361",
   "metadata": {},
   "source": [
    "#### belongs_to_collection"
   ]
  },
  {
   "cell_type": "code",
   "execution_count": 519,
   "id": "a46f5060-b609-471d-8b28-54c3d2fc395e",
   "metadata": {},
   "outputs": [
    {
     "data": {
      "text/plain": [
       "(1, 604)"
      ]
     },
     "execution_count": 519,
     "metadata": {},
     "output_type": "execute_result"
    }
   ],
   "source": [
    "# Убедимся что фильм может пренадлежать максимум 1 коллекции + заполняемость\n",
    "num_of_collect = []\n",
    "for r in train_data_c['belongs_to_collection']:\n",
    "    num_of_collect.append(len(r))\n",
    "\n",
    "np.array(num_of_collect).max(), np.array(num_of_collect).sum()"
   ]
  },
  {
   "cell_type": "code",
   "execution_count": 520,
   "id": "8edf4424-ce50-47bb-9432-666ab11ce71d",
   "metadata": {},
   "outputs": [],
   "source": [
    "# Запишем название коллекции фильма если она есть, иначе 0\n",
    "train_data_c['belongs_to_collection'] = train_data_c['belongs_to_collection'].apply(lambda x: x[0]['name'] if len(x)!=0 else np.nan)\n",
    "test_data_c['belongs_to_collection'] = test_data_c['belongs_to_collection'].apply(lambda x: x[0]['name'] if len(x)!=0 else np.nan)"
   ]
  },
  {
   "cell_type": "code",
   "execution_count": 521,
   "id": "3ebab662-bdb7-4852-91c6-8f3efb9b62ba",
   "metadata": {},
   "outputs": [
    {
     "data": {
      "text/plain": [
       "James Bond Collection                     16\n",
       "Friday the 13th Collection                 7\n",
       "The Pink Panther (Original) Collection     6\n",
       "Police Academy Collection                  5\n",
       "Pokémon Collection                         5\n",
       "                                          ..\n",
       "Pitch Perfect Collection                   1\n",
       "Alpha and Omega Collection                 1\n",
       "Bad Boys Collection                        1\n",
       "F*ck You, Goethe Collection                1\n",
       "Save The Last Dance Collection             1\n",
       "Name: belongs_to_collection, Length: 422, dtype: int64"
      ]
     },
     "execution_count": 521,
     "metadata": {},
     "output_type": "execute_result"
    }
   ],
   "source": [
    "train_data_c['belongs_to_collection'].value_counts()"
   ]
  },
  {
   "cell_type": "code",
   "execution_count": 522,
   "id": "cbdb361a-29d1-4385-9193-3f8251fece3d",
   "metadata": {},
   "outputs": [],
   "source": [
    "train_data_c['has_collection'] = train_data_c['belongs_to_collection'].apply(lambda x: 1 if x==x else 0)\n",
    "test_data_c['has_collection'] = test_data_c['belongs_to_collection'].apply(lambda x: 1 if x==x else 0)"
   ]
  },
  {
   "cell_type": "code",
   "execution_count": 523,
   "id": "f3f8b3eb-8d9f-4512-a0d1-8db8bf5d838c",
   "metadata": {},
   "outputs": [],
   "source": [
    "#train_data_c.sample(10)"
   ]
  },
  {
   "cell_type": "markdown",
   "id": "11f5fbdc-8321-4af2-84df-5d5a82f73a25",
   "metadata": {},
   "source": [
    "#### genres"
   ]
  },
  {
   "cell_type": "code",
   "execution_count": 524,
   "id": "6027ba7f-174f-428d-b031-b4f2ce311ed4",
   "metadata": {},
   "outputs": [
    {
     "data": {
      "text/plain": [
       "0                       [{'id': 35, 'name': 'Comedy'}]\n",
       "1    [{'id': 35, 'name': 'Comedy'}, {'id': 18, 'nam...\n",
       "2                        [{'id': 18, 'name': 'Drama'}]\n",
       "3    [{'id': 53, 'name': 'Thriller'}, {'id': 18, 'n...\n",
       "4    [{'id': 28, 'name': 'Action'}, {'id': 53, 'nam...\n",
       "Name: genres, dtype: object"
      ]
     },
     "execution_count": 524,
     "metadata": {},
     "output_type": "execute_result"
    }
   ],
   "source": [
    "train_data_c['genres'][:5]"
   ]
  },
  {
   "cell_type": "code",
   "execution_count": 525,
   "id": "02503c2e-2a2f-44c4-8eab-bda93edb6363",
   "metadata": {},
   "outputs": [
    {
     "data": {
      "text/plain": [
       "{28: 'Action',\n",
       " 12: 'Adventure',\n",
       " 16: 'Animation',\n",
       " 35: 'Comedy',\n",
       " 80: 'Crime',\n",
       " 99: 'Documentary',\n",
       " 18: 'Drama',\n",
       " 10751: 'Family',\n",
       " 14: 'Fantasy',\n",
       " 10769: 'Foreign',\n",
       " 36: 'History',\n",
       " 27: 'Horror',\n",
       " 10402: 'Music',\n",
       " 9648: 'Mystery',\n",
       " 10749: 'Romance',\n",
       " 878: 'Science Fiction',\n",
       " 10770: 'TV Movie',\n",
       " 53: 'Thriller',\n",
       " 10752: 'War',\n",
       " 37: 'Western'}"
      ]
     },
     "execution_count": 525,
     "metadata": {},
     "output_type": "execute_result"
    }
   ],
   "source": [
    "# Определим список возможных жанров\n",
    "genres_dict = {}\n",
    "for r in train_data_c['genres']:\n",
    "    for i in r:\n",
    "        if not i['id'] in genres_dict.values():\n",
    "            genres_dict[i['id']] = i['name']\n",
    "\n",
    "# Получим отсортированный по названию словарь жанров с ID и выведем на экран            \n",
    "genres_dict = dict(sorted(genres_dict.items(), key=lambda x: x[1]))\n",
    "genres_dict"
   ]
  },
  {
   "cell_type": "code",
   "execution_count": 526,
   "id": "71be4555-86fe-49a9-a91a-c039c9c5294e",
   "metadata": {},
   "outputs": [],
   "source": [
    "def get_feature_val(row, key_name='id'):\n",
    "    values_list = []\n",
    "    for d in row:\n",
    "        values_list.append(d.get(key_name, -999))\n",
    "    return values_list"
   ]
  },
  {
   "cell_type": "code",
   "execution_count": 527,
   "id": "d59e4488-92fd-4199-89b0-31111dcab051",
   "metadata": {},
   "outputs": [],
   "source": [
    "train_data_c['genres'] = train_data_c['genres'].apply(get_feature_val)\n",
    "test_data_c['genres'] = test_data_c['genres'].apply(get_feature_val)"
   ]
  },
  {
   "cell_type": "code",
   "execution_count": 528,
   "id": "03bd8574-37ad-4066-aeef-ff57a540f9ce",
   "metadata": {},
   "outputs": [
    {
     "data": {
      "text/html": [
       "<div>\n",
       "<style scoped>\n",
       "    .dataframe tbody tr th:only-of-type {\n",
       "        vertical-align: middle;\n",
       "    }\n",
       "\n",
       "    .dataframe tbody tr th {\n",
       "        vertical-align: top;\n",
       "    }\n",
       "\n",
       "    .dataframe thead th {\n",
       "        text-align: right;\n",
       "    }\n",
       "</style>\n",
       "<table border=\"1\" class=\"dataframe\">\n",
       "  <thead>\n",
       "    <tr style=\"text-align: right;\">\n",
       "      <th></th>\n",
       "      <th>id</th>\n",
       "      <th>belongs_to_collection</th>\n",
       "      <th>budget</th>\n",
       "      <th>genres</th>\n",
       "      <th>homepage</th>\n",
       "      <th>imdb_id</th>\n",
       "      <th>original_language</th>\n",
       "      <th>original_title</th>\n",
       "      <th>overview</th>\n",
       "      <th>popularity</th>\n",
       "      <th>...</th>\n",
       "      <th>runtime</th>\n",
       "      <th>spoken_languages</th>\n",
       "      <th>status</th>\n",
       "      <th>tagline</th>\n",
       "      <th>title</th>\n",
       "      <th>Keywords</th>\n",
       "      <th>cast</th>\n",
       "      <th>crew</th>\n",
       "      <th>revenue</th>\n",
       "      <th>has_collection</th>\n",
       "    </tr>\n",
       "  </thead>\n",
       "  <tbody>\n",
       "    <tr>\n",
       "      <th>0</th>\n",
       "      <td>1</td>\n",
       "      <td>Hot Tub Time Machine Collection</td>\n",
       "      <td>14000000</td>\n",
       "      <td>[35]</td>\n",
       "      <td>NaN</td>\n",
       "      <td>tt2637294</td>\n",
       "      <td>en</td>\n",
       "      <td>Hot Tub Time Machine 2</td>\n",
       "      <td>When Lou, who has become the \"father of the In...</td>\n",
       "      <td>6.575393</td>\n",
       "      <td>...</td>\n",
       "      <td>93.0</td>\n",
       "      <td>[{'iso_639_1': 'en', 'name': 'English'}]</td>\n",
       "      <td>Released</td>\n",
       "      <td>The Laws of Space and Time are About to be Vio...</td>\n",
       "      <td>Hot Tub Time Machine 2</td>\n",
       "      <td>[{'id': 4379, 'name': 'time travel'}, {'id': 9...</td>\n",
       "      <td>[{'cast_id': 4, 'character': 'Lou', 'credit_id...</td>\n",
       "      <td>[{'credit_id': '59ac067c92514107af02c8c8', 'de...</td>\n",
       "      <td>12314651</td>\n",
       "      <td>1</td>\n",
       "    </tr>\n",
       "    <tr>\n",
       "      <th>1</th>\n",
       "      <td>2</td>\n",
       "      <td>The Princess Diaries Collection</td>\n",
       "      <td>40000000</td>\n",
       "      <td>[35, 18, 10751, 10749]</td>\n",
       "      <td>NaN</td>\n",
       "      <td>tt0368933</td>\n",
       "      <td>en</td>\n",
       "      <td>The Princess Diaries 2: Royal Engagement</td>\n",
       "      <td>Mia Thermopolis is now a college graduate and ...</td>\n",
       "      <td>8.248895</td>\n",
       "      <td>...</td>\n",
       "      <td>113.0</td>\n",
       "      <td>[{'iso_639_1': 'en', 'name': 'English'}]</td>\n",
       "      <td>Released</td>\n",
       "      <td>It can take a lifetime to find true love; she'...</td>\n",
       "      <td>The Princess Diaries 2: Royal Engagement</td>\n",
       "      <td>[{'id': 2505, 'name': 'coronation'}, {'id': 42...</td>\n",
       "      <td>[{'cast_id': 1, 'character': 'Mia Thermopolis'...</td>\n",
       "      <td>[{'credit_id': '52fe43fe9251416c7502563d', 'de...</td>\n",
       "      <td>95149435</td>\n",
       "      <td>1</td>\n",
       "    </tr>\n",
       "    <tr>\n",
       "      <th>2</th>\n",
       "      <td>3</td>\n",
       "      <td>NaN</td>\n",
       "      <td>3300000</td>\n",
       "      <td>[18]</td>\n",
       "      <td>http://sonyclassics.com/whiplash/</td>\n",
       "      <td>tt2582802</td>\n",
       "      <td>en</td>\n",
       "      <td>Whiplash</td>\n",
       "      <td>Under the direction of a ruthless instructor, ...</td>\n",
       "      <td>64.299990</td>\n",
       "      <td>...</td>\n",
       "      <td>105.0</td>\n",
       "      <td>[{'iso_639_1': 'en', 'name': 'English'}]</td>\n",
       "      <td>Released</td>\n",
       "      <td>The road to greatness can take you to the edge.</td>\n",
       "      <td>Whiplash</td>\n",
       "      <td>[{'id': 1416, 'name': 'jazz'}, {'id': 1523, 'n...</td>\n",
       "      <td>[{'cast_id': 5, 'character': 'Andrew Neimann',...</td>\n",
       "      <td>[{'credit_id': '54d5356ec3a3683ba0000039', 'de...</td>\n",
       "      <td>13092000</td>\n",
       "      <td>0</td>\n",
       "    </tr>\n",
       "  </tbody>\n",
       "</table>\n",
       "<p>3 rows × 24 columns</p>\n",
       "</div>"
      ],
      "text/plain": [
       "   id            belongs_to_collection    budget                  genres  \\\n",
       "0   1  Hot Tub Time Machine Collection  14000000                    [35]   \n",
       "1   2  The Princess Diaries Collection  40000000  [35, 18, 10751, 10749]   \n",
       "2   3                              NaN   3300000                    [18]   \n",
       "\n",
       "                            homepage    imdb_id original_language  \\\n",
       "0                                NaN  tt2637294                en   \n",
       "1                                NaN  tt0368933                en   \n",
       "2  http://sonyclassics.com/whiplash/  tt2582802                en   \n",
       "\n",
       "                             original_title  \\\n",
       "0                    Hot Tub Time Machine 2   \n",
       "1  The Princess Diaries 2: Royal Engagement   \n",
       "2                                  Whiplash   \n",
       "\n",
       "                                            overview  popularity  ... runtime  \\\n",
       "0  When Lou, who has become the \"father of the In...    6.575393  ...    93.0   \n",
       "1  Mia Thermopolis is now a college graduate and ...    8.248895  ...   113.0   \n",
       "2  Under the direction of a ruthless instructor, ...   64.299990  ...   105.0   \n",
       "\n",
       "                           spoken_languages    status  \\\n",
       "0  [{'iso_639_1': 'en', 'name': 'English'}]  Released   \n",
       "1  [{'iso_639_1': 'en', 'name': 'English'}]  Released   \n",
       "2  [{'iso_639_1': 'en', 'name': 'English'}]  Released   \n",
       "\n",
       "                                             tagline  \\\n",
       "0  The Laws of Space and Time are About to be Vio...   \n",
       "1  It can take a lifetime to find true love; she'...   \n",
       "2    The road to greatness can take you to the edge.   \n",
       "\n",
       "                                      title  \\\n",
       "0                    Hot Tub Time Machine 2   \n",
       "1  The Princess Diaries 2: Royal Engagement   \n",
       "2                                  Whiplash   \n",
       "\n",
       "                                            Keywords  \\\n",
       "0  [{'id': 4379, 'name': 'time travel'}, {'id': 9...   \n",
       "1  [{'id': 2505, 'name': 'coronation'}, {'id': 42...   \n",
       "2  [{'id': 1416, 'name': 'jazz'}, {'id': 1523, 'n...   \n",
       "\n",
       "                                                cast  \\\n",
       "0  [{'cast_id': 4, 'character': 'Lou', 'credit_id...   \n",
       "1  [{'cast_id': 1, 'character': 'Mia Thermopolis'...   \n",
       "2  [{'cast_id': 5, 'character': 'Andrew Neimann',...   \n",
       "\n",
       "                                                crew   revenue has_collection  \n",
       "0  [{'credit_id': '59ac067c92514107af02c8c8', 'de...  12314651              1  \n",
       "1  [{'credit_id': '52fe43fe9251416c7502563d', 'de...  95149435              1  \n",
       "2  [{'credit_id': '54d5356ec3a3683ba0000039', 'de...  13092000              0  \n",
       "\n",
       "[3 rows x 24 columns]"
      ]
     },
     "execution_count": 528,
     "metadata": {},
     "output_type": "execute_result"
    }
   ],
   "source": [
    "train_data_c[:3]"
   ]
  },
  {
   "cell_type": "markdown",
   "id": "7334203c-a58e-4cb7-9f83-aef79ee1d2f5",
   "metadata": {},
   "source": [
    "На мой взгляд, жанр фильма - очень важный признак при оценке предполагаемых сборов, поэтому для каждого жанра создадим поле, определяющее принадлежность к нему"
   ]
  },
  {
   "cell_type": "code",
   "execution_count": 529,
   "id": "042cce00-ea7c-4307-bb31-711bbf41b100",
   "metadata": {},
   "outputs": [],
   "source": [
    "for i in genres_dict.values():\n",
    "    train_data_c[i] = 0\n",
    "    test_data_c[i] = 0"
   ]
  },
  {
   "cell_type": "code",
   "execution_count": 530,
   "id": "d6a839a6-def7-47c6-a375-907347765473",
   "metadata": {},
   "outputs": [],
   "source": [
    "for k, v in genres_dict.items():\n",
    "    train_data_c[v] = np.where(train_data_c['genres'].apply(lambda x: k in x)==1, 1, 0)\n",
    "    test_data_c[v] = np.where(test_data_c['genres'].apply(lambda x: k in x)==1, 1, 0)"
   ]
  },
  {
   "cell_type": "code",
   "execution_count": 531,
   "id": "98e9c466-5f3b-453a-890a-3ae038e6db69",
   "metadata": {},
   "outputs": [
    {
     "data": {
      "text/html": [
       "<div>\n",
       "<style scoped>\n",
       "    .dataframe tbody tr th:only-of-type {\n",
       "        vertical-align: middle;\n",
       "    }\n",
       "\n",
       "    .dataframe tbody tr th {\n",
       "        vertical-align: top;\n",
       "    }\n",
       "\n",
       "    .dataframe thead th {\n",
       "        text-align: right;\n",
       "    }\n",
       "</style>\n",
       "<table border=\"1\" class=\"dataframe\">\n",
       "  <thead>\n",
       "    <tr style=\"text-align: right;\">\n",
       "      <th></th>\n",
       "      <th>id</th>\n",
       "      <th>belongs_to_collection</th>\n",
       "      <th>budget</th>\n",
       "      <th>genres</th>\n",
       "      <th>homepage</th>\n",
       "      <th>imdb_id</th>\n",
       "      <th>original_language</th>\n",
       "      <th>original_title</th>\n",
       "      <th>overview</th>\n",
       "      <th>popularity</th>\n",
       "      <th>...</th>\n",
       "      <th>History</th>\n",
       "      <th>Horror</th>\n",
       "      <th>Music</th>\n",
       "      <th>Mystery</th>\n",
       "      <th>Romance</th>\n",
       "      <th>Science Fiction</th>\n",
       "      <th>TV Movie</th>\n",
       "      <th>Thriller</th>\n",
       "      <th>War</th>\n",
       "      <th>Western</th>\n",
       "    </tr>\n",
       "  </thead>\n",
       "  <tbody>\n",
       "    <tr>\n",
       "      <th>2826</th>\n",
       "      <td>2827</td>\n",
       "      <td>NaN</td>\n",
       "      <td>1500000</td>\n",
       "      <td>[18, 80]</td>\n",
       "      <td>NaN</td>\n",
       "      <td>tt0113540</td>\n",
       "      <td>en</td>\n",
       "      <td>Kids</td>\n",
       "      <td>A controversial portrayal of teens in New York...</td>\n",
       "      <td>4.877872</td>\n",
       "      <td>...</td>\n",
       "      <td>0</td>\n",
       "      <td>0</td>\n",
       "      <td>0</td>\n",
       "      <td>0</td>\n",
       "      <td>0</td>\n",
       "      <td>0</td>\n",
       "      <td>0</td>\n",
       "      <td>0</td>\n",
       "      <td>0</td>\n",
       "      <td>0</td>\n",
       "    </tr>\n",
       "    <tr>\n",
       "      <th>518</th>\n",
       "      <td>519</td>\n",
       "      <td>Wonder Woman Collection</td>\n",
       "      <td>149000000</td>\n",
       "      <td>[28, 12, 14]</td>\n",
       "      <td>http://www.warnerbros.com/wonder-woman</td>\n",
       "      <td>tt0451279</td>\n",
       "      <td>en</td>\n",
       "      <td>Wonder Woman</td>\n",
       "      <td>An Amazon princess comes to the world of Man t...</td>\n",
       "      <td>294.337037</td>\n",
       "      <td>...</td>\n",
       "      <td>0</td>\n",
       "      <td>0</td>\n",
       "      <td>0</td>\n",
       "      <td>0</td>\n",
       "      <td>0</td>\n",
       "      <td>0</td>\n",
       "      <td>0</td>\n",
       "      <td>0</td>\n",
       "      <td>0</td>\n",
       "      <td>0</td>\n",
       "    </tr>\n",
       "    <tr>\n",
       "      <th>929</th>\n",
       "      <td>930</td>\n",
       "      <td>NaN</td>\n",
       "      <td>5000000</td>\n",
       "      <td>[10751, 14, 878, 12, 35]</td>\n",
       "      <td>NaN</td>\n",
       "      <td>tt0081633</td>\n",
       "      <td>en</td>\n",
       "      <td>Time Bandits</td>\n",
       "      <td>Young history buff Kevin can scarcely believe ...</td>\n",
       "      <td>9.841623</td>\n",
       "      <td>...</td>\n",
       "      <td>0</td>\n",
       "      <td>0</td>\n",
       "      <td>0</td>\n",
       "      <td>0</td>\n",
       "      <td>0</td>\n",
       "      <td>1</td>\n",
       "      <td>0</td>\n",
       "      <td>0</td>\n",
       "      <td>0</td>\n",
       "      <td>0</td>\n",
       "    </tr>\n",
       "  </tbody>\n",
       "</table>\n",
       "<p>3 rows × 44 columns</p>\n",
       "</div>"
      ],
      "text/plain": [
       "        id    belongs_to_collection     budget                    genres  \\\n",
       "2826  2827                      NaN    1500000                  [18, 80]   \n",
       "518    519  Wonder Woman Collection  149000000              [28, 12, 14]   \n",
       "929    930                      NaN    5000000  [10751, 14, 878, 12, 35]   \n",
       "\n",
       "                                    homepage    imdb_id original_language  \\\n",
       "2826                                     NaN  tt0113540                en   \n",
       "518   http://www.warnerbros.com/wonder-woman  tt0451279                en   \n",
       "929                                      NaN  tt0081633                en   \n",
       "\n",
       "     original_title                                           overview  \\\n",
       "2826           Kids  A controversial portrayal of teens in New York...   \n",
       "518    Wonder Woman  An Amazon princess comes to the world of Man t...   \n",
       "929    Time Bandits  Young history buff Kevin can scarcely believe ...   \n",
       "\n",
       "      popularity  ... History Horror Music Mystery  Romance Science Fiction  \\\n",
       "2826    4.877872  ...       0      0     0       0        0               0   \n",
       "518   294.337037  ...       0      0     0       0        0               0   \n",
       "929     9.841623  ...       0      0     0       0        0               1   \n",
       "\n",
       "     TV Movie Thriller War Western  \n",
       "2826        0        0   0       0  \n",
       "518         0        0   0       0  \n",
       "929         0        0   0       0  \n",
       "\n",
       "[3 rows x 44 columns]"
      ]
     },
     "execution_count": 531,
     "metadata": {},
     "output_type": "execute_result"
    }
   ],
   "source": [
    "train_data_c.sample(3)"
   ]
  },
  {
   "cell_type": "markdown",
   "id": "3177f344-0e36-4494-b6d6-1f17f6f3399a",
   "metadata": {},
   "source": [
    "#### spoken_languages"
   ]
  },
  {
   "cell_type": "code",
   "execution_count": 532,
   "id": "c6df3560-a7e5-4d5f-a306-afa6021e1f05",
   "metadata": {},
   "outputs": [
    {
     "data": {
      "text/plain": [
       "0                [{'iso_639_1': 'en', 'name': 'English'}]\n",
       "1                [{'iso_639_1': 'en', 'name': 'English'}]\n",
       "2                [{'iso_639_1': 'en', 'name': 'English'}]\n",
       "3       [{'iso_639_1': 'en', 'name': 'English'}, {'iso...\n",
       "4                [{'iso_639_1': 'ko', 'name': '한국어/조선말'}]\n",
       "                              ...                        \n",
       "2995             [{'iso_639_1': 'en', 'name': 'English'}]\n",
       "2996             [{'iso_639_1': 'sv', 'name': 'svenska'}]\n",
       "2997             [{'iso_639_1': 'en', 'name': 'English'}]\n",
       "2998             [{'iso_639_1': 'en', 'name': 'English'}]\n",
       "2999             [{'iso_639_1': 'en', 'name': 'English'}]\n",
       "Name: spoken_languages, Length: 3000, dtype: object"
      ]
     },
     "execution_count": 532,
     "metadata": {},
     "output_type": "execute_result"
    }
   ],
   "source": [
    "train_data_c['spoken_languages']"
   ]
  },
  {
   "cell_type": "code",
   "execution_count": 533,
   "id": "104ca2cb-eef8-4127-8f9f-a55273987a75",
   "metadata": {},
   "outputs": [],
   "source": [
    "languages_dict = {}\n",
    "languages_count = {}\n",
    "for r in train_data_c['spoken_languages']:\n",
    "    for i in r:\n",
    "        if not i['iso_639_1'] in languages_dict.values():\n",
    "            languages_dict[i['iso_639_1']] = i['name']\n",
    "            \n",
    "        languages_count[i['iso_639_1']] = languages_count.get(i['iso_639_1'], 0) + 1          "
   ]
  },
  {
   "cell_type": "code",
   "execution_count": 534,
   "id": "1f60df18-6606-4b84-b3bd-3f66352df62b",
   "metadata": {},
   "outputs": [],
   "source": [
    "#languages_count"
   ]
  },
  {
   "cell_type": "code",
   "execution_count": 535,
   "id": "74f8fc6d-0df8-47d3-8f1d-0e2c6dcd8c49",
   "metadata": {},
   "outputs": [],
   "source": [
    "#languages_dict"
   ]
  },
  {
   "cell_type": "markdown",
   "id": "0dadac78-42c6-4596-92f6-0062f8865bbe",
   "metadata": {},
   "source": [
    "Языков довольно много, поэтому сделаем несколько признаков:\\\n",
    "    1 - Кол-во языков\\\n",
    "    2 - Принадлежность к топ 10 самых популярных"
   ]
  },
  {
   "cell_type": "code",
   "execution_count": 536,
   "id": "55092a8e-996d-45c4-8b8b-8b6c191b0312",
   "metadata": {},
   "outputs": [],
   "source": [
    "# Выведем список языкв, отсортированный от популярных к менее популярным. В качестве ключа используем метку языка iso_639_1 так как она есть у всех языков\n",
    "languages_count_sorted = dict(sorted(languages_count.items(), key=lambda x: x[1], reverse=True))"
   ]
  },
  {
   "cell_type": "code",
   "execution_count": 537,
   "id": "8000bc39-3658-4e86-a8b6-63bcdf4ea8d8",
   "metadata": {},
   "outputs": [],
   "source": [
    "#languages_count_sorted"
   ]
  },
  {
   "cell_type": "code",
   "execution_count": 538,
   "id": "0e12a615-317f-40c9-8a38-b29f7326a283",
   "metadata": {},
   "outputs": [],
   "source": [
    "train_data_c['spoken_languages'] = train_data_c['spoken_languages'].apply(lambda x: get_feature_val(x, 'iso_639_1'))\n",
    "test_data_c['spoken_languages'] = test_data_c['spoken_languages'].apply(lambda x: get_feature_val(x, 'iso_639_1'))"
   ]
  },
  {
   "cell_type": "code",
   "execution_count": 539,
   "id": "286db8ea-56b7-4322-a328-8dad98842218",
   "metadata": {},
   "outputs": [
    {
     "data": {
      "text/plain": [
       "0           [en]\n",
       "1           [en]\n",
       "2           [en]\n",
       "3       [en, hi]\n",
       "4           [ko]\n",
       "          ...   \n",
       "2995        [en]\n",
       "2996        [sv]\n",
       "2997        [en]\n",
       "2998        [en]\n",
       "2999        [en]\n",
       "Name: spoken_languages, Length: 3000, dtype: object"
      ]
     },
     "execution_count": 539,
     "metadata": {},
     "output_type": "execute_result"
    }
   ],
   "source": [
    "train_data_c['spoken_languages']"
   ]
  },
  {
   "cell_type": "code",
   "execution_count": 540,
   "id": "dd20cb8d-5ed4-4cde-bb06-e200f43f1044",
   "metadata": {},
   "outputs": [],
   "source": [
    "train_data_c['spoken_languages_cnt'] = train_data_c['spoken_languages'].apply(lambda x: len(set(x)))\n",
    "test_data_c['spoken_languages_cnt'] = test_data_c['spoken_languages'].apply(lambda x: len(set(x)))"
   ]
  },
  {
   "cell_type": "code",
   "execution_count": 541,
   "id": "1dfff8e3-1e7d-43dd-8a80-cca4bf0ae2a2",
   "metadata": {},
   "outputs": [
    {
     "data": {
      "text/plain": [
       "0       1\n",
       "1       1\n",
       "2       1\n",
       "3       2\n",
       "4       1\n",
       "       ..\n",
       "2995    1\n",
       "2996    1\n",
       "2997    1\n",
       "2998    1\n",
       "2999    1\n",
       "Name: spoken_languages_cnt, Length: 3000, dtype: int64"
      ]
     },
     "execution_count": 541,
     "metadata": {},
     "output_type": "execute_result"
    }
   ],
   "source": [
    "train_data_c['spoken_languages_cnt']"
   ]
  },
  {
   "cell_type": "code",
   "execution_count": 542,
   "id": "49852040-c057-4bdf-9fee-2ed08f2b9f72",
   "metadata": {},
   "outputs": [],
   "source": [
    "for i in list(languages_count_sorted.keys())[:10]:\n",
    "    train_data_c['spoken_languages_'+str(i)] = 0\n",
    "    test_data_c['spoken_languages_'+str(i)] = 0"
   ]
  },
  {
   "cell_type": "code",
   "execution_count": 543,
   "id": "4927f2b0-c889-4535-bb2f-ea9723e98893",
   "metadata": {},
   "outputs": [],
   "source": [
    "for v in list(languages_count_sorted.keys())[:10]:\n",
    "    train_data_c['spoken_languages_'+str(v)] = np.where(train_data_c['spoken_languages'].apply(lambda x: v in x)==1, 1, 0)\n",
    "    test_data_c['spoken_languages_'+str(v)] = np.where(test_data_c['spoken_languages'].apply(lambda x: v in x)==1, 1, 0)"
   ]
  },
  {
   "cell_type": "code",
   "execution_count": 544,
   "id": "67443659-07d6-4dae-9961-dd9ae0ee5aaa",
   "metadata": {},
   "outputs": [
    {
     "data": {
      "text/html": [
       "<div>\n",
       "<style scoped>\n",
       "    .dataframe tbody tr th:only-of-type {\n",
       "        vertical-align: middle;\n",
       "    }\n",
       "\n",
       "    .dataframe tbody tr th {\n",
       "        vertical-align: top;\n",
       "    }\n",
       "\n",
       "    .dataframe thead th {\n",
       "        text-align: right;\n",
       "    }\n",
       "</style>\n",
       "<table border=\"1\" class=\"dataframe\">\n",
       "  <thead>\n",
       "    <tr style=\"text-align: right;\">\n",
       "      <th></th>\n",
       "      <th>id</th>\n",
       "      <th>belongs_to_collection</th>\n",
       "      <th>budget</th>\n",
       "      <th>genres</th>\n",
       "      <th>homepage</th>\n",
       "      <th>imdb_id</th>\n",
       "      <th>original_language</th>\n",
       "      <th>original_title</th>\n",
       "      <th>overview</th>\n",
       "      <th>popularity</th>\n",
       "      <th>...</th>\n",
       "      <th>spoken_languages_en</th>\n",
       "      <th>spoken_languages_fr</th>\n",
       "      <th>spoken_languages_es</th>\n",
       "      <th>spoken_languages_de</th>\n",
       "      <th>spoken_languages_ru</th>\n",
       "      <th>spoken_languages_it</th>\n",
       "      <th>spoken_languages_ja</th>\n",
       "      <th>spoken_languages_zh</th>\n",
       "      <th>spoken_languages_hi</th>\n",
       "      <th>spoken_languages_pt</th>\n",
       "    </tr>\n",
       "  </thead>\n",
       "  <tbody>\n",
       "    <tr>\n",
       "      <th>0</th>\n",
       "      <td>1</td>\n",
       "      <td>Hot Tub Time Machine Collection</td>\n",
       "      <td>14000000</td>\n",
       "      <td>[35]</td>\n",
       "      <td>NaN</td>\n",
       "      <td>tt2637294</td>\n",
       "      <td>en</td>\n",
       "      <td>Hot Tub Time Machine 2</td>\n",
       "      <td>When Lou, who has become the \"father of the In...</td>\n",
       "      <td>6.575393</td>\n",
       "      <td>...</td>\n",
       "      <td>1</td>\n",
       "      <td>0</td>\n",
       "      <td>0</td>\n",
       "      <td>0</td>\n",
       "      <td>0</td>\n",
       "      <td>0</td>\n",
       "      <td>0</td>\n",
       "      <td>0</td>\n",
       "      <td>0</td>\n",
       "      <td>0</td>\n",
       "    </tr>\n",
       "    <tr>\n",
       "      <th>1</th>\n",
       "      <td>2</td>\n",
       "      <td>The Princess Diaries Collection</td>\n",
       "      <td>40000000</td>\n",
       "      <td>[35, 18, 10751, 10749]</td>\n",
       "      <td>NaN</td>\n",
       "      <td>tt0368933</td>\n",
       "      <td>en</td>\n",
       "      <td>The Princess Diaries 2: Royal Engagement</td>\n",
       "      <td>Mia Thermopolis is now a college graduate and ...</td>\n",
       "      <td>8.248895</td>\n",
       "      <td>...</td>\n",
       "      <td>1</td>\n",
       "      <td>0</td>\n",
       "      <td>0</td>\n",
       "      <td>0</td>\n",
       "      <td>0</td>\n",
       "      <td>0</td>\n",
       "      <td>0</td>\n",
       "      <td>0</td>\n",
       "      <td>0</td>\n",
       "      <td>0</td>\n",
       "    </tr>\n",
       "    <tr>\n",
       "      <th>2</th>\n",
       "      <td>3</td>\n",
       "      <td>NaN</td>\n",
       "      <td>3300000</td>\n",
       "      <td>[18]</td>\n",
       "      <td>http://sonyclassics.com/whiplash/</td>\n",
       "      <td>tt2582802</td>\n",
       "      <td>en</td>\n",
       "      <td>Whiplash</td>\n",
       "      <td>Under the direction of a ruthless instructor, ...</td>\n",
       "      <td>64.299990</td>\n",
       "      <td>...</td>\n",
       "      <td>1</td>\n",
       "      <td>0</td>\n",
       "      <td>0</td>\n",
       "      <td>0</td>\n",
       "      <td>0</td>\n",
       "      <td>0</td>\n",
       "      <td>0</td>\n",
       "      <td>0</td>\n",
       "      <td>0</td>\n",
       "      <td>0</td>\n",
       "    </tr>\n",
       "  </tbody>\n",
       "</table>\n",
       "<p>3 rows × 55 columns</p>\n",
       "</div>"
      ],
      "text/plain": [
       "   id            belongs_to_collection    budget                  genres  \\\n",
       "0   1  Hot Tub Time Machine Collection  14000000                    [35]   \n",
       "1   2  The Princess Diaries Collection  40000000  [35, 18, 10751, 10749]   \n",
       "2   3                              NaN   3300000                    [18]   \n",
       "\n",
       "                            homepage    imdb_id original_language  \\\n",
       "0                                NaN  tt2637294                en   \n",
       "1                                NaN  tt0368933                en   \n",
       "2  http://sonyclassics.com/whiplash/  tt2582802                en   \n",
       "\n",
       "                             original_title  \\\n",
       "0                    Hot Tub Time Machine 2   \n",
       "1  The Princess Diaries 2: Royal Engagement   \n",
       "2                                  Whiplash   \n",
       "\n",
       "                                            overview  popularity  ...  \\\n",
       "0  When Lou, who has become the \"father of the In...    6.575393  ...   \n",
       "1  Mia Thermopolis is now a college graduate and ...    8.248895  ...   \n",
       "2  Under the direction of a ruthless instructor, ...   64.299990  ...   \n",
       "\n",
       "  spoken_languages_en spoken_languages_fr spoken_languages_es  \\\n",
       "0                   1                   0                   0   \n",
       "1                   1                   0                   0   \n",
       "2                   1                   0                   0   \n",
       "\n",
       "  spoken_languages_de  spoken_languages_ru spoken_languages_it  \\\n",
       "0                   0                    0                   0   \n",
       "1                   0                    0                   0   \n",
       "2                   0                    0                   0   \n",
       "\n",
       "  spoken_languages_ja spoken_languages_zh spoken_languages_hi  \\\n",
       "0                   0                   0                   0   \n",
       "1                   0                   0                   0   \n",
       "2                   0                   0                   0   \n",
       "\n",
       "  spoken_languages_pt  \n",
       "0                   0  \n",
       "1                   0  \n",
       "2                   0  \n",
       "\n",
       "[3 rows x 55 columns]"
      ]
     },
     "execution_count": 544,
     "metadata": {},
     "output_type": "execute_result"
    }
   ],
   "source": [
    "train_data_c[:3]"
   ]
  },
  {
   "cell_type": "code",
   "execution_count": 545,
   "id": "a5444992-8336-4c8d-b949-e1b6beac4216",
   "metadata": {},
   "outputs": [],
   "source": [
    "#test_data_c.columns.shape, train_data_c.columns.shape"
   ]
  },
  {
   "cell_type": "markdown",
   "id": "ca5d05cb-62cd-4401-8971-a8edcd1eb0ed",
   "metadata": {},
   "source": [
    "#### Keywords"
   ]
  },
  {
   "cell_type": "code",
   "execution_count": 546,
   "id": "b011e9f3-12f2-4547-afa4-2b428deac4fc",
   "metadata": {},
   "outputs": [
    {
     "data": {
      "text/plain": [
       "0       [{'id': 4379, 'name': 'time travel'}, {'id': 9...\n",
       "1       [{'id': 2505, 'name': 'coronation'}, {'id': 42...\n",
       "2       [{'id': 1416, 'name': 'jazz'}, {'id': 1523, 'n...\n",
       "3       [{'id': 10092, 'name': 'mystery'}, {'id': 1054...\n",
       "4                                                      []\n",
       "                              ...                        \n",
       "2995    [{'id': 378, 'name': 'prison'}, {'id': 572, 'n...\n",
       "2996    [{'id': 1192, 'name': 'sweden'}, {'id': 4470, ...\n",
       "2997    [{'id': 441, 'name': 'assassination'}, {'id': ...\n",
       "2998    [{'id': 966, 'name': 'beach'}, {'id': 2676, 'n...\n",
       "2999    [{'id': 591, 'name': 'cia'}, {'id': 822, 'name...\n",
       "Name: Keywords, Length: 3000, dtype: object"
      ]
     },
     "execution_count": 546,
     "metadata": {},
     "output_type": "execute_result"
    }
   ],
   "source": [
    "train_data_c['Keywords']"
   ]
  },
  {
   "cell_type": "code",
   "execution_count": 547,
   "id": "93236b60-3745-4cb7-88b7-4143aa0c7ffc",
   "metadata": {},
   "outputs": [],
   "source": [
    "keywords_dict = {}\n",
    "keywords_cnt = {}\n",
    "for r in train_data_c['Keywords']:\n",
    "    for i in r:\n",
    "        if not i['id'] in keywords_dict.values():\n",
    "            keywords_dict[i['id']] = i['name']\n",
    "            \n",
    "    keywords_cnt[i['id']] = keywords_cnt.get(i['id'], 0) + 1  "
   ]
  },
  {
   "cell_type": "code",
   "execution_count": 548,
   "id": "88df6670-04e6-4feb-b506-ed7c153f845b",
   "metadata": {},
   "outputs": [],
   "source": [
    "#keywords_dict"
   ]
  },
  {
   "cell_type": "code",
   "execution_count": 549,
   "id": "dfd581b8-8ff1-43f1-9a5c-f2e600abba8d",
   "metadata": {},
   "outputs": [],
   "source": [
    "keywords_cnt_sorted = dict(sorted(keywords_cnt.items(), key=lambda x: x[1], reverse=True))"
   ]
  },
  {
   "cell_type": "code",
   "execution_count": 550,
   "id": "40a7ef94-e6b0-48eb-93c5-7d13f4bfa370",
   "metadata": {},
   "outputs": [],
   "source": [
    "#keywords_cnt_sorted"
   ]
  },
  {
   "cell_type": "code",
   "execution_count": 551,
   "id": "b7cc92c0-37b8-4ec2-a678-9141bbde00db",
   "metadata": {},
   "outputs": [],
   "source": [
    "train_data_c['Keywords'] = train_data_c['Keywords'].apply(get_feature_val)\n",
    "test_data_c['Keywords'] = test_data_c['Keywords'].apply(get_feature_val)"
   ]
  },
  {
   "cell_type": "code",
   "execution_count": 552,
   "id": "e0c952c8-db55-4c2a-a305-657d7b9478a1",
   "metadata": {},
   "outputs": [
    {
     "data": {
      "text/plain": [
       "0                          [4379, 9663, 11830, 179431]\n",
       "1                            [2505, 4263, 6038, 13072]\n",
       "2    [1416, 1523, 1640, 2176, 14512, 14819, 33896, ...\n",
       "Name: Keywords, dtype: object"
      ]
     },
     "execution_count": 552,
     "metadata": {},
     "output_type": "execute_result"
    }
   ],
   "source": [
    "train_data_c['Keywords'][:3]"
   ]
  },
  {
   "cell_type": "code",
   "execution_count": 553,
   "id": "4f211435-8295-4697-8bea-45728fdccf86",
   "metadata": {},
   "outputs": [],
   "source": [
    "for ids in list(keywords_cnt_sorted.keys())[:10]:\n",
    "    keyword = keywords_dict[ids]\n",
    "    col_name = ('has_'+str(keyword)+'_keyword').replace(' ', '_')\n",
    "    train_data_c[col_name] = 0\n",
    "    test_data_c[col_name] = 0"
   ]
  },
  {
   "cell_type": "code",
   "execution_count": 554,
   "id": "9b2387ed-df88-4706-902e-eb0dc2e42ff3",
   "metadata": {},
   "outputs": [],
   "source": [
    "for ids in list(keywords_cnt_sorted.keys())[:10]:\n",
    "    keyword = keywords_dict[ids]\n",
    "    col_name = ('has_'+str(keyword)+'_keyword').replace(' ', '_')\n",
    "    train_data_c[col_name] = np.where(train_data_c['Keywords'].apply(lambda x: v in x)==1, 1, 0)\n",
    "    test_data_c[col_name] = np.where(test_data_c['Keywords'].apply(lambda x: v in x)==1, 1, 0)"
   ]
  },
  {
   "cell_type": "code",
   "execution_count": 555,
   "id": "1aaccf96-6564-4f52-a49f-5f4d9d1b5265",
   "metadata": {},
   "outputs": [
    {
     "data": {
      "text/html": [
       "<div>\n",
       "<style scoped>\n",
       "    .dataframe tbody tr th:only-of-type {\n",
       "        vertical-align: middle;\n",
       "    }\n",
       "\n",
       "    .dataframe tbody tr th {\n",
       "        vertical-align: top;\n",
       "    }\n",
       "\n",
       "    .dataframe thead th {\n",
       "        text-align: right;\n",
       "    }\n",
       "</style>\n",
       "<table border=\"1\" class=\"dataframe\">\n",
       "  <thead>\n",
       "    <tr style=\"text-align: right;\">\n",
       "      <th></th>\n",
       "      <th>id</th>\n",
       "      <th>belongs_to_collection</th>\n",
       "      <th>budget</th>\n",
       "      <th>genres</th>\n",
       "      <th>homepage</th>\n",
       "      <th>imdb_id</th>\n",
       "      <th>original_language</th>\n",
       "      <th>original_title</th>\n",
       "      <th>overview</th>\n",
       "      <th>popularity</th>\n",
       "      <th>...</th>\n",
       "      <th>has_woman_director_keyword</th>\n",
       "      <th>has_duringcreditsstinger_keyword</th>\n",
       "      <th>has_independent_film_keyword</th>\n",
       "      <th>has_3d_keyword</th>\n",
       "      <th>has_aftercreditsstinger_keyword</th>\n",
       "      <th>has_based_on_young_adult_novel_keyword</th>\n",
       "      <th>has_family_keyword</th>\n",
       "      <th>has_sport_keyword</th>\n",
       "      <th>has_los_angeles_keyword</th>\n",
       "      <th>has_hoodlum_keyword</th>\n",
       "    </tr>\n",
       "  </thead>\n",
       "  <tbody>\n",
       "    <tr>\n",
       "      <th>0</th>\n",
       "      <td>1</td>\n",
       "      <td>Hot Tub Time Machine Collection</td>\n",
       "      <td>14000000</td>\n",
       "      <td>[35]</td>\n",
       "      <td>NaN</td>\n",
       "      <td>tt2637294</td>\n",
       "      <td>en</td>\n",
       "      <td>Hot Tub Time Machine 2</td>\n",
       "      <td>When Lou, who has become the \"father of the In...</td>\n",
       "      <td>6.575393</td>\n",
       "      <td>...</td>\n",
       "      <td>0</td>\n",
       "      <td>0</td>\n",
       "      <td>0</td>\n",
       "      <td>0</td>\n",
       "      <td>0</td>\n",
       "      <td>0</td>\n",
       "      <td>0</td>\n",
       "      <td>0</td>\n",
       "      <td>0</td>\n",
       "      <td>0</td>\n",
       "    </tr>\n",
       "    <tr>\n",
       "      <th>1</th>\n",
       "      <td>2</td>\n",
       "      <td>The Princess Diaries Collection</td>\n",
       "      <td>40000000</td>\n",
       "      <td>[35, 18, 10751, 10749]</td>\n",
       "      <td>NaN</td>\n",
       "      <td>tt0368933</td>\n",
       "      <td>en</td>\n",
       "      <td>The Princess Diaries 2: Royal Engagement</td>\n",
       "      <td>Mia Thermopolis is now a college graduate and ...</td>\n",
       "      <td>8.248895</td>\n",
       "      <td>...</td>\n",
       "      <td>0</td>\n",
       "      <td>0</td>\n",
       "      <td>0</td>\n",
       "      <td>0</td>\n",
       "      <td>0</td>\n",
       "      <td>0</td>\n",
       "      <td>0</td>\n",
       "      <td>0</td>\n",
       "      <td>0</td>\n",
       "      <td>0</td>\n",
       "    </tr>\n",
       "    <tr>\n",
       "      <th>2</th>\n",
       "      <td>3</td>\n",
       "      <td>NaN</td>\n",
       "      <td>3300000</td>\n",
       "      <td>[18]</td>\n",
       "      <td>http://sonyclassics.com/whiplash/</td>\n",
       "      <td>tt2582802</td>\n",
       "      <td>en</td>\n",
       "      <td>Whiplash</td>\n",
       "      <td>Under the direction of a ruthless instructor, ...</td>\n",
       "      <td>64.299990</td>\n",
       "      <td>...</td>\n",
       "      <td>0</td>\n",
       "      <td>0</td>\n",
       "      <td>0</td>\n",
       "      <td>0</td>\n",
       "      <td>0</td>\n",
       "      <td>0</td>\n",
       "      <td>0</td>\n",
       "      <td>0</td>\n",
       "      <td>0</td>\n",
       "      <td>0</td>\n",
       "    </tr>\n",
       "  </tbody>\n",
       "</table>\n",
       "<p>3 rows × 65 columns</p>\n",
       "</div>"
      ],
      "text/plain": [
       "   id            belongs_to_collection    budget                  genres  \\\n",
       "0   1  Hot Tub Time Machine Collection  14000000                    [35]   \n",
       "1   2  The Princess Diaries Collection  40000000  [35, 18, 10751, 10749]   \n",
       "2   3                              NaN   3300000                    [18]   \n",
       "\n",
       "                            homepage    imdb_id original_language  \\\n",
       "0                                NaN  tt2637294                en   \n",
       "1                                NaN  tt0368933                en   \n",
       "2  http://sonyclassics.com/whiplash/  tt2582802                en   \n",
       "\n",
       "                             original_title  \\\n",
       "0                    Hot Tub Time Machine 2   \n",
       "1  The Princess Diaries 2: Royal Engagement   \n",
       "2                                  Whiplash   \n",
       "\n",
       "                                            overview  popularity  ...  \\\n",
       "0  When Lou, who has become the \"father of the In...    6.575393  ...   \n",
       "1  Mia Thermopolis is now a college graduate and ...    8.248895  ...   \n",
       "2  Under the direction of a ruthless instructor, ...   64.299990  ...   \n",
       "\n",
       "  has_woman_director_keyword has_duringcreditsstinger_keyword  \\\n",
       "0                          0                                0   \n",
       "1                          0                                0   \n",
       "2                          0                                0   \n",
       "\n",
       "  has_independent_film_keyword has_3d_keyword  \\\n",
       "0                            0              0   \n",
       "1                            0              0   \n",
       "2                            0              0   \n",
       "\n",
       "   has_aftercreditsstinger_keyword has_based_on_young_adult_novel_keyword  \\\n",
       "0                                0                                      0   \n",
       "1                                0                                      0   \n",
       "2                                0                                      0   \n",
       "\n",
       "  has_family_keyword has_sport_keyword has_los_angeles_keyword  \\\n",
       "0                  0                 0                       0   \n",
       "1                  0                 0                       0   \n",
       "2                  0                 0                       0   \n",
       "\n",
       "  has_hoodlum_keyword  \n",
       "0                   0  \n",
       "1                   0  \n",
       "2                   0  \n",
       "\n",
       "[3 rows x 65 columns]"
      ]
     },
     "execution_count": 555,
     "metadata": {},
     "output_type": "execute_result"
    }
   ],
   "source": [
    "train_data_c[:3]"
   ]
  },
  {
   "cell_type": "markdown",
   "id": "76cba257-42fd-4bbc-a20c-43d75fd20fd5",
   "metadata": {},
   "source": [
    "#### cast"
   ]
  },
  {
   "cell_type": "code",
   "execution_count": 556,
   "id": "9685cb3b-978c-40a9-8f9f-4e4a2ef1d898",
   "metadata": {},
   "outputs": [],
   "source": [
    "#train_data_c['cast'][0]"
   ]
  },
  {
   "cell_type": "code",
   "execution_count": 557,
   "id": "dff23026-fd09-4d82-ae14-a78c5d8b2456",
   "metadata": {},
   "outputs": [],
   "source": [
    "cast_dict = {}\n",
    "cast_cnt = {}\n",
    "for r in train_data_c['cast']:\n",
    "    for i in r:\n",
    "        if not i['cast_id'] in cast_dict.values():\n",
    "            cast_dict[i['cast_id']] = i['name']\n",
    "            \n",
    "        cast_cnt[i['cast_id']] = cast_cnt.get(i['cast_id'], 0) + 1  "
   ]
  },
  {
   "cell_type": "code",
   "execution_count": 558,
   "id": "1e4a230f-f55d-4915-9f39-0472e46d8416",
   "metadata": {},
   "outputs": [],
   "source": [
    "cast_cnt_sorted = dict(sorted(cast_cnt.items(), key=lambda x: x[1], reverse=True))"
   ]
  },
  {
   "cell_type": "code",
   "execution_count": 559,
   "id": "f88cc27e-d7f3-4ec0-9443-b5f65eb24603",
   "metadata": {},
   "outputs": [],
   "source": [
    "#cast_cnt_sorted"
   ]
  },
  {
   "cell_type": "code",
   "execution_count": 560,
   "id": "930bdef9-b1f5-4439-9b0e-4af5f0f03035",
   "metadata": {},
   "outputs": [],
   "source": [
    "#train_data_c['cast'][0]"
   ]
  },
  {
   "cell_type": "markdown",
   "id": "0898ac8c-ece2-4cb5-9bca-aadabfa993d2",
   "metadata": {},
   "source": [
    "Сделаем 2 фичи связанные с актерским составом:\\\n",
    "    1 - Кол-во актеров\\\n",
    "Хотел добавить кол-во актеров того или ного пола, но с определением пола в датасете проблематично"
   ]
  },
  {
   "cell_type": "code",
   "execution_count": 561,
   "id": "96c8738a-287c-4d27-8c86-feaea1768bb6",
   "metadata": {},
   "outputs": [],
   "source": [
    "train_data_c['cast_cnt'] = train_data_c['cast'].apply(lambda x: len(set(get_feature_val(x, 'cast_id'))))\n",
    "test_data_c['cast_cnt'] = test_data_c['cast'].apply(lambda x: len(set(get_feature_val(x, 'cast_id'))))"
   ]
  },
  {
   "cell_type": "code",
   "execution_count": 562,
   "id": "73582615-6a0f-4881-8a17-31bcb05eaf4e",
   "metadata": {},
   "outputs": [
    {
     "data": {
      "text/html": [
       "<div>\n",
       "<style scoped>\n",
       "    .dataframe tbody tr th:only-of-type {\n",
       "        vertical-align: middle;\n",
       "    }\n",
       "\n",
       "    .dataframe tbody tr th {\n",
       "        vertical-align: top;\n",
       "    }\n",
       "\n",
       "    .dataframe thead th {\n",
       "        text-align: right;\n",
       "    }\n",
       "</style>\n",
       "<table border=\"1\" class=\"dataframe\">\n",
       "  <thead>\n",
       "    <tr style=\"text-align: right;\">\n",
       "      <th></th>\n",
       "      <th>id</th>\n",
       "      <th>belongs_to_collection</th>\n",
       "      <th>budget</th>\n",
       "      <th>genres</th>\n",
       "      <th>homepage</th>\n",
       "      <th>imdb_id</th>\n",
       "      <th>original_language</th>\n",
       "      <th>original_title</th>\n",
       "      <th>overview</th>\n",
       "      <th>popularity</th>\n",
       "      <th>...</th>\n",
       "      <th>has_duringcreditsstinger_keyword</th>\n",
       "      <th>has_independent_film_keyword</th>\n",
       "      <th>has_3d_keyword</th>\n",
       "      <th>has_aftercreditsstinger_keyword</th>\n",
       "      <th>has_based_on_young_adult_novel_keyword</th>\n",
       "      <th>has_family_keyword</th>\n",
       "      <th>has_sport_keyword</th>\n",
       "      <th>has_los_angeles_keyword</th>\n",
       "      <th>has_hoodlum_keyword</th>\n",
       "      <th>cast_cnt</th>\n",
       "    </tr>\n",
       "  </thead>\n",
       "  <tbody>\n",
       "    <tr>\n",
       "      <th>0</th>\n",
       "      <td>1</td>\n",
       "      <td>Hot Tub Time Machine Collection</td>\n",
       "      <td>14000000</td>\n",
       "      <td>[35]</td>\n",
       "      <td>NaN</td>\n",
       "      <td>tt2637294</td>\n",
       "      <td>en</td>\n",
       "      <td>Hot Tub Time Machine 2</td>\n",
       "      <td>When Lou, who has become the \"father of the In...</td>\n",
       "      <td>6.575393</td>\n",
       "      <td>...</td>\n",
       "      <td>0</td>\n",
       "      <td>0</td>\n",
       "      <td>0</td>\n",
       "      <td>0</td>\n",
       "      <td>0</td>\n",
       "      <td>0</td>\n",
       "      <td>0</td>\n",
       "      <td>0</td>\n",
       "      <td>0</td>\n",
       "      <td>24</td>\n",
       "    </tr>\n",
       "    <tr>\n",
       "      <th>1</th>\n",
       "      <td>2</td>\n",
       "      <td>The Princess Diaries Collection</td>\n",
       "      <td>40000000</td>\n",
       "      <td>[35, 18, 10751, 10749]</td>\n",
       "      <td>NaN</td>\n",
       "      <td>tt0368933</td>\n",
       "      <td>en</td>\n",
       "      <td>The Princess Diaries 2: Royal Engagement</td>\n",
       "      <td>Mia Thermopolis is now a college graduate and ...</td>\n",
       "      <td>8.248895</td>\n",
       "      <td>...</td>\n",
       "      <td>0</td>\n",
       "      <td>0</td>\n",
       "      <td>0</td>\n",
       "      <td>0</td>\n",
       "      <td>0</td>\n",
       "      <td>0</td>\n",
       "      <td>0</td>\n",
       "      <td>0</td>\n",
       "      <td>0</td>\n",
       "      <td>20</td>\n",
       "    </tr>\n",
       "    <tr>\n",
       "      <th>2</th>\n",
       "      <td>3</td>\n",
       "      <td>NaN</td>\n",
       "      <td>3300000</td>\n",
       "      <td>[18]</td>\n",
       "      <td>http://sonyclassics.com/whiplash/</td>\n",
       "      <td>tt2582802</td>\n",
       "      <td>en</td>\n",
       "      <td>Whiplash</td>\n",
       "      <td>Under the direction of a ruthless instructor, ...</td>\n",
       "      <td>64.299990</td>\n",
       "      <td>...</td>\n",
       "      <td>0</td>\n",
       "      <td>0</td>\n",
       "      <td>0</td>\n",
       "      <td>0</td>\n",
       "      <td>0</td>\n",
       "      <td>0</td>\n",
       "      <td>0</td>\n",
       "      <td>0</td>\n",
       "      <td>0</td>\n",
       "      <td>51</td>\n",
       "    </tr>\n",
       "  </tbody>\n",
       "</table>\n",
       "<p>3 rows × 66 columns</p>\n",
       "</div>"
      ],
      "text/plain": [
       "   id            belongs_to_collection    budget                  genres  \\\n",
       "0   1  Hot Tub Time Machine Collection  14000000                    [35]   \n",
       "1   2  The Princess Diaries Collection  40000000  [35, 18, 10751, 10749]   \n",
       "2   3                              NaN   3300000                    [18]   \n",
       "\n",
       "                            homepage    imdb_id original_language  \\\n",
       "0                                NaN  tt2637294                en   \n",
       "1                                NaN  tt0368933                en   \n",
       "2  http://sonyclassics.com/whiplash/  tt2582802                en   \n",
       "\n",
       "                             original_title  \\\n",
       "0                    Hot Tub Time Machine 2   \n",
       "1  The Princess Diaries 2: Royal Engagement   \n",
       "2                                  Whiplash   \n",
       "\n",
       "                                            overview  popularity  ...  \\\n",
       "0  When Lou, who has become the \"father of the In...    6.575393  ...   \n",
       "1  Mia Thermopolis is now a college graduate and ...    8.248895  ...   \n",
       "2  Under the direction of a ruthless instructor, ...   64.299990  ...   \n",
       "\n",
       "  has_duringcreditsstinger_keyword has_independent_film_keyword  \\\n",
       "0                                0                            0   \n",
       "1                                0                            0   \n",
       "2                                0                            0   \n",
       "\n",
       "  has_3d_keyword has_aftercreditsstinger_keyword  \\\n",
       "0              0                               0   \n",
       "1              0                               0   \n",
       "2              0                               0   \n",
       "\n",
       "   has_based_on_young_adult_novel_keyword has_family_keyword  \\\n",
       "0                                       0                  0   \n",
       "1                                       0                  0   \n",
       "2                                       0                  0   \n",
       "\n",
       "  has_sport_keyword has_los_angeles_keyword has_hoodlum_keyword cast_cnt  \n",
       "0                 0                       0                   0       24  \n",
       "1                 0                       0                   0       20  \n",
       "2                 0                       0                   0       51  \n",
       "\n",
       "[3 rows x 66 columns]"
      ]
     },
     "execution_count": 562,
     "metadata": {},
     "output_type": "execute_result"
    }
   ],
   "source": [
    "train_data_c[:3]"
   ]
  },
  {
   "cell_type": "code",
   "execution_count": 563,
   "id": "da7df870-0837-486b-b359-895f07410e24",
   "metadata": {},
   "outputs": [],
   "source": [
    "train_data_c['cast'] = train_data_c['cast'].apply(lambda x: get_feature_val(x, 'cast_id'))\n",
    "test_data_c['cast'] = test_data_c['cast'].apply(lambda x: get_feature_val(x, 'cast_id'))"
   ]
  },
  {
   "cell_type": "code",
   "execution_count": 564,
   "id": "ed1c0573-9f60-456b-be70-7dfac13b3e91",
   "metadata": {},
   "outputs": [],
   "source": [
    "for ids in list(cast_cnt_sorted.keys())[:10]:\n",
    "    cast = cast_dict[ids]\n",
    "    col_name = ('with_'+str(cast)).replace(' ', '_')\n",
    "    train_data_c[col_name] = 0\n",
    "    test_data_c[col_name] = 0"
   ]
  },
  {
   "cell_type": "code",
   "execution_count": 565,
   "id": "70fa4ebe-cd7c-493c-8eb3-75f3c88423ea",
   "metadata": {},
   "outputs": [],
   "source": [
    "for ids in list(cast_cnt_sorted.keys())[:10]:\n",
    "    cast = cast_dict[ids]\n",
    "    col_name = ('with_'+str(cast)).replace(' ', '_')\n",
    "    train_data_c[col_name] = np.where(train_data_c['cast'].apply(lambda x: v in x)==1, 1, 0)\n",
    "    test_data_c[col_name] = np.where(test_data_c['cast'].apply(lambda x: v in x)==1, 1, 0)"
   ]
  },
  {
   "cell_type": "code",
   "execution_count": 566,
   "id": "d9dfe3ac-8be7-4674-878a-dfaae554f61d",
   "metadata": {},
   "outputs": [
    {
     "data": {
      "text/plain": [
       "Index(['id', 'belongs_to_collection', 'budget', 'genres', 'homepage',\n",
       "       'imdb_id', 'original_language', 'original_title', 'overview',\n",
       "       'popularity', 'poster_path', 'production_companies',\n",
       "       'production_countries', 'release_date', 'runtime', 'spoken_languages',\n",
       "       'status', 'tagline', 'title', 'Keywords', 'cast', 'crew', 'revenue',\n",
       "       'has_collection', 'Action', 'Adventure', 'Animation', 'Comedy', 'Crime',\n",
       "       'Documentary', 'Drama', 'Family', 'Fantasy', 'Foreign', 'History',\n",
       "       'Horror', 'Music', 'Mystery', 'Romance', 'Science Fiction', 'TV Movie',\n",
       "       'Thriller', 'War', 'Western', 'spoken_languages_cnt',\n",
       "       'spoken_languages_en', 'spoken_languages_fr', 'spoken_languages_es',\n",
       "       'spoken_languages_de', 'spoken_languages_ru', 'spoken_languages_it',\n",
       "       'spoken_languages_ja', 'spoken_languages_zh', 'spoken_languages_hi',\n",
       "       'spoken_languages_pt', 'has_woman_director_keyword',\n",
       "       'has_duringcreditsstinger_keyword', 'has_independent_film_keyword',\n",
       "       'has_3d_keyword', 'has_aftercreditsstinger_keyword',\n",
       "       'has_based_on_young_adult_novel_keyword', 'has_family_keyword',\n",
       "       'has_sport_keyword', 'has_los_angeles_keyword', 'has_hoodlum_keyword',\n",
       "       'cast_cnt', 'with_Alfred_Molina', 'with_Lily_Collins',\n",
       "       'with_Jason_Isaacs', 'with_Maria_Bello', 'with_Taylor_Lautner',\n",
       "       'with_Jsu_Garcia', 'with_Alec_Baldwin', 'with_Bryan_Brown',\n",
       "       'with_Michael_Nyqvist', 'with_Hank_Azaria'],\n",
       "      dtype='object')"
      ]
     },
     "execution_count": 566,
     "metadata": {},
     "output_type": "execute_result"
    }
   ],
   "source": [
    "train_data_c.columns"
   ]
  },
  {
   "cell_type": "markdown",
   "id": "c3e4ff02-940e-4ca9-bdbb-29a4f21da65d",
   "metadata": {},
   "source": [
    "#### crew"
   ]
  },
  {
   "cell_type": "code",
   "execution_count": 567,
   "id": "5c23a0f8-d41d-40f9-bbaa-14d5842e9406",
   "metadata": {},
   "outputs": [
    {
     "data": {
      "text/plain": [
       "0       [{'credit_id': '59ac067c92514107af02c8c8', 'de...\n",
       "1       [{'credit_id': '52fe43fe9251416c7502563d', 'de...\n",
       "2       [{'credit_id': '54d5356ec3a3683ba0000039', 'de...\n",
       "3       [{'credit_id': '52fe48779251416c9108d6eb', 'de...\n",
       "4       [{'credit_id': '52fe464b9251416c75073b43', 'de...\n",
       "                              ...                        \n",
       "2995    [{'credit_id': '52fe4494c3a368484e02ac7d', 'de...\n",
       "2996    [{'credit_id': '5716b72ac3a3686678012c84', 'de...\n",
       "2997    [{'credit_id': '52fe443a9251416c7502d579', 'de...\n",
       "2998    [{'credit_id': '556f817b9251410866000a63', 'de...\n",
       "2999    [{'credit_id': '5391990d0e0a260fb5001629', 'de...\n",
       "Name: crew, Length: 3000, dtype: object"
      ]
     },
     "execution_count": 567,
     "metadata": {},
     "output_type": "execute_result"
    }
   ],
   "source": [
    "train_data_c['crew']"
   ]
  },
  {
   "cell_type": "code",
   "execution_count": 568,
   "id": "9debafd4-d801-4eac-9dd8-878494d2cf56",
   "metadata": {},
   "outputs": [],
   "source": [
    "crew_dict = {}\n",
    "crew_cnt = {}\n",
    "job_set = set()\n",
    "for r in train_data_c['crew']:\n",
    "    for i in r:\n",
    "        if not i['id'] in crew_dict.values():\n",
    "            crew_dict[i['id']] = i['name']\n",
    "            \n",
    "        job_set.add(i['job']) # Хорошо было бы селекцию должностей провести, но их оказалось много, а я не разбираюсь\n",
    "        crew_cnt[i['id']] = crew_cnt.get(i['id'], 0) + 1  "
   ]
  },
  {
   "cell_type": "code",
   "execution_count": 569,
   "id": "ee1d03b0-8ef9-4cb5-9035-94582f912e93",
   "metadata": {},
   "outputs": [],
   "source": [
    "crew_cnt_sorted = dict(sorted(crew_cnt.items(), key=lambda x: x[1], reverse=True))"
   ]
  },
  {
   "cell_type": "code",
   "execution_count": 570,
   "id": "0a6cd141-314f-491f-ae9c-ddeb07d5d42d",
   "metadata": {},
   "outputs": [],
   "source": [
    "#crew_cnt_sorted"
   ]
  },
  {
   "cell_type": "code",
   "execution_count": 571,
   "id": "85cef7b2-ef60-4c82-95e0-4e502ed0f742",
   "metadata": {},
   "outputs": [],
   "source": [
    "#train_data_c['crew'][0]"
   ]
  },
  {
   "cell_type": "code",
   "execution_count": 572,
   "id": "7825f122-b44d-4bf8-9c83-52331f13ff47",
   "metadata": {},
   "outputs": [],
   "source": [
    "train_data_c['crew_cnt'] = train_data_c['crew'].apply(lambda x: len(set(get_feature_val(x, 'id'))))\n",
    "test_data_c['crew_cnt'] = test_data_c['crew'].apply(lambda x: len(set(get_feature_val(x, 'id'))))"
   ]
  },
  {
   "cell_type": "code",
   "execution_count": 573,
   "id": "f23232a7-8c19-436c-9551-779dde146cbd",
   "metadata": {},
   "outputs": [
    {
     "data": {
      "text/html": [
       "<div>\n",
       "<style scoped>\n",
       "    .dataframe tbody tr th:only-of-type {\n",
       "        vertical-align: middle;\n",
       "    }\n",
       "\n",
       "    .dataframe tbody tr th {\n",
       "        vertical-align: top;\n",
       "    }\n",
       "\n",
       "    .dataframe thead th {\n",
       "        text-align: right;\n",
       "    }\n",
       "</style>\n",
       "<table border=\"1\" class=\"dataframe\">\n",
       "  <thead>\n",
       "    <tr style=\"text-align: right;\">\n",
       "      <th></th>\n",
       "      <th>id</th>\n",
       "      <th>belongs_to_collection</th>\n",
       "      <th>budget</th>\n",
       "      <th>genres</th>\n",
       "      <th>homepage</th>\n",
       "      <th>imdb_id</th>\n",
       "      <th>original_language</th>\n",
       "      <th>original_title</th>\n",
       "      <th>overview</th>\n",
       "      <th>popularity</th>\n",
       "      <th>...</th>\n",
       "      <th>with_Lily_Collins</th>\n",
       "      <th>with_Jason_Isaacs</th>\n",
       "      <th>with_Maria_Bello</th>\n",
       "      <th>with_Taylor_Lautner</th>\n",
       "      <th>with_Jsu_Garcia</th>\n",
       "      <th>with_Alec_Baldwin</th>\n",
       "      <th>with_Bryan_Brown</th>\n",
       "      <th>with_Michael_Nyqvist</th>\n",
       "      <th>with_Hank_Azaria</th>\n",
       "      <th>crew_cnt</th>\n",
       "    </tr>\n",
       "  </thead>\n",
       "  <tbody>\n",
       "    <tr>\n",
       "      <th>0</th>\n",
       "      <td>1</td>\n",
       "      <td>Hot Tub Time Machine Collection</td>\n",
       "      <td>14000000</td>\n",
       "      <td>[35]</td>\n",
       "      <td>NaN</td>\n",
       "      <td>tt2637294</td>\n",
       "      <td>en</td>\n",
       "      <td>Hot Tub Time Machine 2</td>\n",
       "      <td>When Lou, who has become the \"father of the In...</td>\n",
       "      <td>6.575393</td>\n",
       "      <td>...</td>\n",
       "      <td>0</td>\n",
       "      <td>0</td>\n",
       "      <td>0</td>\n",
       "      <td>0</td>\n",
       "      <td>0</td>\n",
       "      <td>0</td>\n",
       "      <td>0</td>\n",
       "      <td>0</td>\n",
       "      <td>0</td>\n",
       "      <td>70</td>\n",
       "    </tr>\n",
       "    <tr>\n",
       "      <th>1</th>\n",
       "      <td>2</td>\n",
       "      <td>The Princess Diaries Collection</td>\n",
       "      <td>40000000</td>\n",
       "      <td>[35, 18, 10751, 10749]</td>\n",
       "      <td>NaN</td>\n",
       "      <td>tt0368933</td>\n",
       "      <td>en</td>\n",
       "      <td>The Princess Diaries 2: Royal Engagement</td>\n",
       "      <td>Mia Thermopolis is now a college graduate and ...</td>\n",
       "      <td>8.248895</td>\n",
       "      <td>...</td>\n",
       "      <td>0</td>\n",
       "      <td>0</td>\n",
       "      <td>0</td>\n",
       "      <td>0</td>\n",
       "      <td>0</td>\n",
       "      <td>0</td>\n",
       "      <td>0</td>\n",
       "      <td>0</td>\n",
       "      <td>0</td>\n",
       "      <td>9</td>\n",
       "    </tr>\n",
       "    <tr>\n",
       "      <th>2</th>\n",
       "      <td>3</td>\n",
       "      <td>NaN</td>\n",
       "      <td>3300000</td>\n",
       "      <td>[18]</td>\n",
       "      <td>http://sonyclassics.com/whiplash/</td>\n",
       "      <td>tt2582802</td>\n",
       "      <td>en</td>\n",
       "      <td>Whiplash</td>\n",
       "      <td>Under the direction of a ruthless instructor, ...</td>\n",
       "      <td>64.299990</td>\n",
       "      <td>...</td>\n",
       "      <td>0</td>\n",
       "      <td>0</td>\n",
       "      <td>0</td>\n",
       "      <td>0</td>\n",
       "      <td>0</td>\n",
       "      <td>0</td>\n",
       "      <td>0</td>\n",
       "      <td>0</td>\n",
       "      <td>0</td>\n",
       "      <td>61</td>\n",
       "    </tr>\n",
       "  </tbody>\n",
       "</table>\n",
       "<p>3 rows × 77 columns</p>\n",
       "</div>"
      ],
      "text/plain": [
       "   id            belongs_to_collection    budget                  genres  \\\n",
       "0   1  Hot Tub Time Machine Collection  14000000                    [35]   \n",
       "1   2  The Princess Diaries Collection  40000000  [35, 18, 10751, 10749]   \n",
       "2   3                              NaN   3300000                    [18]   \n",
       "\n",
       "                            homepage    imdb_id original_language  \\\n",
       "0                                NaN  tt2637294                en   \n",
       "1                                NaN  tt0368933                en   \n",
       "2  http://sonyclassics.com/whiplash/  tt2582802                en   \n",
       "\n",
       "                             original_title  \\\n",
       "0                    Hot Tub Time Machine 2   \n",
       "1  The Princess Diaries 2: Royal Engagement   \n",
       "2                                  Whiplash   \n",
       "\n",
       "                                            overview  popularity  ...  \\\n",
       "0  When Lou, who has become the \"father of the In...    6.575393  ...   \n",
       "1  Mia Thermopolis is now a college graduate and ...    8.248895  ...   \n",
       "2  Under the direction of a ruthless instructor, ...   64.299990  ...   \n",
       "\n",
       "  with_Lily_Collins with_Jason_Isaacs with_Maria_Bello with_Taylor_Lautner  \\\n",
       "0                 0                 0                0                   0   \n",
       "1                 0                 0                0                   0   \n",
       "2                 0                 0                0                   0   \n",
       "\n",
       "   with_Jsu_Garcia with_Alec_Baldwin with_Bryan_Brown with_Michael_Nyqvist  \\\n",
       "0                0                 0                0                    0   \n",
       "1                0                 0                0                    0   \n",
       "2                0                 0                0                    0   \n",
       "\n",
       "  with_Hank_Azaria crew_cnt  \n",
       "0                0       70  \n",
       "1                0        9  \n",
       "2                0       61  \n",
       "\n",
       "[3 rows x 77 columns]"
      ]
     },
     "execution_count": 573,
     "metadata": {},
     "output_type": "execute_result"
    }
   ],
   "source": [
    "train_data_c[:3]"
   ]
  },
  {
   "cell_type": "code",
   "execution_count": 574,
   "id": "d8acc2b3-d74e-498f-a3c1-6ed7a1c1fb74",
   "metadata": {},
   "outputs": [],
   "source": [
    "train_data_c['crew'] = train_data_c['crew'].apply(lambda x: get_feature_val(x, 'id'))\n",
    "test_data_c['crew'] = test_data_c['crew'].apply(lambda x: get_feature_val(x, 'id'))"
   ]
  },
  {
   "cell_type": "code",
   "execution_count": 575,
   "id": "c3ccb4ba-c153-41c6-bd0d-cf1e8ab9e3e7",
   "metadata": {},
   "outputs": [],
   "source": [
    "for ids in list(crew_cnt_sorted.keys())[:10]:\n",
    "    crew = crew_dict[ids]\n",
    "    col_name = ('mkwith_'+str(cast)).replace(' ', '_')\n",
    "    train_data_c[col_name] = 0\n",
    "    test_data_c[col_name] = 0"
   ]
  },
  {
   "cell_type": "code",
   "execution_count": 576,
   "id": "2467487c-e03f-49ce-bd3f-a1db3ed9ea26",
   "metadata": {},
   "outputs": [],
   "source": [
    "for ids in list(crew_cnt_sorted.keys())[:10]:\n",
    "    crew = crew_dict[ids]\n",
    "    col_name = ('mkwith_'+str(crew)).replace(' ', '_')\n",
    "    train_data_c[col_name] = np.where(train_data_c['crew'].apply(lambda x: v in x)==1, 1, 0)\n",
    "    test_data_c[col_name] = np.where(test_data_c['crew'].apply(lambda x: v in x)==1, 1, 0)"
   ]
  },
  {
   "cell_type": "code",
   "execution_count": 577,
   "id": "83ebea97-6084-427a-b81c-3af351da854b",
   "metadata": {},
   "outputs": [
    {
     "data": {
      "text/plain": [
       "Index(['id', 'belongs_to_collection', 'budget', 'genres', 'homepage',\n",
       "       'imdb_id', 'original_language', 'original_title', 'overview',\n",
       "       'popularity', 'poster_path', 'production_companies',\n",
       "       'production_countries', 'release_date', 'runtime', 'spoken_languages',\n",
       "       'status', 'tagline', 'title', 'Keywords', 'cast', 'crew', 'revenue',\n",
       "       'has_collection', 'Action', 'Adventure', 'Animation', 'Comedy', 'Crime',\n",
       "       'Documentary', 'Drama', 'Family', 'Fantasy', 'Foreign', 'History',\n",
       "       'Horror', 'Music', 'Mystery', 'Romance', 'Science Fiction', 'TV Movie',\n",
       "       'Thriller', 'War', 'Western', 'spoken_languages_cnt',\n",
       "       'spoken_languages_en', 'spoken_languages_fr', 'spoken_languages_es',\n",
       "       'spoken_languages_de', 'spoken_languages_ru', 'spoken_languages_it',\n",
       "       'spoken_languages_ja', 'spoken_languages_zh', 'spoken_languages_hi',\n",
       "       'spoken_languages_pt', 'has_woman_director_keyword',\n",
       "       'has_duringcreditsstinger_keyword', 'has_independent_film_keyword',\n",
       "       'has_3d_keyword', 'has_aftercreditsstinger_keyword',\n",
       "       'has_based_on_young_adult_novel_keyword', 'has_family_keyword',\n",
       "       'has_sport_keyword', 'has_los_angeles_keyword', 'has_hoodlum_keyword',\n",
       "       'cast_cnt', 'with_Alfred_Molina', 'with_Lily_Collins',\n",
       "       'with_Jason_Isaacs', 'with_Maria_Bello', 'with_Taylor_Lautner',\n",
       "       'with_Jsu_Garcia', 'with_Alec_Baldwin', 'with_Bryan_Brown',\n",
       "       'with_Michael_Nyqvist', 'with_Hank_Azaria', 'crew_cnt',\n",
       "       'mkwith_Hank_Azaria', 'mkwith_Avy_Kaufman', 'mkwith_Robert_Rodriguez',\n",
       "       'mkwith_Deborah_Aquila', 'mkwith_James_Newton_Howard',\n",
       "       'mkwith_Mary_Vernieu', 'mkwith_Steven_Spielberg', 'mkwith_Luc_Besson',\n",
       "       'mkwith_Jerry_Goldsmith', 'mkwith_Francine_Maisler',\n",
       "       'mkwith_Tricia_Wood'],\n",
       "      dtype='object')"
      ]
     },
     "execution_count": 577,
     "metadata": {},
     "output_type": "execute_result"
    }
   ],
   "source": [
    "train_data_c.columns"
   ]
  },
  {
   "cell_type": "markdown",
   "id": "381adc0d-cd0f-4481-9642-7c9254c863fb",
   "metadata": {
    "tags": []
   },
   "source": [
    "#### production_companies"
   ]
  },
  {
   "cell_type": "code",
   "execution_count": 578,
   "id": "4a8154d3-2111-44f8-9b34-465d80174a6c",
   "metadata": {},
   "outputs": [
    {
     "data": {
      "text/plain": [
       "0       [{'name': 'Paramount Pictures', 'id': 4}, {'na...\n",
       "1             [{'name': 'Walt Disney Pictures', 'id': 2}]\n",
       "2       [{'name': 'Bold Films', 'id': 2266}, {'name': ...\n",
       "3                                                      []\n",
       "4                                                      []\n",
       "                              ...                        \n",
       "2995    [{'name': 'Warner Bros.', 'id': 6194}, {'name'...\n",
       "2996    [{'name': 'Memfis Film', 'id': 321}, {'name': ...\n",
       "2997    [{'name': 'New Line Cinema', 'id': 12}, {'name...\n",
       "2998    [{'name': 'Jersey Films', 'id': 216}, {'name':...\n",
       "2999    [{'name': 'Lions Gate Films', 'id': 35}, {'nam...\n",
       "Name: production_companies, Length: 3000, dtype: object"
      ]
     },
     "execution_count": 578,
     "metadata": {},
     "output_type": "execute_result"
    }
   ],
   "source": [
    "train_data_c['production_companies']"
   ]
  },
  {
   "cell_type": "code",
   "execution_count": 579,
   "id": "b0d0369e-ccc9-453e-8a85-192a9ea66429",
   "metadata": {},
   "outputs": [],
   "source": [
    "companies_dict = {}\n",
    "companies_cnt = {}\n",
    "for r in train_data_c['production_companies']:\n",
    "    for i in r:\n",
    "        if not i['id'] in companies_dict.values():\n",
    "            companies_dict[i['id']] = i['name']\n",
    "            \n",
    "        companies_cnt[i['id']] = companies_cnt.get(i['id'], 0) + 1  "
   ]
  },
  {
   "cell_type": "code",
   "execution_count": 580,
   "id": "607999ce-e71a-4f57-8d0d-e9067d1f1eec",
   "metadata": {},
   "outputs": [],
   "source": [
    "companies_cnt_sorted = dict(sorted(companies_cnt.items(), key=lambda x: x[1], reverse=True))"
   ]
  },
  {
   "cell_type": "code",
   "execution_count": 581,
   "id": "7bc32bc5-3db6-4a04-be25-342af16d3008",
   "metadata": {},
   "outputs": [],
   "source": [
    "#companies_dict"
   ]
  },
  {
   "cell_type": "code",
   "execution_count": 582,
   "id": "afa59303-13ae-43ca-b3b4-bc1890564d02",
   "metadata": {},
   "outputs": [],
   "source": [
    "train_data_c['production_companies'] = train_data_c['production_companies'].apply(lambda x: get_feature_val(x, 'id'))\n",
    "test_data_c['production_companies'] = test_data_c['production_companies'].apply(lambda x: get_feature_val(x, 'id'))"
   ]
  },
  {
   "cell_type": "code",
   "execution_count": 583,
   "id": "332ef12e-a935-4646-ad6f-e92cb362d789",
   "metadata": {},
   "outputs": [],
   "source": [
    "for ids in list(companies_cnt_sorted.keys())[:10]:\n",
    "    companies = companies_dict[ids]\n",
    "    col_name = ('producedBy_'+str(companies)).replace(' ', '_')\n",
    "    train_data_c[col_name] = 0\n",
    "    test_data_c[col_name] = 0"
   ]
  },
  {
   "cell_type": "code",
   "execution_count": 584,
   "id": "38ab1a2b-fe02-4d42-9886-a0c09397e796",
   "metadata": {},
   "outputs": [],
   "source": [
    "for ids in list(companies_cnt_sorted.keys())[:10]:\n",
    "    companies = companies_dict[ids]\n",
    "    col_name = ('producedBy_'+str(cast)).replace(' ', '_')\n",
    "    train_data_c[col_name] = np.where(train_data_c['production_companies'].apply(lambda x: v in x)==1, 1, 0)\n",
    "    test_data_c[col_name] = np.where(test_data_c['production_companies'].apply(lambda x: v in x)==1, 1, 0)"
   ]
  },
  {
   "cell_type": "code",
   "execution_count": 585,
   "id": "0ef6cc7a-5709-4f6d-a7aa-5bb0b1c417d6",
   "metadata": {},
   "outputs": [
    {
     "data": {
      "text/plain": [
       "Index(['id', 'belongs_to_collection', 'budget', 'genres', 'homepage',\n",
       "       'imdb_id', 'original_language', 'original_title', 'overview',\n",
       "       'popularity', 'poster_path', 'production_companies',\n",
       "       'production_countries', 'release_date', 'runtime', 'spoken_languages',\n",
       "       'status', 'tagline', 'title', 'Keywords', 'cast', 'crew', 'revenue',\n",
       "       'has_collection', 'Action', 'Adventure', 'Animation', 'Comedy', 'Crime',\n",
       "       'Documentary', 'Drama', 'Family', 'Fantasy', 'Foreign', 'History',\n",
       "       'Horror', 'Music', 'Mystery', 'Romance', 'Science Fiction', 'TV Movie',\n",
       "       'Thriller', 'War', 'Western', 'spoken_languages_cnt',\n",
       "       'spoken_languages_en', 'spoken_languages_fr', 'spoken_languages_es',\n",
       "       'spoken_languages_de', 'spoken_languages_ru', 'spoken_languages_it',\n",
       "       'spoken_languages_ja', 'spoken_languages_zh', 'spoken_languages_hi',\n",
       "       'spoken_languages_pt', 'has_woman_director_keyword',\n",
       "       'has_duringcreditsstinger_keyword', 'has_independent_film_keyword',\n",
       "       'has_3d_keyword', 'has_aftercreditsstinger_keyword',\n",
       "       'has_based_on_young_adult_novel_keyword', 'has_family_keyword',\n",
       "       'has_sport_keyword', 'has_los_angeles_keyword', 'has_hoodlum_keyword',\n",
       "       'cast_cnt', 'with_Alfred_Molina', 'with_Lily_Collins',\n",
       "       'with_Jason_Isaacs', 'with_Maria_Bello', 'with_Taylor_Lautner',\n",
       "       'with_Jsu_Garcia', 'with_Alec_Baldwin', 'with_Bryan_Brown',\n",
       "       'with_Michael_Nyqvist', 'with_Hank_Azaria', 'crew_cnt',\n",
       "       'mkwith_Hank_Azaria', 'mkwith_Avy_Kaufman', 'mkwith_Robert_Rodriguez',\n",
       "       'mkwith_Deborah_Aquila', 'mkwith_James_Newton_Howard',\n",
       "       'mkwith_Mary_Vernieu', 'mkwith_Steven_Spielberg', 'mkwith_Luc_Besson',\n",
       "       'mkwith_Jerry_Goldsmith', 'mkwith_Francine_Maisler',\n",
       "       'mkwith_Tricia_Wood', 'producedBy_Warner_Bros.',\n",
       "       'producedBy_Universal_Pictures', 'producedBy_Paramount_Pictures',\n",
       "       'producedBy_Twentieth_Century_Fox_Film_Corporation',\n",
       "       'producedBy_Columbia_Pictures', 'producedBy_Metro-Goldwyn-Mayer_(MGM)',\n",
       "       'producedBy_New_Line_Cinema', 'producedBy_Touchstone_Pictures',\n",
       "       'producedBy_Walt_Disney_Pictures',\n",
       "       'producedBy_Columbia_Pictures_Corporation', 'producedBy_Hank_Azaria'],\n",
       "      dtype='object')"
      ]
     },
     "execution_count": 585,
     "metadata": {},
     "output_type": "execute_result"
    }
   ],
   "source": [
    "train_data_c.columns"
   ]
  },
  {
   "cell_type": "markdown",
   "id": "ac525a73-4dfc-4ad8-8895-35d1b74e24f3",
   "metadata": {
    "tags": []
   },
   "source": [
    "#### production_countries"
   ]
  },
  {
   "cell_type": "code",
   "execution_count": 586,
   "id": "b493dade-a9ad-4c57-9174-81e0bccbebf1",
   "metadata": {},
   "outputs": [
    {
     "data": {
      "text/plain": [
       "[{'iso_3166_1': 'US', 'name': 'United States of America'}]"
      ]
     },
     "execution_count": 586,
     "metadata": {},
     "output_type": "execute_result"
    }
   ],
   "source": [
    "train_data_c['production_countries'][0]"
   ]
  },
  {
   "cell_type": "code",
   "execution_count": 587,
   "id": "3da50e96-385f-4d22-8d60-e322b838788e",
   "metadata": {},
   "outputs": [],
   "source": [
    "countries_dict = {}\n",
    "countries_cnt = {}\n",
    "for r in train_data_c['production_countries']:\n",
    "    for i in r:\n",
    "        if not i['iso_3166_1'] in countries_dict.values():\n",
    "            countries_dict[i['iso_3166_1']] = i['name']\n",
    "            \n",
    "        countries_cnt[i['iso_3166_1']] = countries_cnt.get(i['iso_3166_1'], 0) + 1  "
   ]
  },
  {
   "cell_type": "code",
   "execution_count": 588,
   "id": "c5beba8e-f9e6-4d43-9777-130f6ea72135",
   "metadata": {},
   "outputs": [],
   "source": [
    "countries_cnt_sorted = dict(sorted(countries_cnt.items(), key=lambda x: x[1], reverse=True))"
   ]
  },
  {
   "cell_type": "code",
   "execution_count": 589,
   "id": "db9c6c39-3db1-4abc-9f0e-3b9447ed9134",
   "metadata": {},
   "outputs": [],
   "source": [
    "#countries_dict"
   ]
  },
  {
   "cell_type": "code",
   "execution_count": 590,
   "id": "fa3edb09-2c74-46d7-9e40-0b2c77b4e571",
   "metadata": {},
   "outputs": [],
   "source": [
    "train_data_c['production_countries'] = train_data_c['production_countries'].apply(lambda x: get_feature_val(x, 'iso_3166_1'))\n",
    "test_data_c['production_countries'] = test_data_c['production_countries'].apply(lambda x: get_feature_val(x, 'iso_3166_1'))"
   ]
  },
  {
   "cell_type": "code",
   "execution_count": 591,
   "id": "bc8e86e9-74e2-4794-bb4e-dcc5db54b7ed",
   "metadata": {},
   "outputs": [],
   "source": [
    "for ids in list(countries_cnt_sorted.keys())[:10]:\n",
    "    countries = countries_dict[ids]\n",
    "    col_name = ('mkin_'+str(countries)).replace(' ', '_')\n",
    "    train_data_c[col_name] = 0\n",
    "    test_data_c[col_name] = 0"
   ]
  },
  {
   "cell_type": "code",
   "execution_count": 592,
   "id": "b6549704-a24d-4ec1-b21d-d6342e87cb7d",
   "metadata": {},
   "outputs": [],
   "source": [
    "for ids in list(countries_cnt_sorted.keys())[:10]:\n",
    "    countries = countries_dict[ids]\n",
    "    col_name = ('mkin_'+str(countries)).replace(' ', '_')\n",
    "    train_data_c[col_name] = np.where(train_data_c['production_countries'].apply(lambda x: v in x)==1, 1, 0)\n",
    "    test_data_c[col_name] = np.where(test_data_c['production_countries'].apply(lambda x: v in x)==1, 1, 0)"
   ]
  },
  {
   "cell_type": "code",
   "execution_count": 593,
   "id": "15d5a6c2-466a-4a9c-826e-eec480cb46ee",
   "metadata": {},
   "outputs": [
    {
     "data": {
      "text/plain": [
       "Index(['id', 'belongs_to_collection', 'budget', 'genres', 'homepage',\n",
       "       'imdb_id', 'original_language', 'original_title', 'overview',\n",
       "       'popularity',\n",
       "       ...\n",
       "       'mkin_United_States_of_America', 'mkin_United_Kingdom', 'mkin_France',\n",
       "       'mkin_Germany', 'mkin_Canada', 'mkin_India', 'mkin_Italy', 'mkin_Japan',\n",
       "       'mkin_Australia', 'mkin_Russia'],\n",
       "      dtype='object', length=108)"
      ]
     },
     "execution_count": 593,
     "metadata": {},
     "output_type": "execute_result"
    }
   ],
   "source": [
    "test_data_c.columns"
   ]
  },
  {
   "cell_type": "code",
   "execution_count": 594,
   "id": "804c09ed-4595-4800-a75b-e6086325e1e0",
   "metadata": {},
   "outputs": [],
   "source": [
    "#col_list = list(train_data.columns)"
   ]
  },
  {
   "cell_type": "code",
   "execution_count": 595,
   "id": "2b0faabb-39ca-422e-8dfb-6da2c9996a71",
   "metadata": {},
   "outputs": [],
   "source": [
    "#for i in json_type_columns:\n",
    "#    col_list.remove(i)"
   ]
  },
  {
   "cell_type": "code",
   "execution_count": 596,
   "id": "4d403226-7a6a-4ba9-963d-1babe99b625d",
   "metadata": {},
   "outputs": [],
   "source": [
    "#col_list.remove('tagline')"
   ]
  },
  {
   "cell_type": "code",
   "execution_count": 597,
   "id": "437b2874-88e6-4621-9474-db11f8006029",
   "metadata": {},
   "outputs": [],
   "source": [
    "#train_data[col_list][:3]"
   ]
  },
  {
   "cell_type": "markdown",
   "id": "44b85946-ee9c-4ce0-ae76-d1c55189b9a8",
   "metadata": {},
   "source": [
    "#### release_date"
   ]
  },
  {
   "cell_type": "code",
   "execution_count": 598,
   "id": "142ec899-3cfe-45ff-8af3-d327dca375c3",
   "metadata": {},
   "outputs": [],
   "source": [
    "test_data_c.loc[test_data_c['release_date'].isnull(), 'release_date'] = '1/5/2000'"
   ]
  },
  {
   "cell_type": "code",
   "execution_count": 599,
   "id": "538f471b-a831-4426-99a9-d61fa59f8495",
   "metadata": {},
   "outputs": [
    {
     "name": "stderr",
     "output_type": "stream",
     "text": [
      "C:\\Users\\milan\\AppData\\Local\\Temp/ipykernel_14356/4020759399.py:10: FutureWarning: Series.dt.weekofyear and Series.dt.week have been deprecated.  Please use Series.dt.isocalendar().week instead.\n",
      "  train_data_c['release_date_weekofyear'] = pd.to_datetime(train_data_c['release_date']).dt.weekofyear\n",
      "C:\\Users\\milan\\AppData\\Local\\Temp/ipykernel_14356/4020759399.py:11: FutureWarning: Series.dt.weekofyear and Series.dt.week have been deprecated.  Please use Series.dt.isocalendar().week instead.\n",
      "  test_data_c['release_date_weekofyear'] = pd.to_datetime(test_data_c['release_date']).dt.weekofyear\n"
     ]
    }
   ],
   "source": [
    "train_data_c['release_date_year'] = train_data_c['release_date'].apply(lambda x: 19*100 + int(x.split('/')[-1]) if int(x.split('/')[-1]) > 22 else 20*100 + int(x.split('/')[-1]))\n",
    "test_data_c['release_date_year'] = test_data_c['release_date'].apply(lambda x: 19*100 + int(x.split('/')[-1]) if int(x.split('/')[-1]) > 22 else 20*100 + int(x.split('/')[-1]))\n",
    "\n",
    "train_data_c['release_date_month'] = pd.to_datetime(train_data_c['release_date']).dt.month\n",
    "test_data_c['release_date_month'] = pd.to_datetime(test_data_c['release_date']).dt.month\n",
    "\n",
    "train_data_c['release_date_weekday'] = pd.to_datetime(train_data_c['release_date']).dt.weekday\n",
    "test_data_c['release_date_weekday'] = pd.to_datetime(test_data_c['release_date']).dt.weekday\n",
    "\n",
    "train_data_c['release_date_weekofyear'] = pd.to_datetime(train_data_c['release_date']).dt.weekofyear\n",
    "test_data_c['release_date_weekofyear'] = pd.to_datetime(test_data_c['release_date']).dt.weekofyear\n",
    "\n",
    "train_data_c['release_date_day'] = pd.to_datetime(train_data_c['release_date']).dt.day\n",
    "test_data_c['release_date_day'] = pd.to_datetime(test_data_c['release_date']).dt.day"
   ]
  },
  {
   "cell_type": "markdown",
   "id": "8b85f926-8195-49f5-980b-1a544fd188cc",
   "metadata": {},
   "source": [
    "#### homepage"
   ]
  },
  {
   "cell_type": "code",
   "execution_count": 600,
   "id": "2612099c-eb95-4a1c-bafd-6d8ef2718a2e",
   "metadata": {},
   "outputs": [],
   "source": [
    "train_data_c['homepage'].fillna('', inplace=True)\n",
    "test_data_c['homepage'].fillna('', inplace=True)"
   ]
  },
  {
   "cell_type": "code",
   "execution_count": 601,
   "id": "ea217962-432f-41bd-98fe-bffb695eb9b1",
   "metadata": {},
   "outputs": [],
   "source": [
    "train_data_c['homepage'] = train_data_c['homepage'].apply(lambda x: 1 if len(x)!=0 else 0)\n",
    "test_data_c['homepage'] = test_data_c['homepage'].apply(lambda x: 1 if len(x)!=0 else 0)"
   ]
  },
  {
   "cell_type": "markdown",
   "id": "a2cf70aa-0d69-4262-b2f3-9e9fe30dba42",
   "metadata": {},
   "source": [
    "#### runtime"
   ]
  },
  {
   "cell_type": "code",
   "execution_count": 602,
   "id": "d8320204-6568-41e4-8339-f4811b1f3a9d",
   "metadata": {},
   "outputs": [],
   "source": [
    "train_data_c['runtime'].fillna(train_data['runtime'].median(), inplace=True)\n",
    "test_data_c['runtime'].fillna(test_data['runtime'].median(), inplace=True)"
   ]
  },
  {
   "cell_type": "markdown",
   "id": "7480d1b7-5a93-4699-81e2-4e0673e45213",
   "metadata": {},
   "source": [
    "#### LabelEncoder collection and original_language"
   ]
  },
  {
   "cell_type": "code",
   "execution_count": 603,
   "id": "630fc5e5-314b-4e45-910c-205e5efa5c31",
   "metadata": {},
   "outputs": [],
   "source": [
    "#test_data_c['original_language'].isnull().sum()"
   ]
  },
  {
   "cell_type": "code",
   "execution_count": 604,
   "id": "834262b3-2072-4144-8e9c-784fdb5098c4",
   "metadata": {},
   "outputs": [
    {
     "data": {
      "text/plain": [
       "\"\\nfor col in ['original_language', 'belongs_to_collection']:\\n    lb = LabelEncoder()\\n    lb.fit(list(train_data_c[col].fillna('')) + list(test_data_c[col].fillna('')))\\n    train_data_c[col] = lb.transform(train_data_c[col].fillna(''))\\n    test_data_c[col] = lb.transform(test_data_c[col].fillna(''))\\n    \""
      ]
     },
     "execution_count": 604,
     "metadata": {},
     "output_type": "execute_result"
    }
   ],
   "source": [
    "'''\n",
    "for col in ['original_language', 'belongs_to_collection']:\n",
    "    lb = LabelEncoder()\n",
    "    lb.fit(list(train_data_c[col].fillna('')) + list(test_data_c[col].fillna('')))\n",
    "    train_data_c[col] = lb.transform(train_data_c[col].fillna(''))\n",
    "    test_data_c[col] = lb.transform(test_data_c[col].fillna(''))\n",
    "    '''"
   ]
  },
  {
   "cell_type": "code",
   "execution_count": 605,
   "id": "d5d5d4b3-7f32-4dec-8a1d-715580d22a38",
   "metadata": {},
   "outputs": [
    {
     "data": {
      "text/html": [
       "<div>\n",
       "<style scoped>\n",
       "    .dataframe tbody tr th:only-of-type {\n",
       "        vertical-align: middle;\n",
       "    }\n",
       "\n",
       "    .dataframe tbody tr th {\n",
       "        vertical-align: top;\n",
       "    }\n",
       "\n",
       "    .dataframe thead th {\n",
       "        text-align: right;\n",
       "    }\n",
       "</style>\n",
       "<table border=\"1\" class=\"dataframe\">\n",
       "  <thead>\n",
       "    <tr style=\"text-align: right;\">\n",
       "      <th></th>\n",
       "      <th>id</th>\n",
       "      <th>belongs_to_collection</th>\n",
       "      <th>budget</th>\n",
       "      <th>genres</th>\n",
       "      <th>homepage</th>\n",
       "      <th>imdb_id</th>\n",
       "      <th>original_language</th>\n",
       "      <th>original_title</th>\n",
       "      <th>overview</th>\n",
       "      <th>popularity</th>\n",
       "      <th>...</th>\n",
       "      <th>mkin_India</th>\n",
       "      <th>mkin_Italy</th>\n",
       "      <th>mkin_Japan</th>\n",
       "      <th>mkin_Australia</th>\n",
       "      <th>mkin_Russia</th>\n",
       "      <th>release_date_year</th>\n",
       "      <th>release_date_month</th>\n",
       "      <th>release_date_weekday</th>\n",
       "      <th>release_date_weekofyear</th>\n",
       "      <th>release_date_day</th>\n",
       "    </tr>\n",
       "  </thead>\n",
       "  <tbody>\n",
       "    <tr>\n",
       "      <th>0</th>\n",
       "      <td>1</td>\n",
       "      <td>Hot Tub Time Machine Collection</td>\n",
       "      <td>14000000</td>\n",
       "      <td>[35]</td>\n",
       "      <td>0</td>\n",
       "      <td>tt2637294</td>\n",
       "      <td>en</td>\n",
       "      <td>Hot Tub Time Machine 2</td>\n",
       "      <td>When Lou, who has become the \"father of the In...</td>\n",
       "      <td>6.575393</td>\n",
       "      <td>...</td>\n",
       "      <td>0</td>\n",
       "      <td>0</td>\n",
       "      <td>0</td>\n",
       "      <td>0</td>\n",
       "      <td>0</td>\n",
       "      <td>2015</td>\n",
       "      <td>2</td>\n",
       "      <td>4</td>\n",
       "      <td>8</td>\n",
       "      <td>20</td>\n",
       "    </tr>\n",
       "    <tr>\n",
       "      <th>1</th>\n",
       "      <td>2</td>\n",
       "      <td>The Princess Diaries Collection</td>\n",
       "      <td>40000000</td>\n",
       "      <td>[35, 18, 10751, 10749]</td>\n",
       "      <td>0</td>\n",
       "      <td>tt0368933</td>\n",
       "      <td>en</td>\n",
       "      <td>The Princess Diaries 2: Royal Engagement</td>\n",
       "      <td>Mia Thermopolis is now a college graduate and ...</td>\n",
       "      <td>8.248895</td>\n",
       "      <td>...</td>\n",
       "      <td>0</td>\n",
       "      <td>0</td>\n",
       "      <td>0</td>\n",
       "      <td>0</td>\n",
       "      <td>0</td>\n",
       "      <td>2004</td>\n",
       "      <td>8</td>\n",
       "      <td>4</td>\n",
       "      <td>32</td>\n",
       "      <td>6</td>\n",
       "    </tr>\n",
       "    <tr>\n",
       "      <th>2</th>\n",
       "      <td>3</td>\n",
       "      <td>NaN</td>\n",
       "      <td>3300000</td>\n",
       "      <td>[18]</td>\n",
       "      <td>1</td>\n",
       "      <td>tt2582802</td>\n",
       "      <td>en</td>\n",
       "      <td>Whiplash</td>\n",
       "      <td>Under the direction of a ruthless instructor, ...</td>\n",
       "      <td>64.299990</td>\n",
       "      <td>...</td>\n",
       "      <td>0</td>\n",
       "      <td>0</td>\n",
       "      <td>0</td>\n",
       "      <td>0</td>\n",
       "      <td>0</td>\n",
       "      <td>2014</td>\n",
       "      <td>10</td>\n",
       "      <td>4</td>\n",
       "      <td>41</td>\n",
       "      <td>10</td>\n",
       "    </tr>\n",
       "  </tbody>\n",
       "</table>\n",
       "<p>3 rows × 114 columns</p>\n",
       "</div>"
      ],
      "text/plain": [
       "   id            belongs_to_collection    budget                  genres  \\\n",
       "0   1  Hot Tub Time Machine Collection  14000000                    [35]   \n",
       "1   2  The Princess Diaries Collection  40000000  [35, 18, 10751, 10749]   \n",
       "2   3                              NaN   3300000                    [18]   \n",
       "\n",
       "   homepage    imdb_id original_language  \\\n",
       "0         0  tt2637294                en   \n",
       "1         0  tt0368933                en   \n",
       "2         1  tt2582802                en   \n",
       "\n",
       "                             original_title  \\\n",
       "0                    Hot Tub Time Machine 2   \n",
       "1  The Princess Diaries 2: Royal Engagement   \n",
       "2                                  Whiplash   \n",
       "\n",
       "                                            overview  popularity  ...  \\\n",
       "0  When Lou, who has become the \"father of the In...    6.575393  ...   \n",
       "1  Mia Thermopolis is now a college graduate and ...    8.248895  ...   \n",
       "2  Under the direction of a ruthless instructor, ...   64.299990  ...   \n",
       "\n",
       "  mkin_India mkin_Italy mkin_Japan mkin_Australia  mkin_Russia  \\\n",
       "0          0          0          0              0            0   \n",
       "1          0          0          0              0            0   \n",
       "2          0          0          0              0            0   \n",
       "\n",
       "  release_date_year release_date_month release_date_weekday  \\\n",
       "0              2015                  2                    4   \n",
       "1              2004                  8                    4   \n",
       "2              2014                 10                    4   \n",
       "\n",
       "  release_date_weekofyear release_date_day  \n",
       "0                       8               20  \n",
       "1                      32                6  \n",
       "2                      41               10  \n",
       "\n",
       "[3 rows x 114 columns]"
      ]
     },
     "execution_count": 605,
     "metadata": {},
     "output_type": "execute_result"
    }
   ],
   "source": [
    "train_data_c[:3]"
   ]
  },
  {
   "cell_type": "markdown",
   "id": "42d0ed1b-caca-4852-b689-72257b6fe2bf",
   "metadata": {},
   "source": [
    "#### TargetEncoder"
   ]
  },
  {
   "cell_type": "code",
   "execution_count": 606,
   "id": "0e2f6a2a-bf5d-4b2c-a192-4155cadc463c",
   "metadata": {},
   "outputs": [
    {
     "data": {
      "text/html": [
       "<div>\n",
       "<style scoped>\n",
       "    .dataframe tbody tr th:only-of-type {\n",
       "        vertical-align: middle;\n",
       "    }\n",
       "\n",
       "    .dataframe tbody tr th {\n",
       "        vertical-align: top;\n",
       "    }\n",
       "\n",
       "    .dataframe thead th {\n",
       "        text-align: right;\n",
       "    }\n",
       "</style>\n",
       "<table border=\"1\" class=\"dataframe\">\n",
       "  <thead>\n",
       "    <tr style=\"text-align: right;\">\n",
       "      <th></th>\n",
       "      <th>id</th>\n",
       "      <th>belongs_to_collection</th>\n",
       "      <th>budget</th>\n",
       "      <th>genres</th>\n",
       "      <th>homepage</th>\n",
       "      <th>imdb_id</th>\n",
       "      <th>original_language</th>\n",
       "      <th>original_title</th>\n",
       "      <th>overview</th>\n",
       "      <th>popularity</th>\n",
       "      <th>...</th>\n",
       "      <th>mkin_India</th>\n",
       "      <th>mkin_Italy</th>\n",
       "      <th>mkin_Japan</th>\n",
       "      <th>mkin_Australia</th>\n",
       "      <th>mkin_Russia</th>\n",
       "      <th>release_date_year</th>\n",
       "      <th>release_date_month</th>\n",
       "      <th>release_date_weekday</th>\n",
       "      <th>release_date_weekofyear</th>\n",
       "      <th>release_date_day</th>\n",
       "    </tr>\n",
       "  </thead>\n",
       "  <tbody>\n",
       "    <tr>\n",
       "      <th>0</th>\n",
       "      <td>1</td>\n",
       "      <td>Hot Tub Time Machine Collection</td>\n",
       "      <td>14000000</td>\n",
       "      <td>[35]</td>\n",
       "      <td>0</td>\n",
       "      <td>tt2637294</td>\n",
       "      <td>en</td>\n",
       "      <td>Hot Tub Time Machine 2</td>\n",
       "      <td>When Lou, who has become the \"father of the In...</td>\n",
       "      <td>6.575393</td>\n",
       "      <td>...</td>\n",
       "      <td>0</td>\n",
       "      <td>0</td>\n",
       "      <td>0</td>\n",
       "      <td>0</td>\n",
       "      <td>0</td>\n",
       "      <td>2015</td>\n",
       "      <td>2</td>\n",
       "      <td>4</td>\n",
       "      <td>8</td>\n",
       "      <td>20</td>\n",
       "    </tr>\n",
       "    <tr>\n",
       "      <th>1</th>\n",
       "      <td>2</td>\n",
       "      <td>The Princess Diaries Collection</td>\n",
       "      <td>40000000</td>\n",
       "      <td>[35, 18, 10751, 10749]</td>\n",
       "      <td>0</td>\n",
       "      <td>tt0368933</td>\n",
       "      <td>en</td>\n",
       "      <td>The Princess Diaries 2: Royal Engagement</td>\n",
       "      <td>Mia Thermopolis is now a college graduate and ...</td>\n",
       "      <td>8.248895</td>\n",
       "      <td>...</td>\n",
       "      <td>0</td>\n",
       "      <td>0</td>\n",
       "      <td>0</td>\n",
       "      <td>0</td>\n",
       "      <td>0</td>\n",
       "      <td>2004</td>\n",
       "      <td>8</td>\n",
       "      <td>4</td>\n",
       "      <td>32</td>\n",
       "      <td>6</td>\n",
       "    </tr>\n",
       "    <tr>\n",
       "      <th>2</th>\n",
       "      <td>3</td>\n",
       "      <td>NaN</td>\n",
       "      <td>3300000</td>\n",
       "      <td>[18]</td>\n",
       "      <td>1</td>\n",
       "      <td>tt2582802</td>\n",
       "      <td>en</td>\n",
       "      <td>Whiplash</td>\n",
       "      <td>Under the direction of a ruthless instructor, ...</td>\n",
       "      <td>64.299990</td>\n",
       "      <td>...</td>\n",
       "      <td>0</td>\n",
       "      <td>0</td>\n",
       "      <td>0</td>\n",
       "      <td>0</td>\n",
       "      <td>0</td>\n",
       "      <td>2014</td>\n",
       "      <td>10</td>\n",
       "      <td>4</td>\n",
       "      <td>41</td>\n",
       "      <td>10</td>\n",
       "    </tr>\n",
       "    <tr>\n",
       "      <th>3</th>\n",
       "      <td>4</td>\n",
       "      <td>NaN</td>\n",
       "      <td>1200000</td>\n",
       "      <td>[53, 18]</td>\n",
       "      <td>1</td>\n",
       "      <td>tt1821480</td>\n",
       "      <td>hi</td>\n",
       "      <td>Kahaani</td>\n",
       "      <td>Vidya Bagchi (Vidya Balan) arrives in Kolkata ...</td>\n",
       "      <td>3.174936</td>\n",
       "      <td>...</td>\n",
       "      <td>0</td>\n",
       "      <td>0</td>\n",
       "      <td>0</td>\n",
       "      <td>0</td>\n",
       "      <td>0</td>\n",
       "      <td>2012</td>\n",
       "      <td>3</td>\n",
       "      <td>4</td>\n",
       "      <td>10</td>\n",
       "      <td>9</td>\n",
       "    </tr>\n",
       "    <tr>\n",
       "      <th>4</th>\n",
       "      <td>5</td>\n",
       "      <td>NaN</td>\n",
       "      <td>0</td>\n",
       "      <td>[28, 53]</td>\n",
       "      <td>0</td>\n",
       "      <td>tt1380152</td>\n",
       "      <td>ko</td>\n",
       "      <td>마린보이</td>\n",
       "      <td>Marine Boy is the story of a former national s...</td>\n",
       "      <td>1.148070</td>\n",
       "      <td>...</td>\n",
       "      <td>0</td>\n",
       "      <td>0</td>\n",
       "      <td>0</td>\n",
       "      <td>0</td>\n",
       "      <td>0</td>\n",
       "      <td>2009</td>\n",
       "      <td>2</td>\n",
       "      <td>3</td>\n",
       "      <td>6</td>\n",
       "      <td>5</td>\n",
       "    </tr>\n",
       "  </tbody>\n",
       "</table>\n",
       "<p>5 rows × 114 columns</p>\n",
       "</div>"
      ],
      "text/plain": [
       "   id            belongs_to_collection    budget                  genres  \\\n",
       "0   1  Hot Tub Time Machine Collection  14000000                    [35]   \n",
       "1   2  The Princess Diaries Collection  40000000  [35, 18, 10751, 10749]   \n",
       "2   3                              NaN   3300000                    [18]   \n",
       "3   4                              NaN   1200000                [53, 18]   \n",
       "4   5                              NaN         0                [28, 53]   \n",
       "\n",
       "   homepage    imdb_id original_language  \\\n",
       "0         0  tt2637294                en   \n",
       "1         0  tt0368933                en   \n",
       "2         1  tt2582802                en   \n",
       "3         1  tt1821480                hi   \n",
       "4         0  tt1380152                ko   \n",
       "\n",
       "                             original_title  \\\n",
       "0                    Hot Tub Time Machine 2   \n",
       "1  The Princess Diaries 2: Royal Engagement   \n",
       "2                                  Whiplash   \n",
       "3                                   Kahaani   \n",
       "4                                      마린보이   \n",
       "\n",
       "                                            overview  popularity  ...  \\\n",
       "0  When Lou, who has become the \"father of the In...    6.575393  ...   \n",
       "1  Mia Thermopolis is now a college graduate and ...    8.248895  ...   \n",
       "2  Under the direction of a ruthless instructor, ...   64.299990  ...   \n",
       "3  Vidya Bagchi (Vidya Balan) arrives in Kolkata ...    3.174936  ...   \n",
       "4  Marine Boy is the story of a former national s...    1.148070  ...   \n",
       "\n",
       "  mkin_India mkin_Italy mkin_Japan mkin_Australia  mkin_Russia  \\\n",
       "0          0          0          0              0            0   \n",
       "1          0          0          0              0            0   \n",
       "2          0          0          0              0            0   \n",
       "3          0          0          0              0            0   \n",
       "4          0          0          0              0            0   \n",
       "\n",
       "  release_date_year release_date_month release_date_weekday  \\\n",
       "0              2015                  2                    4   \n",
       "1              2004                  8                    4   \n",
       "2              2014                 10                    4   \n",
       "3              2012                  3                    4   \n",
       "4              2009                  2                    3   \n",
       "\n",
       "  release_date_weekofyear release_date_day  \n",
       "0                       8               20  \n",
       "1                      32                6  \n",
       "2                      41               10  \n",
       "3                      10                9  \n",
       "4                       6                5  \n",
       "\n",
       "[5 rows x 114 columns]"
      ]
     },
     "execution_count": 606,
     "metadata": {},
     "output_type": "execute_result"
    }
   ],
   "source": [
    "train_data_c[:5]"
   ]
  },
  {
   "cell_type": "code",
   "execution_count": 607,
   "id": "11b79cd3-f83d-4f7c-a395-0f28cc9e5fbc",
   "metadata": {},
   "outputs": [],
   "source": [
    "cols_for_drop = ['id', 'imdb_id', 'genres', 'spoken_languages', 'Keywords', 'cast', 'crew',\\\n",
    "              'original_title', 'title', 'overview', 'production_companies', 'production_countries',\\\n",
    "              'poster_path', 'release_date', 'status', 'tagline']"
   ]
  },
  {
   "cell_type": "code",
   "execution_count": 608,
   "id": "b8cd2381-b29c-4663-8b74-94c597113834",
   "metadata": {},
   "outputs": [],
   "source": [
    "train_data_c.drop(columns=cols_for_drop, inplace=True)\n",
    "test_data_c.drop(columns=cols_for_drop, inplace=True)"
   ]
  },
  {
   "cell_type": "code",
   "execution_count": 609,
   "id": "09772ff8-851a-4452-b5e1-d4eeb5c779e6",
   "metadata": {},
   "outputs": [],
   "source": [
    "#plt.hist(train_data_c['runtime'], bins=20)"
   ]
  },
  {
   "cell_type": "code",
   "execution_count": 610,
   "id": "00dee5cc-76b5-4c46-a8d7-c74b53768098",
   "metadata": {},
   "outputs": [],
   "source": [
    "#train_data_c.info()"
   ]
  },
  {
   "cell_type": "code",
   "execution_count": 611,
   "id": "71933b8a-d45c-4d88-af90-bab4bc97f072",
   "metadata": {},
   "outputs": [],
   "source": [
    "train_data_c['budget'] = np.log(train_data_c['budget'] + 1)\n",
    "train_data_c['revenue'] = np.log(train_data_c['revenue'] + 1)\n",
    "#train_data_c['popularity'] = np.log(train_data_c['popularity'] + 1)\n",
    "test_data_c['budget'] = np.log(test_data_c['budget'] + 1)\n",
    "#test_data_c['popularity'] = np.log(test_data_c['popularity'] + 1)"
   ]
  },
  {
   "cell_type": "code",
   "execution_count": 612,
   "id": "66e6432e-f659-4258-a04e-6cf778667007",
   "metadata": {},
   "outputs": [],
   "source": [
    "#train_data_c = train_data_c.loc[(train_data_c['revenue']>np.percentile(train_data_c['revenue'], 1))]\n",
    "#&(train_data_c['revenue']<np.percentile(train_data_c['revenue'], 97.5))"
   ]
  },
  {
   "cell_type": "code",
   "execution_count": 613,
   "id": "12e1d57e-f989-44d9-b03a-8bcd93d4af9d",
   "metadata": {},
   "outputs": [],
   "source": [
    "train_data_c['popularity'] = np.where(\n",
    "    (train_data_c['popularity']>np.percentile(train_data_c['popularity'], 98.5))\\\n",
    "    , train_data_c['popularity'].median(), train_data_c['popularity']\n",
    "                               )"
   ]
  },
  {
   "cell_type": "code",
   "execution_count": 614,
   "id": "5212e7ca-fa0b-46dd-902d-23b2fe700cc4",
   "metadata": {},
   "outputs": [],
   "source": [
    "test_data_c['popularity'] = np.where(\n",
    "    (test_data_c['popularity']>np.percentile(test_data_c['popularity'], 98.5))\\\n",
    "    , test_data_c['popularity'].median(), test_data_c['popularity']\n",
    "                               )"
   ]
  },
  {
   "cell_type": "markdown",
   "id": "53cd5c1e-bf59-49cf-9dc5-af67d75bd02f",
   "metadata": {
    "tags": []
   },
   "source": [
    "#### Scaling data"
   ]
  },
  {
   "cell_type": "code",
   "execution_count": 109,
   "id": "f5b8fda5-6d13-4cd0-8486-521ea4dd9c31",
   "metadata": {},
   "outputs": [],
   "source": [
    "scaler = StandardScaler()"
   ]
  },
  {
   "cell_type": "code",
   "execution_count": 615,
   "id": "0c6eedd5-fc7d-4223-bd17-a455bac30e6a",
   "metadata": {},
   "outputs": [],
   "source": [
    "X_train = train_data_c.drop(columns='revenue')\n",
    "X_test = test_data_c\n",
    "y_train = train_data_c.loc[:, 'revenue']"
   ]
  },
  {
   "cell_type": "code",
   "execution_count": 111,
   "id": "1dabb09a-f883-475a-a863-e5b93e5f17e0",
   "metadata": {},
   "outputs": [
    {
     "data": {
      "text/plain": [
       "0    16.326300\n",
       "1    18.370959\n",
       "2    16.387512\n",
       "3    16.588099\n",
       "4    15.182615\n",
       "Name: revenue, dtype: float64"
      ]
     },
     "execution_count": 111,
     "metadata": {},
     "output_type": "execute_result"
    }
   ],
   "source": [
    "y_train[:5]"
   ]
  },
  {
   "cell_type": "code",
   "execution_count": 112,
   "id": "9642a277-52b2-4dc2-b739-415a0a407034",
   "metadata": {},
   "outputs": [
    {
     "data": {
      "text/plain": [
       "StandardScaler()"
      ]
     },
     "execution_count": 112,
     "metadata": {},
     "output_type": "execute_result"
    }
   ],
   "source": [
    "scaler.fit(X_train)"
   ]
  },
  {
   "cell_type": "code",
   "execution_count": 113,
   "id": "2ac7f70d-a6c4-4be2-b0b1-88b651f47de8",
   "metadata": {},
   "outputs": [],
   "source": [
    "X_train = pd.DataFrame(data=scaler.transform(X_train), columns=X_train.columns)"
   ]
  },
  {
   "cell_type": "code",
   "execution_count": 114,
   "id": "62a2a2ea-7979-4870-8808-dc37a9bf5c56",
   "metadata": {},
   "outputs": [],
   "source": [
    "X_test = pd.DataFrame(data=scaler.transform(X_test), columns=X_test.columns)"
   ]
  },
  {
   "cell_type": "markdown",
   "id": "9a13096e-bc78-4244-82a1-d85b0e1d94ee",
   "metadata": {},
   "source": [
    "#### Train LinearRegression from the box"
   ]
  },
  {
   "cell_type": "code",
   "execution_count": 115,
   "id": "9551e33b-d87f-431e-96fc-8886e639443e",
   "metadata": {},
   "outputs": [
    {
     "data": {
      "text/html": [
       "<div>\n",
       "<style scoped>\n",
       "    .dataframe tbody tr th:only-of-type {\n",
       "        vertical-align: middle;\n",
       "    }\n",
       "\n",
       "    .dataframe tbody tr th {\n",
       "        vertical-align: top;\n",
       "    }\n",
       "\n",
       "    .dataframe thead th {\n",
       "        text-align: right;\n",
       "    }\n",
       "</style>\n",
       "<table border=\"1\" class=\"dataframe\">\n",
       "  <thead>\n",
       "    <tr style=\"text-align: right;\">\n",
       "      <th></th>\n",
       "      <th>belongs_to_collection</th>\n",
       "      <th>budget</th>\n",
       "      <th>homepage</th>\n",
       "      <th>original_language</th>\n",
       "      <th>popularity</th>\n",
       "      <th>runtime</th>\n",
       "      <th>has_collection</th>\n",
       "      <th>Action</th>\n",
       "      <th>Adventure</th>\n",
       "      <th>Animation</th>\n",
       "      <th>...</th>\n",
       "      <th>mkin_India</th>\n",
       "      <th>mkin_Italy</th>\n",
       "      <th>mkin_Japan</th>\n",
       "      <th>mkin_Australia</th>\n",
       "      <th>mkin_Russia</th>\n",
       "      <th>release_date_year</th>\n",
       "      <th>release_date_month</th>\n",
       "      <th>release_date_weekday</th>\n",
       "      <th>release_date_weekofyear</th>\n",
       "      <th>release_date_day</th>\n",
       "    </tr>\n",
       "  </thead>\n",
       "  <tbody>\n",
       "    <tr>\n",
       "      <th>0</th>\n",
       "      <td>1.140579</td>\n",
       "      <td>0.614991</td>\n",
       "      <td>-0.678649</td>\n",
       "      <td>-0.277199</td>\n",
       "      <td>0.110357</td>\n",
       "      <td>-0.672869</td>\n",
       "      <td>1.991705</td>\n",
       "      <td>-0.572731</td>\n",
       "      <td>-0.414026</td>\n",
       "      <td>-0.222076</td>\n",
       "      <td>...</td>\n",
       "      <td>0.0</td>\n",
       "      <td>0.0</td>\n",
       "      <td>0.0</td>\n",
       "      <td>0.0</td>\n",
       "      <td>0.0</td>\n",
       "      <td>0.993173</td>\n",
       "      <td>-1.400988</td>\n",
       "      <td>0.563007</td>\n",
       "      <td>-1.335431</td>\n",
       "      <td>0.573903</td>\n",
       "    </tr>\n",
       "    <tr>\n",
       "      <th>1</th>\n",
       "      <td>3.138770</td>\n",
       "      <td>0.756084</td>\n",
       "      <td>-0.678649</td>\n",
       "      <td>-0.277199</td>\n",
       "      <td>0.397177</td>\n",
       "      <td>0.233108</td>\n",
       "      <td>1.991705</td>\n",
       "      <td>-0.572731</td>\n",
       "      <td>-0.414026</td>\n",
       "      <td>-0.222076</td>\n",
       "      <td>...</td>\n",
       "      <td>0.0</td>\n",
       "      <td>0.0</td>\n",
       "      <td>0.0</td>\n",
       "      <td>0.0</td>\n",
       "      <td>0.0</td>\n",
       "      <td>0.276958</td>\n",
       "      <td>0.359293</td>\n",
       "      <td>0.563007</td>\n",
       "      <td>0.281613</td>\n",
       "      <td>-1.048055</td>\n",
       "    </tr>\n",
       "    <tr>\n",
       "      <th>2</th>\n",
       "      <td>-0.429030</td>\n",
       "      <td>0.420768</td>\n",
       "      <td>1.473515</td>\n",
       "      <td>-0.277199</td>\n",
       "      <td>0.254527</td>\n",
       "      <td>-0.129283</td>\n",
       "      <td>-0.502082</td>\n",
       "      <td>-0.572731</td>\n",
       "      <td>-0.414026</td>\n",
       "      <td>-0.222076</td>\n",
       "      <td>...</td>\n",
       "      <td>0.0</td>\n",
       "      <td>0.0</td>\n",
       "      <td>0.0</td>\n",
       "      <td>0.0</td>\n",
       "      <td>0.0</td>\n",
       "      <td>0.928063</td>\n",
       "      <td>0.946053</td>\n",
       "      <td>0.563007</td>\n",
       "      <td>0.888004</td>\n",
       "      <td>-0.584639</td>\n",
       "    </tr>\n",
       "    <tr>\n",
       "      <th>3</th>\n",
       "      <td>-0.429030</td>\n",
       "      <td>0.284811</td>\n",
       "      <td>1.473515</td>\n",
       "      <td>0.850389</td>\n",
       "      <td>-0.745808</td>\n",
       "      <td>0.640798</td>\n",
       "      <td>-0.502082</td>\n",
       "      <td>-0.572731</td>\n",
       "      <td>-0.414026</td>\n",
       "      <td>-0.222076</td>\n",
       "      <td>...</td>\n",
       "      <td>0.0</td>\n",
       "      <td>0.0</td>\n",
       "      <td>0.0</td>\n",
       "      <td>0.0</td>\n",
       "      <td>0.0</td>\n",
       "      <td>0.797842</td>\n",
       "      <td>-1.107608</td>\n",
       "      <td>0.563007</td>\n",
       "      <td>-1.200677</td>\n",
       "      <td>-0.700493</td>\n",
       "    </tr>\n",
       "    <tr>\n",
       "      <th>4</th>\n",
       "      <td>-0.429030</td>\n",
       "      <td>-1.596466</td>\n",
       "      <td>-0.678649</td>\n",
       "      <td>2.353839</td>\n",
       "      <td>-1.700727</td>\n",
       "      <td>0.459602</td>\n",
       "      <td>-0.502082</td>\n",
       "      <td>1.746019</td>\n",
       "      <td>-0.414026</td>\n",
       "      <td>-0.222076</td>\n",
       "      <td>...</td>\n",
       "      <td>0.0</td>\n",
       "      <td>0.0</td>\n",
       "      <td>0.0</td>\n",
       "      <td>0.0</td>\n",
       "      <td>0.0</td>\n",
       "      <td>0.602511</td>\n",
       "      <td>-1.400988</td>\n",
       "      <td>-0.188003</td>\n",
       "      <td>-1.470184</td>\n",
       "      <td>-1.163909</td>\n",
       "    </tr>\n",
       "  </tbody>\n",
       "</table>\n",
       "<p>5 rows × 97 columns</p>\n",
       "</div>"
      ],
      "text/plain": [
       "   belongs_to_collection    budget  homepage  original_language  popularity  \\\n",
       "0               1.140579  0.614991 -0.678649          -0.277199    0.110357   \n",
       "1               3.138770  0.756084 -0.678649          -0.277199    0.397177   \n",
       "2              -0.429030  0.420768  1.473515          -0.277199    0.254527   \n",
       "3              -0.429030  0.284811  1.473515           0.850389   -0.745808   \n",
       "4              -0.429030 -1.596466 -0.678649           2.353839   -1.700727   \n",
       "\n",
       "    runtime  has_collection    Action  Adventure  Animation  ...  mkin_India  \\\n",
       "0 -0.672869        1.991705 -0.572731  -0.414026  -0.222076  ...         0.0   \n",
       "1  0.233108        1.991705 -0.572731  -0.414026  -0.222076  ...         0.0   \n",
       "2 -0.129283       -0.502082 -0.572731  -0.414026  -0.222076  ...         0.0   \n",
       "3  0.640798       -0.502082 -0.572731  -0.414026  -0.222076  ...         0.0   \n",
       "4  0.459602       -0.502082  1.746019  -0.414026  -0.222076  ...         0.0   \n",
       "\n",
       "   mkin_Italy  mkin_Japan  mkin_Australia  mkin_Russia  release_date_year  \\\n",
       "0         0.0         0.0             0.0          0.0           0.993173   \n",
       "1         0.0         0.0             0.0          0.0           0.276958   \n",
       "2         0.0         0.0             0.0          0.0           0.928063   \n",
       "3         0.0         0.0             0.0          0.0           0.797842   \n",
       "4         0.0         0.0             0.0          0.0           0.602511   \n",
       "\n",
       "   release_date_month  release_date_weekday  release_date_weekofyear  \\\n",
       "0           -1.400988              0.563007                -1.335431   \n",
       "1            0.359293              0.563007                 0.281613   \n",
       "2            0.946053              0.563007                 0.888004   \n",
       "3           -1.107608              0.563007                -1.200677   \n",
       "4           -1.400988             -0.188003                -1.470184   \n",
       "\n",
       "   release_date_day  \n",
       "0          0.573903  \n",
       "1         -1.048055  \n",
       "2         -0.584639  \n",
       "3         -0.700493  \n",
       "4         -1.163909  \n",
       "\n",
       "[5 rows x 97 columns]"
      ]
     },
     "execution_count": 115,
     "metadata": {},
     "output_type": "execute_result"
    }
   ],
   "source": [
    "X_train[:5]"
   ]
  },
  {
   "cell_type": "code",
   "execution_count": 116,
   "id": "6c311a8b-b599-4dcd-8fcf-f37f3b6cd12b",
   "metadata": {},
   "outputs": [
    {
     "data": {
      "text/plain": [
       "(0.27283604339257395, 6.263904863162204, 2.1441500138127125)"
      ]
     },
     "execution_count": 116,
     "metadata": {},
     "output_type": "execute_result"
    }
   ],
   "source": [
    "X_test.popularity.median(), X_test.popularity.max(), np.percentile(X_test['popularity'], 98.5)"
   ]
  },
  {
   "cell_type": "code",
   "execution_count": 118,
   "id": "5ccf01bf-335d-4bff-823b-635eb4365b8a",
   "metadata": {},
   "outputs": [],
   "source": [
    "model = Lasso(alpha=0.08)"
   ]
  },
  {
   "cell_type": "code",
   "execution_count": 119,
   "id": "00b2d857-2283-4040-93c2-dfc1ef845033",
   "metadata": {},
   "outputs": [
    {
     "data": {
      "text/plain": [
       "Lasso(alpha=0.08)"
      ]
     },
     "execution_count": 119,
     "metadata": {},
     "output_type": "execute_result"
    }
   ],
   "source": [
    "model.fit(X_train, y_train)"
   ]
  },
  {
   "cell_type": "code",
   "execution_count": 120,
   "id": "b74f87f0-470b-418a-9e1d-d53e8ec5697d",
   "metadata": {},
   "outputs": [],
   "source": [
    "pred_test_raw = model.predict(X_test)\n",
    "pred_train_raw = model.predict(X_train)"
   ]
  },
  {
   "cell_type": "markdown",
   "id": "82b8cdca-3c5f-4c70-91db-25deb38b8ffd",
   "metadata": {},
   "source": [
    "Так как мы предсказывали логарифм revenue, то теперь нам надо привести его к реальным значениям"
   ]
  },
  {
   "cell_type": "code",
   "execution_count": 121,
   "id": "175b380c-c83f-4c95-b66d-2325c6984a29",
   "metadata": {},
   "outputs": [
    {
     "data": {
      "text/plain": [
       "array([17.6574381 , 18.14544617, 16.56630133, ..., 17.51752416,\n",
       "       18.19126253, 17.41748791])"
      ]
     },
     "execution_count": 121,
     "metadata": {},
     "output_type": "execute_result"
    }
   ],
   "source": [
    "pred_train_raw"
   ]
  },
  {
   "cell_type": "code",
   "execution_count": 122,
   "id": "922ce6a2-2d9d-4729-9e09-d4e48a92de1f",
   "metadata": {},
   "outputs": [],
   "source": [
    "pred_train_rev_median = np.median(pred_train_raw[pred_train_raw>0])\n",
    "pred_train_raw = np.where(pred_train_raw<0, pred_train_rev_median,  pred_train_raw)\n",
    "\n",
    "pred_test_rev_median = np.median(pred_test_raw[pred_test_raw>0])\n",
    "pred_test = np.where(pred_test_raw<0, pred_test_rev_median,  pred_test_raw)"
   ]
  },
  {
   "cell_type": "markdown",
   "id": "9db8bdf6-1ab8-4bc8-bb5b-1d868ac66690",
   "metadata": {},
   "source": [
    "**Для Log значений**"
   ]
  },
  {
   "cell_type": "code",
   "execution_count": 123,
   "id": "1562f4f5-b502-4f32-b500-3582ca16c645",
   "metadata": {},
   "outputs": [],
   "source": [
    "pred_test = pd.Series(pred_test_raw).apply(lambda x: math.exp(x))\n",
    "pred_train = pd.Series(pred_train_raw).apply(lambda x: math.exp(x))\n",
    "\n",
    "y_train_c = pd.Series(y_train).apply(lambda x: math.exp(x)) "
   ]
  },
  {
   "cell_type": "code",
   "execution_count": 124,
   "id": "df07c5d8-162a-4232-bba0-7d2f3a75a53f",
   "metadata": {},
   "outputs": [
    {
     "data": {
      "text/plain": [
       "(0.34223513077861745,\n",
       " 1.2437567867957504e+16,\n",
       " 45662899.43845088,\n",
       " 5.144318472522738)"
      ]
     },
     "execution_count": 124,
     "metadata": {},
     "output_type": "execute_result"
    }
   ],
   "source": [
    "r2_score(y_train_c, pred_train)\\\n",
    ", mean_squared_error(y_train_c, pred_train)\\\n",
    ", mean_absolute_error(y_train_c, pred_train)\\\n",
    ", mean_squared_log_error(y_train_c, pred_train)"
   ]
  },
  {
   "cell_type": "code",
   "execution_count": 125,
   "id": "23b9ce88-a507-4601-a26b-e7aceb3a2347",
   "metadata": {},
   "outputs": [],
   "source": [
    "#sorted(list(zip(model.coef_, X_train.columns)), key=lambda x: abs(x[0]), reverse=True)"
   ]
  },
  {
   "cell_type": "code",
   "execution_count": 126,
   "id": "82e7e012-11cb-4990-8737-1f0c11eb539f",
   "metadata": {},
   "outputs": [
    {
     "data": {
      "text/plain": [
       "(0.9321742696788825, -0.09982018897008824)"
      ]
     },
     "execution_count": 126,
     "metadata": {},
     "output_type": "execute_result"
    }
   ],
   "source": [
    "model.coef_[np.argmax(model.coef_)], model.coef_[np.argmin(model.coef_)]"
   ]
  },
  {
   "cell_type": "code",
   "execution_count": 127,
   "id": "00760d48-3b52-47b3-b8d4-81f954e1f782",
   "metadata": {},
   "outputs": [
    {
     "data": {
      "text/plain": [
       "('popularity', 'Foreign')"
      ]
     },
     "execution_count": 127,
     "metadata": {},
     "output_type": "execute_result"
    }
   ],
   "source": [
    "X_train.columns[np.argmax(model.coef_)], X_train.columns[np.argmin(model.coef_)]"
   ]
  },
  {
   "cell_type": "code",
   "execution_count": 128,
   "id": "21990321-ec48-4bc5-9a94-eb0b13d6198c",
   "metadata": {},
   "outputs": [],
   "source": [
    "line = np.arange(min(pred_train), max(pred_train), 1000)"
   ]
  },
  {
   "cell_type": "code",
   "execution_count": 129,
   "id": "c0db2c65-f4af-422a-8109-47395927ba6b",
   "metadata": {},
   "outputs": [
    {
     "data": {
      "text/plain": [
       "<matplotlib.collections.PathCollection at 0x18094dc78e0>"
      ]
     },
     "execution_count": 129,
     "metadata": {},
     "output_type": "execute_result"
    },
    {
     "data": {
      "image/png": "[encoded data removed]",
      "text/plain": [
       "<Figure size 432x288 with 1 Axes>"
      ]
     },
     "metadata": {
      "needs_background": "light"
     },
     "output_type": "display_data"
    }
   ],
   "source": [
    "plt.plot(line, line, c='r')\n",
    "plt.scatter(pred_train, y_train_c)"
   ]
  },
  {
   "cell_type": "code",
   "execution_count": 130,
   "id": "e5d2ed66-11d0-4a89-a393-2b6476ea102a",
   "metadata": {},
   "outputs": [],
   "source": [
    "#ist(zip(pred_train, y_train, pred_train-y_train))"
   ]
  },
  {
   "cell_type": "code",
   "execution_count": 131,
   "id": "fd6e4655-22c4-4746-8653-9b0d5f97c594",
   "metadata": {},
   "outputs": [
    {
     "data": {
      "image/png": "[encoded data removed]",
      "text/plain": [
       "<Figure size 432x288 with 1 Axes>"
      ]
     },
     "metadata": {
      "needs_background": "light"
     },
     "output_type": "display_data"
    }
   ],
   "source": [
    "plt.hist(np.log(train_data['revenue']), bins=100)\n",
    "plt.show()"
   ]
  },
  {
   "cell_type": "code",
   "execution_count": 132,
   "id": "70443fde-10db-463d-9a52-8883019e8605",
   "metadata": {},
   "outputs": [],
   "source": [
    "pred_df = pd.DataFrame(data=zip(test_data.id, pred_test), columns=['id', 'revenue'])"
   ]
  },
  {
   "cell_type": "code",
   "execution_count": 133,
   "id": "b4bdb14c-a7d6-417e-9bb0-8c6128d5ff29",
   "metadata": {},
   "outputs": [
    {
     "data": {
      "text/plain": [
       "(39844777.55566432, 3258471855.2876263, 17356.285437964383)"
      ]
     },
     "execution_count": 133,
     "metadata": {},
     "output_type": "execute_result"
    }
   ],
   "source": [
    "pred_df['revenue'].mean(), pred_df['revenue'].max(), pred_df['revenue'].min()"
   ]
  },
  {
   "cell_type": "code",
   "execution_count": 134,
   "id": "fb75f114-0277-4877-a379-dc4a3a397a09",
   "metadata": {},
   "outputs": [
    {
     "data": {
      "text/plain": [
       "Int64Index([2155], dtype='int64')"
      ]
     },
     "execution_count": 134,
     "metadata": {},
     "output_type": "execute_result"
    }
   ],
   "source": [
    "pred_df.loc[pred_df.revenue==pred_df['revenue'].max()].index"
   ]
  },
  {
   "cell_type": "code",
   "execution_count": 135,
   "id": "692b973e-94b0-485a-8021-c8675c9d32e3",
   "metadata": {},
   "outputs": [],
   "source": [
    "#pred_df.to_csv('log_lasso.csv', index=False)"
   ]
  },
  {
   "cell_type": "markdown",
   "id": "aea270af-b8ba-42f1-81b2-68534c659bf8",
   "metadata": {},
   "source": [
    "#### Forests"
   ]
  },
  {
   "cell_type": "code",
   "execution_count": 136,
   "id": "cfb6066c-a25f-4698-868b-636b8ad09c13",
   "metadata": {},
   "outputs": [],
   "source": [
    "model = RandomForestRegressor(max_depth=12)"
   ]
  },
  {
   "cell_type": "code",
   "execution_count": 137,
   "id": "f3430057-dec4-4b63-aa8f-31465d35bad5",
   "metadata": {},
   "outputs": [
    {
     "data": {
      "text/plain": [
       "RandomForestRegressor(max_depth=12)"
      ]
     },
     "execution_count": 137,
     "metadata": {},
     "output_type": "execute_result"
    }
   ],
   "source": [
    "model.fit(X_train, y_train)"
   ]
  },
  {
   "cell_type": "code",
   "execution_count": 138,
   "id": "c053e7bd-019c-49e2-840d-684f8ccb66d9",
   "metadata": {},
   "outputs": [],
   "source": [
    "pred_test_raw = model.predict(X_test)\n",
    "pred_train_raw = model.predict(X_train)"
   ]
  },
  {
   "cell_type": "code",
   "execution_count": 139,
   "id": "60ecafb1-f48e-43a9-adfc-e6dca4b05f85",
   "metadata": {},
   "outputs": [],
   "source": [
    "pred_train_rev_median = np.median(pred_train_raw[pred_train_raw>0])\n",
    "pred_train_raw = np.where(pred_train_raw<0, pred_train_rev_median,  pred_train_raw)\n",
    "\n",
    "pred_test_rev_median = np.median(pred_test_raw[pred_test_raw>0])\n",
    "pred_test = np.where(pred_test_raw<0, pred_test_rev_median,  pred_test_raw)"
   ]
  },
  {
   "cell_type": "code",
   "execution_count": 140,
   "id": "e4ea55b6-9737-4474-b800-b982113d7af5",
   "metadata": {},
   "outputs": [],
   "source": [
    "pred_test = pd.Series(pred_test_raw).apply(lambda x: math.exp(x))\n",
    "pred_train = pd.Series(pred_train_raw).apply(lambda x: math.exp(x))\n",
    "\n",
    "y_train_c = pd.Series(y_train).apply(lambda x: math.exp(x)) "
   ]
  },
  {
   "cell_type": "code",
   "execution_count": 141,
   "id": "04d0d5e9-2ca2-4545-a875-3647e9cd4d27",
   "metadata": {},
   "outputs": [
    {
     "data": {
      "text/plain": [
       "(0.8728250420642212,\n",
       " 2404730389908561.0,\n",
       " 21670163.532600846,\n",
       " 1.1194408864220784)"
      ]
     },
     "execution_count": 141,
     "metadata": {},
     "output_type": "execute_result"
    }
   ],
   "source": [
    "r2_score(y_train_c, pred_train)\\\n",
    ", mean_squared_error(y_train_c, pred_train)\\\n",
    ", mean_absolute_error(y_train_c, pred_train)\\\n",
    ", mean_squared_log_error(y_train_c, pred_train)"
   ]
  },
  {
   "cell_type": "code",
   "execution_count": 142,
   "id": "a5e3bfce-2b50-4e17-a8fb-22f0c03de6f1",
   "metadata": {},
   "outputs": [],
   "source": [
    "pred_df = pd.DataFrame(data=zip(test_data.id, pred_test), columns=['id', 'revenue'])"
   ]
  },
  {
   "cell_type": "code",
   "execution_count": 143,
   "id": "3604a1ef-4149-4ae7-9b6f-b35b0d9790fa",
   "metadata": {},
   "outputs": [
    {
     "data": {
      "text/plain": [
       "45727206.183442734"
      ]
     },
     "execution_count": 143,
     "metadata": {},
     "output_type": "execute_result"
    }
   ],
   "source": [
    "pred_df['revenue'].mean()"
   ]
  },
  {
   "cell_type": "code",
   "execution_count": 144,
   "id": "6e343354-9fde-4f16-8dd3-8931e45ffa1f",
   "metadata": {},
   "outputs": [],
   "source": [
    "pred_df.to_csv('log_randomforest.csv', index=False)"
   ]
  },
  {
   "cell_type": "code",
   "execution_count": 145,
   "id": "d53df1d8-fe76-47e0-aa6e-5693a729bb78",
   "metadata": {},
   "outputs": [],
   "source": [
    "#sorted(list(zip(model.feature_importances_, X_train.columns)), key=lambda x: abs(x[0]), reverse=True)"
   ]
  },
  {
   "cell_type": "markdown",
   "id": "226b99ef-f7bb-4a8c-b2fc-57b9d364c6ee",
   "metadata": {},
   "source": [
    "#### Catboost"
   ]
  },
  {
   "cell_type": "code",
   "execution_count": 616,
   "id": "d56bba14-27fa-45f4-a4e5-53e86d831282",
   "metadata": {},
   "outputs": [],
   "source": [
    "X_train['belongs_to_collection'].fillna('No collection', inplace=True)\n",
    "X_test['belongs_to_collection'].fillna('No collection', inplace=True)"
   ]
  },
  {
   "cell_type": "code",
   "execution_count": 617,
   "id": "0f607cc4-35e7-4a96-a5c4-bcc2dcfb157c",
   "metadata": {},
   "outputs": [],
   "source": [
    "model = CatBoostRegressor(random_state=42, max_depth=6, num_trees=1700, cat_features=['belongs_to_collection', 'original_language'])\n",
    "model_1 = CatBoostRegressor(random_state=43, max_depth=6, num_trees=1700, cat_features=['belongs_to_collection', 'original_language'])\n",
    "model_2 = CatBoostRegressor(random_state=44, max_depth=6, num_trees=1700, cat_features=['belongs_to_collection', 'original_language'])\n",
    "#model_3 = CatBoostRegressor(random_state=45, max_depth=6, num_trees=1700, cat_features=['belongs_to_collection', 'original_language'])\n",
    "#model_4 = CatBoostRegressor(random_state=46, max_depth=7, num_trees=1700, cat_features=['belongs_to_collection', 'original_language'])"
   ]
  },
  {
   "cell_type": "code",
   "execution_count": 618,
   "id": "2a1f6dc2-0970-4b48-a637-d7d8f6e6b2d1",
   "metadata": {},
   "outputs": [],
   "source": [
    "#gs = GridSearchCV(model, param_grid={'num_trees':np.arange(1000, 2000, 100), 'max_depth':np.arange(2, 10, 1)}, cv=3, scoring='neg_mean_squared_log_error')"
   ]
  },
  {
   "cell_type": "code",
   "execution_count": 619,
   "id": "432296d2-2b81-47c8-89d8-dfc0e310c0bf",
   "metadata": {},
   "outputs": [],
   "source": [
    "#gs.fit(X_train, y_train, silent=True)"
   ]
  },
  {
   "cell_type": "code",
   "execution_count": 620,
   "id": "fb94f2d7-7e2c-48f3-8ad5-22305ca954e0",
   "metadata": {},
   "outputs": [],
   "source": [
    "#gs.best_params_"
   ]
  },
  {
   "cell_type": "code",
   "execution_count": 621,
   "id": "e2b2d864-6a3c-438a-92c3-c27ac1b4abef",
   "metadata": {},
   "outputs": [],
   "source": [
    "#sorted(sklearn.metrics.SCORERS.keys())"
   ]
  },
  {
   "cell_type": "code",
   "execution_count": 622,
   "id": "cf4fb3d8-baed-4e5f-b988-498a20b374d9",
   "metadata": {},
   "outputs": [
    {
     "data": {
      "text/plain": [
       "<catboost.core.CatBoostRegressor at 0x1808c12aa60>"
      ]
     },
     "execution_count": 622,
     "metadata": {},
     "output_type": "execute_result"
    }
   ],
   "source": [
    "model.fit(X_train, y_train, silent=True)\n",
    "model_1.fit(X_train, y_train, silent=True)\n",
    "model_2.fit(X_train, y_train, silent=True)\n",
    "#model_3.fit(X_train, y_train, silent=True)\n",
    "#model_4.fit(X_train, y_train, silent=True)"
   ]
  },
  {
   "cell_type": "code",
   "execution_count": 623,
   "id": "c4726e5d-0c52-44ca-843a-d6acfbc899c4",
   "metadata": {},
   "outputs": [],
   "source": [
    "model_pred_test = model.predict(X_test)\n",
    "model_1_pred_test = model_1.predict(X_test)\n",
    "model_2_pred_test = model_2.predict(X_test)\n",
    "#model_3_pred_test = model_3.predict(X_test)\n",
    "#model_4_pred_test = model_4.predict(X_test)"
   ]
  },
  {
   "cell_type": "code",
   "execution_count": 624,
   "id": "7ad57a44-c95b-4ec7-a629-95451cc21649",
   "metadata": {},
   "outputs": [],
   "source": [
    "model_pred_train = model.predict(X_train)\n",
    "model_1_pred_train = model_1.predict(X_train)\n",
    "model_2_pred_train = model_2.predict(X_train)\n",
    "#model_3_pred_train = model_3.predict(X_train)\n",
    "#model_4_pred_train = model_4.predict(X_train)"
   ]
  },
  {
   "cell_type": "code",
   "execution_count": 625,
   "id": "0a53b43e-386a-451b-a633-4b585a4c1013",
   "metadata": {},
   "outputs": [],
   "source": [
    "pred_test_raw = pd.Series(zip(model_pred_test, model_1_pred_test, model_2_pred_test)).apply(lambda x: np.mean(x))"
   ]
  },
  {
   "cell_type": "code",
   "execution_count": 626,
   "id": "61d8f16f-2941-4952-b27b-df36d5fe2e1b",
   "metadata": {},
   "outputs": [],
   "source": [
    "pred_train_raw = pd.Series(zip(model_pred_train, model_1_pred_train, model_2_pred_train)).apply(lambda x: np.mean(x))"
   ]
  },
  {
   "cell_type": "code",
   "execution_count": 627,
   "id": "eae955da-9ff9-4c39-b30f-64b26395159c",
   "metadata": {
    "tags": []
   },
   "outputs": [],
   "source": [
    "#pred_test_raw = model.predict(X_test)\n",
    "#pred_train_raw = model.predict(X_train)"
   ]
  },
  {
   "cell_type": "code",
   "execution_count": 628,
   "id": "07bb8b54-63e8-4ace-ba43-823d3418c55a",
   "metadata": {},
   "outputs": [],
   "source": [
    "#pred_train_rev_median = np.median(pred_train_raw[pred_train_raw>0])\n",
    "#pred_train_raw = np.where(pred_train_raw<0, pred_train_rev_median,  pred_train_raw)\n",
    "\n",
    "#pred_test_rev_median = np.median(pred_test_raw[pred_test_raw>0])\n",
    "#pred_test = np.where(pred_test_raw<0, pred_test_rev_median,  pred_test_raw)"
   ]
  },
  {
   "cell_type": "code",
   "execution_count": 629,
   "id": "eda0ff9a-71ae-424a-889a-23d372786472",
   "metadata": {},
   "outputs": [],
   "source": [
    "pred_test = pd.Series(pred_test_raw).apply(lambda x: math.exp(x))\n",
    "pred_train = pd.Series(pred_train_raw).apply(lambda x: math.exp(x))\n",
    "\n",
    "y_train_c = pd.Series(y_train).apply(lambda x: math.exp(x)) "
   ]
  },
  {
   "cell_type": "code",
   "execution_count": 630,
   "id": "3d338fa0-8b28-49ae-becc-ecd8527062a7",
   "metadata": {},
   "outputs": [
    {
     "data": {
      "text/plain": [
       "(0.8008375800046073, 3765929485366971.0, 27159138.24730188, 1.2170576253757042)"
      ]
     },
     "execution_count": 630,
     "metadata": {},
     "output_type": "execute_result"
    }
   ],
   "source": [
    "r2_score(y_train_c, pred_train)\\\n",
    ", mean_squared_error(y_train_c, pred_train)\\\n",
    ", mean_absolute_error(y_train_c, pred_train)\\\n",
    ", mean_squared_log_error(y_train_c, pred_train)"
   ]
  },
  {
   "cell_type": "code",
   "execution_count": 631,
   "id": "6f86c925-63b8-4d96-be30-238623089103",
   "metadata": {},
   "outputs": [],
   "source": [
    "pred_df = pd.DataFrame(data=zip(test_data.id, pred_test), columns=['id', 'revenue'])"
   ]
  },
  {
   "cell_type": "code",
   "execution_count": 632,
   "id": "befed684-4b90-4a47-b106-8e21494f9a25",
   "metadata": {},
   "outputs": [
    {
     "data": {
      "text/plain": [
       "(52679051.767609105, 1414696817.9754632, 188.45237709892595)"
      ]
     },
     "execution_count": 632,
     "metadata": {},
     "output_type": "execute_result"
    }
   ],
   "source": [
    "pred_df['revenue'].mean(), pred_df['revenue'].max(), pred_df['revenue'].min()"
   ]
  },
  {
   "cell_type": "code",
   "execution_count": 634,
   "id": "927e4816-5345-4cd7-a089-5a12b4b6d449",
   "metadata": {},
   "outputs": [],
   "source": [
    "line = np.arange(min(pred_train), max(pred_train), 1000)"
   ]
  },
  {
   "cell_type": "code",
   "execution_count": 635,
   "id": "08b22a31-d3b2-4b9c-94d0-8b61829382bf",
   "metadata": {},
   "outputs": [
    {
     "data": {
      "text/plain": [
       "<matplotlib.collections.PathCollection at 0x180942f7460>"
      ]
     },
     "execution_count": 635,
     "metadata": {},
     "output_type": "execute_result"
    },
    {
     "data": {
      "image/png": "[encoded data removed]",
      "text/plain": [
       "<Figure size 432x288 with 1 Axes>"
      ]
     },
     "metadata": {
      "needs_background": "light"
     },
     "output_type": "display_data"
    }
   ],
   "source": [
    "plt.plot(line, line, c='r')\n",
    "plt.scatter(pred_train, y_train_c)"
   ]
  },
  {
   "cell_type": "code",
   "execution_count": 633,
   "id": "02132f8c-9a8c-4c7c-83cf-c5018e08aa46",
   "metadata": {},
   "outputs": [],
   "source": [
    "pred_df.to_csv('log_catboost.csv', index=False)"
   ]
  },
  {
   "cell_type": "code",
   "execution_count": 217,
   "id": "c8c8fca4-ac95-482b-b0d2-f49b221186b6",
   "metadata": {},
   "outputs": [
    {
     "data": {
      "text/plain": [
       "(0.03704800084233284, 42, 1400)"
      ]
     },
     "execution_count": 217,
     "metadata": {},
     "output_type": "execute_result"
    }
   ],
   "source": [
    "model.learning_rate_, model.random_seed_, model.tree_count_"
   ]
  },
  {
   "cell_type": "code",
   "execution_count": 218,
   "id": "f4976d32-b5d0-42cc-8d5c-567f39e516f1",
   "metadata": {},
   "outputs": [
    {
     "data": {
      "text/plain": [
       "[(23.24589668086836, 'budget'),\n",
       " (14.981179847066487, 'popularity'),\n",
       " (10.926181056636366, 'release_date_year'),\n",
       " (6.715031354680898, 'runtime'),\n",
       " (5.431383013284141, 'crew_cnt'),\n",
       " (4.703662037944945, 'cast_cnt'),\n",
       " (4.596265653186585, 'release_date_day'),\n",
       " (4.436794813886528, 'release_date_weekofyear'),\n",
       " (3.447024344165418, 'release_date_weekday'),\n",
       " (2.22141937836207, 'belongs_to_collection'),\n",
       " (1.9732380009643762, 'original_language'),\n",
       " (1.918999565689526, 'spoken_languages_en'),\n",
       " (1.7559095749588858, 'release_date_month'),\n",
       " (1.3961086204730337, 'Drama'),\n",
       " (1.2232723698574626, 'homepage'),\n",
       " (1.0759200605968728, 'Comedy'),\n",
       " (0.8708310265243397, 'spoken_languages_cnt'),\n",
       " (0.8300793153406163, 'Thriller'),\n",
       " (0.7510377557548917, 'spoken_languages_fr'),\n",
       " (0.6963924702948714, 'Romance'),\n",
       " (0.6523109375657902, 'Foreign'),\n",
       " (0.5949538950370079, 'Family'),\n",
       " (0.564662984256857, 'Crime'),\n",
       " (0.5246255846690682, 'Action'),\n",
       " (0.5035388427765657, 'has_collection'),\n",
       " (0.48036931749537903, 'Horror'),\n",
       " (0.4511627224290078, 'spoken_languages_de'),\n",
       " (0.3751466815780449, 'spoken_languages_hi'),\n",
       " (0.37275341114513877, 'Science Fiction'),\n",
       " (0.3542542903700229, 'Adventure'),\n",
       " (0.29686794520706156, 'Documentary'),\n",
       " (0.27063173192297924, 'Mystery'),\n",
       " (0.24646447119561382, 'Western'),\n",
       " (0.21858918852707393, 'spoken_languages_ja'),\n",
       " (0.1874313342858286, 'Music'),\n",
       " (0.13253035622065956, 'spoken_languages_zh'),\n",
       " (0.128580804778976, 'spoken_languages_ru'),\n",
       " (0.11729422534770838, 'History'),\n",
       " (0.10996314838093278, 'War'),\n",
       " (0.0960914947610445, 'Fantasy'),\n",
       " (0.047935339260462194, 'spoken_languages_es'),\n",
       " (0.0469696258526284, 'spoken_languages_it'),\n",
       " (0.019508867872833964, 'Animation'),\n",
       " (0.005988668212115811, 'TV Movie'),\n",
       " (0.0047471903145407815, 'spoken_languages_pt'),\n",
       " (0.0, 'has_woman_director_keyword'),\n",
       " (0.0, 'has_duringcreditsstinger_keyword'),\n",
       " (0.0, 'has_independent_film_keyword'),\n",
       " (0.0, 'has_3d_keyword'),\n",
       " (0.0, 'has_aftercreditsstinger_keyword'),\n",
       " (0.0, 'has_based_on_young_adult_novel_keyword'),\n",
       " (0.0, 'has_family_keyword'),\n",
       " (0.0, 'has_sport_keyword'),\n",
       " (0.0, 'has_los_angeles_keyword'),\n",
       " (0.0, 'has_hoodlum_keyword'),\n",
       " (0.0, 'with_Alfred_Molina'),\n",
       " (0.0, 'with_Lily_Collins'),\n",
       " (0.0, 'with_Jason_Isaacs'),\n",
       " (0.0, 'with_Maria_Bello'),\n",
       " (0.0, 'with_Taylor_Lautner'),\n",
       " (0.0, 'with_Jsu_Garcia'),\n",
       " (0.0, 'with_Alec_Baldwin'),\n",
       " (0.0, 'with_Bryan_Brown'),\n",
       " (0.0, 'with_Michael_Nyqvist'),\n",
       " (0.0, 'with_Hank_Azaria'),\n",
       " (0.0, 'mkwith_Hank_Azaria'),\n",
       " (0.0, 'mkwith_Avy_Kaufman'),\n",
       " (0.0, 'mkwith_Robert_Rodriguez'),\n",
       " (0.0, 'mkwith_Deborah_Aquila'),\n",
       " (0.0, 'mkwith_James_Newton_Howard'),\n",
       " (0.0, 'mkwith_Mary_Vernieu'),\n",
       " (0.0, 'mkwith_Steven_Spielberg'),\n",
       " (0.0, 'mkwith_Luc_Besson'),\n",
       " (0.0, 'mkwith_Jerry_Goldsmith'),\n",
       " (0.0, 'mkwith_Francine_Maisler'),\n",
       " (0.0, 'mkwith_Tricia_Wood'),\n",
       " (0.0, 'producedBy_Warner_Bros.'),\n",
       " (0.0, 'producedBy_Universal_Pictures'),\n",
       " (0.0, 'producedBy_Paramount_Pictures'),\n",
       " (0.0, 'producedBy_Twentieth_Century_Fox_Film_Corporation'),\n",
       " (0.0, 'producedBy_Columbia_Pictures'),\n",
       " (0.0, 'producedBy_Metro-Goldwyn-Mayer_(MGM)'),\n",
       " (0.0, 'producedBy_New_Line_Cinema'),\n",
       " (0.0, 'producedBy_Touchstone_Pictures'),\n",
       " (0.0, 'producedBy_Walt_Disney_Pictures'),\n",
       " (0.0, 'producedBy_Columbia_Pictures_Corporation'),\n",
       " (0.0, 'producedBy_Hank_Azaria'),\n",
       " (0.0, 'mkin_United_States_of_America'),\n",
       " (0.0, 'mkin_United_Kingdom'),\n",
       " (0.0, 'mkin_France'),\n",
       " (0.0, 'mkin_Germany'),\n",
       " (0.0, 'mkin_Canada'),\n",
       " (0.0, 'mkin_India'),\n",
       " (0.0, 'mkin_Italy'),\n",
       " (0.0, 'mkin_Japan'),\n",
       " (0.0, 'mkin_Australia'),\n",
       " (0.0, 'mkin_Russia')]"
      ]
     },
     "execution_count": 218,
     "metadata": {},
     "output_type": "execute_result"
    }
   ],
   "source": [
    "sorted(list(zip(model.feature_importances_, X_train.columns)), key=lambda x: abs(x[0]), reverse=True)"
   ]
  },
  {
   "cell_type": "code",
   "execution_count": 167,
   "id": "27a5ca11-f056-4021-bf46-e15d3fb2a6a7",
   "metadata": {},
   "outputs": [],
   "source": [
    "ar = sorted(list(zip(pred_train, y_train_c, y_train_c - pred_train)), reverse=True)"
   ]
  },
  {
   "cell_type": "code",
   "execution_count": 168,
   "id": "b47b0d6e-dc53-4272-a197-11cfca7c7d63",
   "metadata": {},
   "outputs": [
    {
     "data": {
      "text/plain": [
       "197638098.22170353"
      ]
     },
     "execution_count": 168,
     "metadata": {},
     "output_type": "execute_result"
    }
   ],
   "source": [
    "ar[0][0] - ar[0][1]"
   ]
  },
  {
   "cell_type": "code",
   "execution_count": 169,
   "id": "cc2445a0-066d-4dbe-b4a0-e1fedac98a26",
   "metadata": {},
   "outputs": [
    {
     "data": {
      "text/plain": [
       "(1282577198.2217042, 1084939100.0000007)"
      ]
     },
     "execution_count": 169,
     "metadata": {},
     "output_type": "execute_result"
    }
   ],
   "source": [
    "ar[0][0], ar[0][1]"
   ]
  },
  {
   "cell_type": "code",
   "execution_count": 170,
   "id": "0e205dfe-dea1-40e3-9fb1-1e318f3f3be4",
   "metadata": {},
   "outputs": [],
   "source": [
    "#ar"
   ]
  },
  {
   "cell_type": "code",
   "execution_count": 171,
   "id": "74d4537f-dfad-4944-b668-df78ada22b31",
   "metadata": {},
   "outputs": [],
   "source": [
    "#sorted(list(zip(pred_train, y_train_c, y_train_c - pred_train)), key=lambda x: abs(x[2]), reverse=True)"
   ]
  },
  {
   "cell_type": "code",
   "execution_count": 172,
   "id": "aee401a9-3df5-473f-9a2f-b824434019eb",
   "metadata": {},
   "outputs": [
    {
     "data": {
      "image/png": "[encoded data removed]",
      "text/plain": [
       "<Figure size 432x288 with 1 Axes>"
      ]
     },
     "metadata": {
      "needs_background": "light"
     },
     "output_type": "display_data"
    }
   ],
   "source": [
    "plt.hist(train_data['budget'], bins=100)\n",
    "plt.show()"
   ]
  },
  {
   "cell_type": "code",
   "execution_count": 173,
   "id": "6b4e6042-9b66-4674-8f7b-d329599492b2",
   "metadata": {},
   "outputs": [
    {
     "data": {
      "text/plain": [
       "380000000"
      ]
     },
     "execution_count": 173,
     "metadata": {},
     "output_type": "execute_result"
    }
   ],
   "source": [
    "train_data['budget'].max()"
   ]
  },
  {
   "cell_type": "code",
   "execution_count": 174,
   "id": "ef79129b-5bc3-4722-868c-e7887828af89",
   "metadata": {},
   "outputs": [
    {
     "data": {
      "text/plain": [
       "array([10, 16, 24, 34, 14, 20, 28, 43, 11,  6, 36,  5, 33, 39, 21, 12, 35,\n",
       "        8, 37, 31, 26,  7, 13,  9, 40, 15, 29,  1, 27, 32, 41, 30, 17, 25,\n",
       "        3, 18])"
      ]
     },
     "execution_count": 174,
     "metadata": {},
     "output_type": "execute_result"
    }
   ],
   "source": [
    "train_data_c['original_language'].unique()"
   ]
  },
  {
   "cell_type": "code",
   "execution_count": 175,
   "id": "44e0c0c9-6e09-4b61-bfaa-29e991bc67f3",
   "metadata": {},
   "outputs": [
    {
     "data": {
      "text/plain": [
       "0       420\n",
       "1         0\n",
       "2         0\n",
       "3         0\n",
       "4         0\n",
       "       ... \n",
       "4393      0\n",
       "4394    731\n",
       "4395      0\n",
       "4396      0\n",
       "4397      0\n",
       "Name: belongs_to_collection, Length: 4398, dtype: int32"
      ]
     },
     "execution_count": 175,
     "metadata": {},
     "output_type": "execute_result"
    }
   ],
   "source": [
    "test_data_c['belongs_to_collection']"
   ]
  },
  {
   "cell_type": "code",
   "execution_count": 176,
   "id": "abcb6e0d-906e-4c96-aec9-48b706c49251",
   "metadata": {},
   "outputs": [],
   "source": [
    "def my_func():\n",
    "    my_var = 5\n",
    "    return my_var + 10"
   ]
  },
  {
   "cell_type": "code",
   "execution_count": 177,
   "id": "d3e68a53-ed59-42a6-9f65-98a20f9ad315",
   "metadata": {},
   "outputs": [
    {
     "data": {
      "text/plain": [
       "<function __main__.my_func()>"
      ]
     },
     "execution_count": 177,
     "metadata": {},
     "output_type": "execute_result"
    }
   ],
   "source": [
    "my_func"
   ]
  },
  {
   "cell_type": "code",
   "execution_count": null,
   "id": "65d202bf-9dfc-4072-945a-79034742d511",
   "metadata": {},
   "outputs": [],
   "source": []
  }
 ],
 "metadata": {
  "kernelspec": {
   "display_name": "Python 3 (ipykernel)",
   "language": "python",
   "name": "python3"
  },
  "language_info": {
   "codemirror_mode": {
    "name": "ipython",
    "version": 3
   },
   "file_extension": ".py",
   "mimetype": "text/x-python",
   "name": "python",
   "nbconvert_exporter": "python",
   "pygments_lexer": "ipython3",
   "version": "3.9.7"
  }
 },
 "nbformat": 4,
 "nbformat_minor": 5
}
