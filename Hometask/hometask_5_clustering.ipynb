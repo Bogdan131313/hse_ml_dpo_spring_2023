{
 "cells": [
  {
   "cell_type": "markdown",
   "metadata": {
    "id": "rZOA7MoXtA-e"
   },
   "source": [
    "# Часть 1: K-Means\n",
    "## Кластеризация исполнителей по жанрам"
   ]
  },
  {
   "cell_type": "markdown",
   "metadata": {
    "id": "kabxpe1rpmPc"
   },
   "source": [
    "В этом задании вы попробуете кластеризовать исполнителей по жанрам на основе данных о прослушивании.\n",
    "\n",
    "В матрице sample_matrix по строкам стоят пользователи, а по столбцам - исполнители.\n",
    "\n",
    "Для каждой пары (пользователь,исполнитель) в таблице стоит число - доля (процент) прослушивания этого исполнителя выбранным пользователем."
   ]
  },
  {
   "cell_type": "markdown",
   "metadata": {
    "id": "wF3gCvLCtYyv"
   },
   "source": [
    "## Импорт библиотек, загрузка данных"
   ]
  },
  {
   "cell_type": "code",
   "execution_count": 267,
   "metadata": {
    "id": "uprlaM05NGvI"
   },
   "outputs": [],
   "source": [
    "import pandas as pd\n",
    "import numpy as np\n",
    "from scipy import spatial"
   ]
  },
  {
   "cell_type": "code",
   "execution_count": 195,
   "metadata": {
    "id": "BeE8Io3_uhi3"
   },
   "outputs": [],
   "source": [
    "ratings = pd.read_excel(\"https://github.com/evgpat/edu_stepik_rec_sys/blob/main/datasets/sample_matrix.xlsx?raw=true\", engine='openpyxl')"
   ]
  },
  {
   "cell_type": "code",
   "execution_count": 196,
   "metadata": {
    "colab": {
     "base_uri": "https://localhost:8080/",
     "height": 297
    },
    "id": "ZD0jf_i1Oy5d",
    "outputId": "e4f54839-20dc-4c19-a671-e1be5490fad6"
   },
   "outputs": [
    {
     "data": {
      "text/html": [
       "<div>\n",
       "<style scoped>\n",
       "    .dataframe tbody tr th:only-of-type {\n",
       "        vertical-align: middle;\n",
       "    }\n",
       "\n",
       "    .dataframe tbody tr th {\n",
       "        vertical-align: top;\n",
       "    }\n",
       "\n",
       "    .dataframe thead th {\n",
       "        text-align: right;\n",
       "    }\n",
       "</style>\n",
       "<table border=\"1\" class=\"dataframe\">\n",
       "  <thead>\n",
       "    <tr style=\"text-align: right;\">\n",
       "      <th></th>\n",
       "      <th>user</th>\n",
       "      <th>the beatles</th>\n",
       "      <th>radiohead</th>\n",
       "      <th>deathcab for cutie</th>\n",
       "      <th>coldplay</th>\n",
       "      <th>modest mouse</th>\n",
       "      <th>sufjan stevens</th>\n",
       "      <th>dylan. bob</th>\n",
       "      <th>red hot clili peppers</th>\n",
       "      <th>pink fluid</th>\n",
       "      <th>...</th>\n",
       "      <th>municipal waste</th>\n",
       "      <th>townes van zandt</th>\n",
       "      <th>curtis mayfield</th>\n",
       "      <th>jewel</th>\n",
       "      <th>lamb</th>\n",
       "      <th>michal w. smith</th>\n",
       "      <th>群星</th>\n",
       "      <th>agalloch</th>\n",
       "      <th>meshuggah</th>\n",
       "      <th>yellowcard</th>\n",
       "    </tr>\n",
       "  </thead>\n",
       "  <tbody>\n",
       "    <tr>\n",
       "      <th>0</th>\n",
       "      <td>0</td>\n",
       "      <td>NaN</td>\n",
       "      <td>0.020417</td>\n",
       "      <td>NaN</td>\n",
       "      <td>NaN</td>\n",
       "      <td>NaN</td>\n",
       "      <td>NaN</td>\n",
       "      <td>NaN</td>\n",
       "      <td>0.030496</td>\n",
       "      <td>NaN</td>\n",
       "      <td>...</td>\n",
       "      <td>NaN</td>\n",
       "      <td>NaN</td>\n",
       "      <td>NaN</td>\n",
       "      <td>NaN</td>\n",
       "      <td>NaN</td>\n",
       "      <td>NaN</td>\n",
       "      <td>NaN</td>\n",
       "      <td>NaN</td>\n",
       "      <td>NaN</td>\n",
       "      <td>NaN</td>\n",
       "    </tr>\n",
       "    <tr>\n",
       "      <th>1</th>\n",
       "      <td>1</td>\n",
       "      <td>NaN</td>\n",
       "      <td>0.184962</td>\n",
       "      <td>0.024561</td>\n",
       "      <td>NaN</td>\n",
       "      <td>NaN</td>\n",
       "      <td>0.136341</td>\n",
       "      <td>NaN</td>\n",
       "      <td>NaN</td>\n",
       "      <td>NaN</td>\n",
       "      <td>...</td>\n",
       "      <td>NaN</td>\n",
       "      <td>NaN</td>\n",
       "      <td>NaN</td>\n",
       "      <td>NaN</td>\n",
       "      <td>NaN</td>\n",
       "      <td>NaN</td>\n",
       "      <td>NaN</td>\n",
       "      <td>NaN</td>\n",
       "      <td>NaN</td>\n",
       "      <td>NaN</td>\n",
       "    </tr>\n",
       "    <tr>\n",
       "      <th>2</th>\n",
       "      <td>2</td>\n",
       "      <td>NaN</td>\n",
       "      <td>NaN</td>\n",
       "      <td>0.028635</td>\n",
       "      <td>NaN</td>\n",
       "      <td>NaN</td>\n",
       "      <td>NaN</td>\n",
       "      <td>0.024559</td>\n",
       "      <td>NaN</td>\n",
       "      <td>NaN</td>\n",
       "      <td>...</td>\n",
       "      <td>NaN</td>\n",
       "      <td>NaN</td>\n",
       "      <td>NaN</td>\n",
       "      <td>NaN</td>\n",
       "      <td>NaN</td>\n",
       "      <td>NaN</td>\n",
       "      <td>NaN</td>\n",
       "      <td>NaN</td>\n",
       "      <td>NaN</td>\n",
       "      <td>NaN</td>\n",
       "    </tr>\n",
       "    <tr>\n",
       "      <th>3</th>\n",
       "      <td>3</td>\n",
       "      <td>NaN</td>\n",
       "      <td>NaN</td>\n",
       "      <td>NaN</td>\n",
       "      <td>NaN</td>\n",
       "      <td>NaN</td>\n",
       "      <td>NaN</td>\n",
       "      <td>NaN</td>\n",
       "      <td>NaN</td>\n",
       "      <td>NaN</td>\n",
       "      <td>...</td>\n",
       "      <td>NaN</td>\n",
       "      <td>NaN</td>\n",
       "      <td>NaN</td>\n",
       "      <td>NaN</td>\n",
       "      <td>NaN</td>\n",
       "      <td>NaN</td>\n",
       "      <td>NaN</td>\n",
       "      <td>NaN</td>\n",
       "      <td>NaN</td>\n",
       "      <td>NaN</td>\n",
       "    </tr>\n",
       "    <tr>\n",
       "      <th>4</th>\n",
       "      <td>4</td>\n",
       "      <td>0.043529</td>\n",
       "      <td>0.086281</td>\n",
       "      <td>0.034590</td>\n",
       "      <td>0.016712</td>\n",
       "      <td>0.015935</td>\n",
       "      <td>NaN</td>\n",
       "      <td>NaN</td>\n",
       "      <td>NaN</td>\n",
       "      <td>NaN</td>\n",
       "      <td>...</td>\n",
       "      <td>NaN</td>\n",
       "      <td>NaN</td>\n",
       "      <td>NaN</td>\n",
       "      <td>NaN</td>\n",
       "      <td>NaN</td>\n",
       "      <td>NaN</td>\n",
       "      <td>NaN</td>\n",
       "      <td>NaN</td>\n",
       "      <td>NaN</td>\n",
       "      <td>NaN</td>\n",
       "    </tr>\n",
       "  </tbody>\n",
       "</table>\n",
       "<p>5 rows × 1001 columns</p>\n",
       "</div>"
      ],
      "text/plain": [
       "   user  the beatles  radiohead  deathcab for cutie  coldplay  modest mouse  \\\n",
       "0     0          NaN   0.020417                 NaN       NaN           NaN   \n",
       "1     1          NaN   0.184962            0.024561       NaN           NaN   \n",
       "2     2          NaN        NaN            0.028635       NaN           NaN   \n",
       "3     3          NaN        NaN                 NaN       NaN           NaN   \n",
       "4     4     0.043529   0.086281            0.034590  0.016712      0.015935   \n",
       "\n",
       "   sufjan stevens  dylan. bob  red hot clili peppers  pink fluid  ...  \\\n",
       "0             NaN         NaN               0.030496         NaN  ...   \n",
       "1        0.136341         NaN                    NaN         NaN  ...   \n",
       "2             NaN    0.024559                    NaN         NaN  ...   \n",
       "3             NaN         NaN                    NaN         NaN  ...   \n",
       "4             NaN         NaN                    NaN         NaN  ...   \n",
       "\n",
       "   municipal waste  townes van zandt  curtis mayfield  jewel  lamb  \\\n",
       "0              NaN               NaN              NaN    NaN   NaN   \n",
       "1              NaN               NaN              NaN    NaN   NaN   \n",
       "2              NaN               NaN              NaN    NaN   NaN   \n",
       "3              NaN               NaN              NaN    NaN   NaN   \n",
       "4              NaN               NaN              NaN    NaN   NaN   \n",
       "\n",
       "   michal w. smith  群星  agalloch  meshuggah  yellowcard  \n",
       "0              NaN NaN       NaN        NaN         NaN  \n",
       "1              NaN NaN       NaN        NaN         NaN  \n",
       "2              NaN NaN       NaN        NaN         NaN  \n",
       "3              NaN NaN       NaN        NaN         NaN  \n",
       "4              NaN NaN       NaN        NaN         NaN  \n",
       "\n",
       "[5 rows x 1001 columns]"
      ]
     },
     "execution_count": 196,
     "metadata": {},
     "output_type": "execute_result"
    }
   ],
   "source": [
    "ratings.head()"
   ]
  },
  {
   "cell_type": "markdown",
   "metadata": {
    "id": "WqKY6bd2vfGK"
   },
   "source": [
    "## Задание"
   ]
  },
  {
   "cell_type": "markdown",
   "metadata": {
    "id": "pHTPXIEvp_9f"
   },
   "source": [
    "Транспонируем матрицу ratings, чтобы по строкам стояли исполнители."
   ]
  },
  {
   "cell_type": "code",
   "execution_count": 197,
   "metadata": {
    "id": "BfKDPzjoPxKE"
   },
   "outputs": [],
   "source": [
    "ratings = ratings.T"
   ]
  },
  {
   "cell_type": "markdown",
   "metadata": {
    "id": "B9tfrtCoqFbQ"
   },
   "source": [
    "Выкиньте строку под названием `user`."
   ]
  },
  {
   "cell_type": "code",
   "execution_count": 198,
   "metadata": {},
   "outputs": [
    {
     "data": {
      "text/html": [
       "<div>\n",
       "<style scoped>\n",
       "    .dataframe tbody tr th:only-of-type {\n",
       "        vertical-align: middle;\n",
       "    }\n",
       "\n",
       "    .dataframe tbody tr th {\n",
       "        vertical-align: top;\n",
       "    }\n",
       "\n",
       "    .dataframe thead th {\n",
       "        text-align: right;\n",
       "    }\n",
       "</style>\n",
       "<table border=\"1\" class=\"dataframe\">\n",
       "  <thead>\n",
       "    <tr style=\"text-align: right;\">\n",
       "      <th></th>\n",
       "      <th>0</th>\n",
       "      <th>1</th>\n",
       "      <th>2</th>\n",
       "      <th>3</th>\n",
       "      <th>4</th>\n",
       "      <th>5</th>\n",
       "      <th>6</th>\n",
       "      <th>7</th>\n",
       "      <th>8</th>\n",
       "      <th>9</th>\n",
       "      <th>...</th>\n",
       "      <th>4990</th>\n",
       "      <th>4991</th>\n",
       "      <th>4992</th>\n",
       "      <th>4993</th>\n",
       "      <th>4994</th>\n",
       "      <th>4995</th>\n",
       "      <th>4996</th>\n",
       "      <th>4997</th>\n",
       "      <th>4998</th>\n",
       "      <th>4999</th>\n",
       "    </tr>\n",
       "  </thead>\n",
       "  <tbody>\n",
       "    <tr>\n",
       "      <th>user</th>\n",
       "      <td>0.000000</td>\n",
       "      <td>1.000000</td>\n",
       "      <td>2.0</td>\n",
       "      <td>3.0</td>\n",
       "      <td>4.000000</td>\n",
       "      <td>5.000000</td>\n",
       "      <td>6.0</td>\n",
       "      <td>7.0</td>\n",
       "      <td>8.000000</td>\n",
       "      <td>9.000000</td>\n",
       "      <td>...</td>\n",
       "      <td>4990.000000</td>\n",
       "      <td>4991.0</td>\n",
       "      <td>4992.000000</td>\n",
       "      <td>4993.000000</td>\n",
       "      <td>4994.000000</td>\n",
       "      <td>4995.000000</td>\n",
       "      <td>4996.0</td>\n",
       "      <td>4997.000000</td>\n",
       "      <td>4998.0</td>\n",
       "      <td>4999.0</td>\n",
       "    </tr>\n",
       "    <tr>\n",
       "      <th>the beatles</th>\n",
       "      <td>NaN</td>\n",
       "      <td>NaN</td>\n",
       "      <td>NaN</td>\n",
       "      <td>NaN</td>\n",
       "      <td>0.043529</td>\n",
       "      <td>NaN</td>\n",
       "      <td>NaN</td>\n",
       "      <td>NaN</td>\n",
       "      <td>0.093398</td>\n",
       "      <td>0.017621</td>\n",
       "      <td>...</td>\n",
       "      <td>NaN</td>\n",
       "      <td>NaN</td>\n",
       "      <td>0.121169</td>\n",
       "      <td>0.038168</td>\n",
       "      <td>0.007939</td>\n",
       "      <td>0.017884</td>\n",
       "      <td>NaN</td>\n",
       "      <td>0.076923</td>\n",
       "      <td>NaN</td>\n",
       "      <td>NaN</td>\n",
       "    </tr>\n",
       "    <tr>\n",
       "      <th>radiohead</th>\n",
       "      <td>0.020417</td>\n",
       "      <td>0.184962</td>\n",
       "      <td>NaN</td>\n",
       "      <td>NaN</td>\n",
       "      <td>0.086281</td>\n",
       "      <td>0.006322</td>\n",
       "      <td>NaN</td>\n",
       "      <td>NaN</td>\n",
       "      <td>NaN</td>\n",
       "      <td>0.019156</td>\n",
       "      <td>...</td>\n",
       "      <td>0.017735</td>\n",
       "      <td>NaN</td>\n",
       "      <td>NaN</td>\n",
       "      <td>NaN</td>\n",
       "      <td>0.011187</td>\n",
       "      <td>NaN</td>\n",
       "      <td>NaN</td>\n",
       "      <td>NaN</td>\n",
       "      <td>NaN</td>\n",
       "      <td>NaN</td>\n",
       "    </tr>\n",
       "  </tbody>\n",
       "</table>\n",
       "<p>3 rows × 5000 columns</p>\n",
       "</div>"
      ],
      "text/plain": [
       "                 0         1     2     3         4         5     6     7     \\\n",
       "user         0.000000  1.000000   2.0   3.0  4.000000  5.000000   6.0   7.0   \n",
       "the beatles       NaN       NaN   NaN   NaN  0.043529       NaN   NaN   NaN   \n",
       "radiohead    0.020417  0.184962   NaN   NaN  0.086281  0.006322   NaN   NaN   \n",
       "\n",
       "                 8         9     ...         4990    4991         4992  \\\n",
       "user         8.000000  9.000000  ...  4990.000000  4991.0  4992.000000   \n",
       "the beatles  0.093398  0.017621  ...          NaN     NaN     0.121169   \n",
       "radiohead         NaN  0.019156  ...     0.017735     NaN          NaN   \n",
       "\n",
       "                    4993         4994         4995    4996         4997  \\\n",
       "user         4993.000000  4994.000000  4995.000000  4996.0  4997.000000   \n",
       "the beatles     0.038168     0.007939     0.017884     NaN     0.076923   \n",
       "radiohead            NaN     0.011187          NaN     NaN          NaN   \n",
       "\n",
       "               4998    4999  \n",
       "user         4998.0  4999.0  \n",
       "the beatles     NaN     NaN  \n",
       "radiohead       NaN     NaN  \n",
       "\n",
       "[3 rows x 5000 columns]"
      ]
     },
     "execution_count": 198,
     "metadata": {},
     "output_type": "execute_result"
    }
   ],
   "source": [
    "ratings[:3]"
   ]
  },
  {
   "cell_type": "code",
   "execution_count": 199,
   "metadata": {
    "id": "FNMhITClOeyN"
   },
   "outputs": [],
   "source": [
    "ratings.drop(labels='user', axis=0, inplace=True)"
   ]
  },
  {
   "cell_type": "markdown",
   "metadata": {
    "id": "eKZfzlnMBO-M"
   },
   "source": [
    "## Вопрос для Quiz\n",
    "\n",
    "Сколько строк осталось в матрице ratings?"
   ]
  },
  {
   "cell_type": "code",
   "execution_count": 200,
   "metadata": {},
   "outputs": [
    {
     "data": {
      "text/plain": [
       "(1000, 5000)"
      ]
     },
     "execution_count": 200,
     "metadata": {},
     "output_type": "execute_result"
    }
   ],
   "source": [
    "ratings.shape"
   ]
  },
  {
   "cell_type": "markdown",
   "metadata": {
    "id": "rxxnjpNVqJYN"
   },
   "source": [
    "Заполните пропуски нулями."
   ]
  },
  {
   "cell_type": "code",
   "execution_count": 201,
   "metadata": {
    "id": "iKduzcA2OiFV"
   },
   "outputs": [],
   "source": [
    "ratings.fillna(0, inplace=True)"
   ]
  },
  {
   "cell_type": "markdown",
   "metadata": {
    "id": "j3ca2KiJqL9J"
   },
   "source": [
    "Нормализуйте данные при помощи `normalize`."
   ]
  },
  {
   "cell_type": "code",
   "execution_count": 202,
   "metadata": {
    "id": "CVxxov5dqSb2"
   },
   "outputs": [],
   "source": [
    "from sklearn.preprocessing import normalize\n",
    "\n",
    "norm_data = normalize(ratings)"
   ]
  },
  {
   "cell_type": "code",
   "execution_count": 203,
   "metadata": {},
   "outputs": [],
   "source": [
    "cols = ratings.columns\n",
    "idx = ratings.index"
   ]
  },
  {
   "cell_type": "code",
   "execution_count": 204,
   "metadata": {},
   "outputs": [],
   "source": [
    "norm_data = pd.DataFrame(data=norm_data, columns=cols, index=idx)"
   ]
  },
  {
   "cell_type": "code",
   "execution_count": 205,
   "metadata": {},
   "outputs": [
    {
     "data": {
      "text/html": [
       "<div>\n",
       "<style scoped>\n",
       "    .dataframe tbody tr th:only-of-type {\n",
       "        vertical-align: middle;\n",
       "    }\n",
       "\n",
       "    .dataframe tbody tr th {\n",
       "        vertical-align: top;\n",
       "    }\n",
       "\n",
       "    .dataframe thead th {\n",
       "        text-align: right;\n",
       "    }\n",
       "</style>\n",
       "<table border=\"1\" class=\"dataframe\">\n",
       "  <thead>\n",
       "    <tr style=\"text-align: right;\">\n",
       "      <th></th>\n",
       "      <th>0</th>\n",
       "      <th>1</th>\n",
       "      <th>2</th>\n",
       "      <th>3</th>\n",
       "      <th>4</th>\n",
       "      <th>5</th>\n",
       "      <th>6</th>\n",
       "      <th>7</th>\n",
       "      <th>8</th>\n",
       "      <th>9</th>\n",
       "      <th>...</th>\n",
       "      <th>4990</th>\n",
       "      <th>4991</th>\n",
       "      <th>4992</th>\n",
       "      <th>4993</th>\n",
       "      <th>4994</th>\n",
       "      <th>4995</th>\n",
       "      <th>4996</th>\n",
       "      <th>4997</th>\n",
       "      <th>4998</th>\n",
       "      <th>4999</th>\n",
       "    </tr>\n",
       "  </thead>\n",
       "  <tbody>\n",
       "    <tr>\n",
       "      <th>the beatles</th>\n",
       "      <td>0.000000</td>\n",
       "      <td>0.000000</td>\n",
       "      <td>0.000000</td>\n",
       "      <td>0.0</td>\n",
       "      <td>0.012054</td>\n",
       "      <td>0.000000</td>\n",
       "      <td>0.0</td>\n",
       "      <td>0.0</td>\n",
       "      <td>0.025864</td>\n",
       "      <td>0.004880</td>\n",
       "      <td>...</td>\n",
       "      <td>0.000000</td>\n",
       "      <td>0.0</td>\n",
       "      <td>0.033554</td>\n",
       "      <td>0.010569</td>\n",
       "      <td>0.002199</td>\n",
       "      <td>0.004952</td>\n",
       "      <td>0.0</td>\n",
       "      <td>0.021302</td>\n",
       "      <td>0.0</td>\n",
       "      <td>0.000000</td>\n",
       "    </tr>\n",
       "    <tr>\n",
       "      <th>radiohead</th>\n",
       "      <td>0.009348</td>\n",
       "      <td>0.084688</td>\n",
       "      <td>0.000000</td>\n",
       "      <td>0.0</td>\n",
       "      <td>0.039505</td>\n",
       "      <td>0.002894</td>\n",
       "      <td>0.0</td>\n",
       "      <td>0.0</td>\n",
       "      <td>0.000000</td>\n",
       "      <td>0.008771</td>\n",
       "      <td>...</td>\n",
       "      <td>0.008120</td>\n",
       "      <td>0.0</td>\n",
       "      <td>0.000000</td>\n",
       "      <td>0.000000</td>\n",
       "      <td>0.005122</td>\n",
       "      <td>0.000000</td>\n",
       "      <td>0.0</td>\n",
       "      <td>0.000000</td>\n",
       "      <td>0.0</td>\n",
       "      <td>0.000000</td>\n",
       "    </tr>\n",
       "    <tr>\n",
       "      <th>deathcab for cutie</th>\n",
       "      <td>0.000000</td>\n",
       "      <td>0.017278</td>\n",
       "      <td>0.020144</td>\n",
       "      <td>0.0</td>\n",
       "      <td>0.024333</td>\n",
       "      <td>0.000000</td>\n",
       "      <td>0.0</td>\n",
       "      <td>0.0</td>\n",
       "      <td>0.000000</td>\n",
       "      <td>0.009391</td>\n",
       "      <td>...</td>\n",
       "      <td>0.085361</td>\n",
       "      <td>0.0</td>\n",
       "      <td>0.000000</td>\n",
       "      <td>0.000000</td>\n",
       "      <td>0.000000</td>\n",
       "      <td>0.000000</td>\n",
       "      <td>0.0</td>\n",
       "      <td>0.000000</td>\n",
       "      <td>0.0</td>\n",
       "      <td>0.019622</td>\n",
       "    </tr>\n",
       "  </tbody>\n",
       "</table>\n",
       "<p>3 rows × 5000 columns</p>\n",
       "</div>"
      ],
      "text/plain": [
       "                        0         1         2     3         4         5     \\\n",
       "the beatles         0.000000  0.000000  0.000000   0.0  0.012054  0.000000   \n",
       "radiohead           0.009348  0.084688  0.000000   0.0  0.039505  0.002894   \n",
       "deathcab for cutie  0.000000  0.017278  0.020144   0.0  0.024333  0.000000   \n",
       "\n",
       "                    6     7         8         9     ...      4990  4991  \\\n",
       "the beatles          0.0   0.0  0.025864  0.004880  ...  0.000000   0.0   \n",
       "radiohead            0.0   0.0  0.000000  0.008771  ...  0.008120   0.0   \n",
       "deathcab for cutie   0.0   0.0  0.000000  0.009391  ...  0.085361   0.0   \n",
       "\n",
       "                        4992      4993      4994      4995  4996      4997  \\\n",
       "the beatles         0.033554  0.010569  0.002199  0.004952   0.0  0.021302   \n",
       "radiohead           0.000000  0.000000  0.005122  0.000000   0.0  0.000000   \n",
       "deathcab for cutie  0.000000  0.000000  0.000000  0.000000   0.0  0.000000   \n",
       "\n",
       "                    4998      4999  \n",
       "the beatles          0.0  0.000000  \n",
       "radiohead            0.0  0.000000  \n",
       "deathcab for cutie   0.0  0.019622  \n",
       "\n",
       "[3 rows x 5000 columns]"
      ]
     },
     "execution_count": 205,
     "metadata": {},
     "output_type": "execute_result"
    }
   ],
   "source": [
    "norm_data[:3]"
   ]
  },
  {
   "cell_type": "markdown",
   "metadata": {
    "id": "Ne6bESslqUXp"
   },
   "source": [
    "Примените KMeans с 5ю кластерами на преобразованной матрице (сделайте fit, а затем вычислите кластеры при помощи predict)."
   ]
  },
  {
   "cell_type": "code",
   "execution_count": 206,
   "metadata": {
    "id": "cP13pV-dNo5s"
   },
   "outputs": [],
   "source": [
    "from sklearn.cluster import KMeans\n",
    "\n",
    "model = KMeans(n_clusters=5)"
   ]
  },
  {
   "cell_type": "code",
   "execution_count": 207,
   "metadata": {},
   "outputs": [
    {
     "data": {
      "text/plain": [
       "KMeans(n_clusters=5)"
      ]
     },
     "execution_count": 207,
     "metadata": {},
     "output_type": "execute_result"
    }
   ],
   "source": [
    "model.fit(norm_data)"
   ]
  },
  {
   "cell_type": "code",
   "execution_count": 208,
   "metadata": {},
   "outputs": [],
   "source": [
    "clasters = model.predict(norm_data)"
   ]
  },
  {
   "cell_type": "markdown",
   "metadata": {
    "id": "uZk0MMMUqiYM"
   },
   "source": [
    "Выведите на экран центры кластеров (центроиды)"
   ]
  },
  {
   "cell_type": "code",
   "execution_count": 209,
   "metadata": {},
   "outputs": [
    {
     "data": {
      "text/plain": [
       "array([0, 1, 2, 3, 4])"
      ]
     },
     "execution_count": 209,
     "metadata": {},
     "output_type": "execute_result"
    }
   ],
   "source": [
    "np.unique(clasters)"
   ]
  },
  {
   "cell_type": "code",
   "execution_count": 210,
   "metadata": {
    "id": "6mBQ-C1Bqmm3"
   },
   "outputs": [],
   "source": [
    "centroids = model.cluster_centers_"
   ]
  },
  {
   "cell_type": "code",
   "execution_count": 211,
   "metadata": {},
   "outputs": [],
   "source": [
    "#centroids[0].shape"
   ]
  },
  {
   "cell_type": "code",
   "execution_count": 212,
   "metadata": {},
   "outputs": [],
   "source": [
    "#norm_data.values[0].shape"
   ]
  },
  {
   "cell_type": "code",
   "execution_count": 244,
   "metadata": {},
   "outputs": [],
   "source": [
    "norm_data_with_claster = norm_data.copy()\n",
    "norm_data_with_claster['claster'] = clasters"
   ]
  },
  {
   "cell_type": "code",
   "execution_count": 265,
   "metadata": {},
   "outputs": [
    {
     "data": {
      "text/html": [
       "<div>\n",
       "<style scoped>\n",
       "    .dataframe tbody tr th:only-of-type {\n",
       "        vertical-align: middle;\n",
       "    }\n",
       "\n",
       "    .dataframe tbody tr th {\n",
       "        vertical-align: top;\n",
       "    }\n",
       "\n",
       "    .dataframe thead th {\n",
       "        text-align: right;\n",
       "    }\n",
       "</style>\n",
       "<table border=\"1\" class=\"dataframe\">\n",
       "  <thead>\n",
       "    <tr style=\"text-align: right;\">\n",
       "      <th></th>\n",
       "      <th>0</th>\n",
       "      <th>1</th>\n",
       "      <th>2</th>\n",
       "      <th>3</th>\n",
       "      <th>4</th>\n",
       "      <th>5</th>\n",
       "      <th>6</th>\n",
       "      <th>7</th>\n",
       "      <th>8</th>\n",
       "      <th>9</th>\n",
       "      <th>...</th>\n",
       "      <th>4991</th>\n",
       "      <th>4992</th>\n",
       "      <th>4993</th>\n",
       "      <th>4994</th>\n",
       "      <th>4995</th>\n",
       "      <th>4996</th>\n",
       "      <th>4997</th>\n",
       "      <th>4998</th>\n",
       "      <th>4999</th>\n",
       "      <th>claster</th>\n",
       "    </tr>\n",
       "  </thead>\n",
       "  <tbody>\n",
       "    <tr>\n",
       "      <th>the beatles</th>\n",
       "      <td>0.000000</td>\n",
       "      <td>0.000000</td>\n",
       "      <td>0.000000</td>\n",
       "      <td>0.0</td>\n",
       "      <td>0.012054</td>\n",
       "      <td>0.000000</td>\n",
       "      <td>0.0</td>\n",
       "      <td>0.0</td>\n",
       "      <td>0.025864</td>\n",
       "      <td>0.004880</td>\n",
       "      <td>...</td>\n",
       "      <td>0.0</td>\n",
       "      <td>0.033554</td>\n",
       "      <td>0.010569</td>\n",
       "      <td>0.002199</td>\n",
       "      <td>0.004952</td>\n",
       "      <td>0.0</td>\n",
       "      <td>0.021302</td>\n",
       "      <td>0.0</td>\n",
       "      <td>0.000000</td>\n",
       "      <td>1</td>\n",
       "    </tr>\n",
       "    <tr>\n",
       "      <th>radiohead</th>\n",
       "      <td>0.009348</td>\n",
       "      <td>0.084688</td>\n",
       "      <td>0.000000</td>\n",
       "      <td>0.0</td>\n",
       "      <td>0.039505</td>\n",
       "      <td>0.002894</td>\n",
       "      <td>0.0</td>\n",
       "      <td>0.0</td>\n",
       "      <td>0.000000</td>\n",
       "      <td>0.008771</td>\n",
       "      <td>...</td>\n",
       "      <td>0.0</td>\n",
       "      <td>0.000000</td>\n",
       "      <td>0.000000</td>\n",
       "      <td>0.005122</td>\n",
       "      <td>0.000000</td>\n",
       "      <td>0.0</td>\n",
       "      <td>0.000000</td>\n",
       "      <td>0.0</td>\n",
       "      <td>0.000000</td>\n",
       "      <td>2</td>\n",
       "    </tr>\n",
       "    <tr>\n",
       "      <th>deathcab for cutie</th>\n",
       "      <td>0.000000</td>\n",
       "      <td>0.017278</td>\n",
       "      <td>0.020144</td>\n",
       "      <td>0.0</td>\n",
       "      <td>0.024333</td>\n",
       "      <td>0.000000</td>\n",
       "      <td>0.0</td>\n",
       "      <td>0.0</td>\n",
       "      <td>0.000000</td>\n",
       "      <td>0.009391</td>\n",
       "      <td>...</td>\n",
       "      <td>0.0</td>\n",
       "      <td>0.000000</td>\n",
       "      <td>0.000000</td>\n",
       "      <td>0.000000</td>\n",
       "      <td>0.000000</td>\n",
       "      <td>0.0</td>\n",
       "      <td>0.000000</td>\n",
       "      <td>0.0</td>\n",
       "      <td>0.019622</td>\n",
       "      <td>4</td>\n",
       "    </tr>\n",
       "  </tbody>\n",
       "</table>\n",
       "<p>3 rows × 5001 columns</p>\n",
       "</div>"
      ],
      "text/plain": [
       "                           0         1         2    3         4         5  \\\n",
       "the beatles         0.000000  0.000000  0.000000  0.0  0.012054  0.000000   \n",
       "radiohead           0.009348  0.084688  0.000000  0.0  0.039505  0.002894   \n",
       "deathcab for cutie  0.000000  0.017278  0.020144  0.0  0.024333  0.000000   \n",
       "\n",
       "                      6    7         8         9  ...  4991      4992  \\\n",
       "the beatles         0.0  0.0  0.025864  0.004880  ...   0.0  0.033554   \n",
       "radiohead           0.0  0.0  0.000000  0.008771  ...   0.0  0.000000   \n",
       "deathcab for cutie  0.0  0.0  0.000000  0.009391  ...   0.0  0.000000   \n",
       "\n",
       "                        4993      4994      4995  4996      4997  4998  \\\n",
       "the beatles         0.010569  0.002199  0.004952   0.0  0.021302   0.0   \n",
       "radiohead           0.000000  0.005122  0.000000   0.0  0.000000   0.0   \n",
       "deathcab for cutie  0.000000  0.000000  0.000000   0.0  0.000000   0.0   \n",
       "\n",
       "                        4999  claster  \n",
       "the beatles         0.000000        1  \n",
       "radiohead           0.000000        2  \n",
       "deathcab for cutie  0.019622        4  \n",
       "\n",
       "[3 rows x 5001 columns]"
      ]
     },
     "execution_count": 265,
     "metadata": {},
     "output_type": "execute_result"
    }
   ],
   "source": [
    "norm_data_with_claster[:3]"
   ]
  },
  {
   "cell_type": "code",
   "execution_count": 258,
   "metadata": {},
   "outputs": [],
   "source": [
    "dist_to_claster = {k:[] for k in np.unique(clasters)}\n",
    "for idx, row in norm_data_with_claster.iterrows():\n",
    "    for claster, center in enumerate(centroids):\n",
    "        dist = spatial.distance.cosine (row.values[:-1], center)\n",
    "        dist_to_claster[claster].append((idx, dist, row.values[-1]))"
   ]
  },
  {
   "cell_type": "code",
   "execution_count": 259,
   "metadata": {},
   "outputs": [],
   "source": [
    "for key in dist_to_claster.keys():\n",
    "    dist_to_claster[key] = sorted(dist_to_claster[key], key=lambda x: x[1])"
   ]
  },
  {
   "cell_type": "code",
   "execution_count": 268,
   "metadata": {},
   "outputs": [],
   "source": [
    "for key in dist_to_claster.keys():\n",
    "    dist_to_claster[key] = dist_to_claster[key][:10]"
   ]
  },
  {
   "cell_type": "code",
   "execution_count": 269,
   "metadata": {},
   "outputs": [
    {
     "data": {
      "text/plain": [
       "{0: [('metallica', 0.6964360896578804, 0.0),\n",
       "  ('system of a down', 0.7032612586817265, 0.0),\n",
       "  ('\\u200clinkin park', 0.7293864063565447, 0.0),\n",
       "  ('koЯn', 0.7294932202890299, 0.0),\n",
       "  ('niИ', 0.7380313003795351, 0.0),\n",
       "  ('tool', 0.7438304551661599, 0.0),\n",
       "  ('foo fighters', 0.752744994634014, 0.0),\n",
       "  ('red hot clili peppers', 0.7531800834777556, 0.0),\n",
       "  ('ratm', 0.7572340601704436, 0.0),\n",
       "  ('disturbed', 0.7597908407637797, 0.0)],\n",
       " 1: [('velvet underground', 0.6551299586627073, 1.0),\n",
       "  ('the beatles', 0.6592398267269624, 1.0),\n",
       "  ('the rolling stones', 0.6610477429836403, 1.0),\n",
       "  ('dylan. bob', 0.6618527148855038, 1.0),\n",
       "  ('sonic youth', 0.6924800580686696, 1.0),\n",
       "  ('the clash', 0.7029997115310131, 1.0),\n",
       "  ('divid bowie', 0.7212023123848794, 1.0),\n",
       "  ('the pixies', 0.7215959755380263, 1.0),\n",
       "  ('the smiths', 0.7249612345532332, 1.0),\n",
       "  ('the kinks', 0.7296051389138557, 1.0)],\n",
       " 2: [('radiohead', 0.5966684797032713, 2.0),\n",
       "  ('the arcade fire', 0.6022603479433877, 2.0),\n",
       "  ('sufjan stevens', 0.6087795830269499, 2.0),\n",
       "  ('broken social scene', 0.6186196086899641, 2.0),\n",
       "  ('belle and sebastian', 0.6332540046989639, 2.0),\n",
       "  ('animal collective', 0.6371362283319403, 2.0),\n",
       "  ('the shins', 0.6442764928890872, 2.0),\n",
       "  ('of montreal', 0.6512558524957224, 2.0),\n",
       "  ('beirut', 0.6532927967205283, 2.0),\n",
       "  ('andrew bird', 0.6771122848961053, 2.0)],\n",
       " 3: [('kanye west', 0.5182110582344406, 3.0),\n",
       "  ('nas', 0.5187867322459394, 3.0),\n",
       "  ('jay-z', 0.5274329631263901, 3.0),\n",
       "  ('lupe the gorilla', 0.6102127312736119, 3.0),\n",
       "  (\"the roots featuring d'angelo\", 0.6312685403500257, 3.0),\n",
       "  ('a tribe called quest', 0.6337500485346037, 3.0),\n",
       "  (\"lil' wayne\", 0.6545032354388248, 3.0),\n",
       "  ('mos def', 0.6583616935758212, 3.0),\n",
       "  ('little brother', 0.6603315920175483, 3.0),\n",
       "  ('the game', 0.6691735282215023, 3.0)],\n",
       " 4: [('brand new', 0.6128587798096938, 4.0),\n",
       "  ('fall out boy', 0.6167890469812234, 4.0),\n",
       "  ('taking back sunday', 0.6459678337027177, 4.0),\n",
       "  ('deathcab for cutie', 0.6471194569098034, 4.0),\n",
       "  ('dashboard confesssional', 0.6522478969465415, 4.0),\n",
       "  ('jimmy eat world', 0.6529315211439688, 4.0),\n",
       "  ('blink-182', 0.6668737739351539, 4.0),\n",
       "  ('paramore', 0.6677634426361815, 4.0),\n",
       "  ('cartel', 0.6699172512320549, 4.0),\n",
       "  ('saosin', 0.6718138941941709, 4.0)]}"
      ]
     },
     "execution_count": 269,
     "metadata": {},
     "output_type": "execute_result"
    }
   ],
   "source": [
    "dist_to_claster"
   ]
  },
  {
   "cell_type": "markdown",
   "metadata": {
    "id": "9eFLNiA_CRFq",
    "tags": []
   },
   "source": [
    "Для каждого кластера найдем топ-10 исполнителей, наиболее близких к центроидам соотвествующего кластера.\n",
    "\n",
    "Схожесть исполнителей будем считать по косинусной мере (spatial.distance.cosine).\n",
    "\n",
    "## Quiz\n",
    "\n",
    "Вычислите расстояние между \"the beatles\" и \"coldplay\". Ответ округлите до сотых.\n"
   ]
  },
  {
   "cell_type": "code",
   "execution_count": 271,
   "metadata": {},
   "outputs": [
    {
     "data": {
      "text/plain": [
       "0.8955669648278295"
      ]
     },
     "execution_count": 271,
     "metadata": {},
     "output_type": "execute_result"
    }
   ],
   "source": [
    "spatial.distance.cosine(norm_data.loc['the beatles'], norm_data.loc['coldplay'])"
   ]
  },
  {
   "cell_type": "markdown",
   "metadata": {
    "id": "BM3k07IRqnhF"
   },
   "source": [
    "Ниже для вашего удобства написана функция, принимающая на вход:\n",
    "* np.array points - все точки кластера\n",
    "* pt - центроид кластера\n",
    "* K = 10 - число\n",
    "Функция возвращает K индексов объектов (строк в массиве points), ближайших к центроиду."
   ]
  },
  {
   "cell_type": "code",
   "execution_count": null,
   "metadata": {
    "id": "8f-Pm9pNBYW2"
   },
   "outputs": [],
   "source": [
    "def pClosest(points, pt, K=10):\n",
    "    ind = [i[0] for i in sorted(enumerate(points), key=lambda x: spatial.distance.cosine(x[1], pt))]\n",
    " \n",
    "    return ind[:K]"
   ]
  },
  {
   "cell_type": "markdown",
   "metadata": {
    "id": "JPE-V0c9B_AC"
   },
   "source": [
    "Примените функцию pClosest (или придумайте свой подход) и выведите для каждого кластера названия топ-10 исполнителей, ближайших к центроиду."
   ]
  },
  {
   "cell_type": "code",
   "execution_count": null,
   "metadata": {
    "id": "PX1NO6CJqutV"
   },
   "outputs": [],
   "source": [
    "# ваш код здесь"
   ]
  },
  {
   "cell_type": "markdown",
   "metadata": {
    "id": "fk8TRHInqv_j"
   },
   "source": [
    "## Quiz\n",
    "\n",
    "Проинтерпретируйте результат. Что можно сказать о смысле кластеров?"
   ]
  },
  {
   "cell_type": "markdown",
   "metadata": {
    "id": "INk3CCWLa-ZJ"
   },
   "source": [
    "# Часть 2: сравнение алгоритмов кластеризации"
   ]
  },
  {
   "cell_type": "code",
   "execution_count": 272,
   "metadata": {
    "colab": {
     "base_uri": "https://localhost:8080/",
     "height": 447
    },
    "id": "4fgkK-YubAzW",
    "outputId": "defcf8f5-78f8-44d5-ec81-900e7621d79f"
   },
   "outputs": [
    {
     "data": {
      "text/plain": [
       "<matplotlib.collections.PathCollection at 0x22690eb5ca0>"
      ]
     },
     "execution_count": 272,
     "metadata": {},
     "output_type": "execute_result"
    },
    {
     "data": {
      "image/png": "[encoded data removed]",
      "text/plain": [
       "<Figure size 432x288 with 1 Axes>"
      ]
     },
     "metadata": {
      "needs_background": "light"
     },
     "output_type": "display_data"
    }
   ],
   "source": [
    "from matplotlib import pyplot as plt\n",
    "from sklearn.datasets import make_moons\n",
    "\n",
    "data = make_moons(n_samples=100, noise=0.1, random_state=42)\n",
    "\n",
    "X = data[0]\n",
    "y = data[1]\n",
    "\n",
    "plt.scatter(X[:,0], X[:,1], c=y)"
   ]
  },
  {
   "cell_type": "markdown",
   "metadata": {
    "id": "9d0WxvzgcDG6"
   },
   "source": [
    "Далее вы попробуете разные кластеризации для поиска кластеров. Также замеряйте время работы каждого метода."
   ]
  },
  {
   "cell_type": "markdown",
   "metadata": {
    "id": "E8Aj-5rMbv19"
   },
   "source": [
    "Попробуйте найти кластеры при помощи KMeans"
   ]
  },
  {
   "cell_type": "code",
   "execution_count": 276,
   "metadata": {},
   "outputs": [],
   "source": [
    "model = KMeans(n_clusters=2)"
   ]
  },
  {
   "cell_type": "code",
   "execution_count": 277,
   "metadata": {
    "id": "rcZyFe8KbPze"
   },
   "outputs": [
    {
     "data": {
      "text/plain": [
       "KMeans(n_clusters=2)"
      ]
     },
     "execution_count": 277,
     "metadata": {},
     "output_type": "execute_result"
    }
   ],
   "source": [
    "model.fit(data[0])"
   ]
  },
  {
   "cell_type": "code",
   "execution_count": 279,
   "metadata": {},
   "outputs": [],
   "source": [
    "pred_clasters = model.predict(data[0])"
   ]
  },
  {
   "cell_type": "code",
   "execution_count": 282,
   "metadata": {},
   "outputs": [],
   "source": [
    "pred_true = list(zip(pred_clasters, data[1]))"
   ]
  },
  {
   "cell_type": "code",
   "execution_count": 284,
   "metadata": {},
   "outputs": [],
   "source": [
    "x_ = data[0]\n",
    "y_pred = pred_clasters"
   ]
  },
  {
   "cell_type": "code",
   "execution_count": 285,
   "metadata": {},
   "outputs": [
    {
     "data": {
      "text/plain": [
       "<matplotlib.collections.PathCollection at 0x22690febc40>"
      ]
     },
     "execution_count": 285,
     "metadata": {},
     "output_type": "execute_result"
    },
    {
     "data": {
      "image/png": "[encoded data removed]",
      "text/plain": [
       "<Figure size 432x288 with 1 Axes>"
      ]
     },
     "metadata": {
      "needs_background": "light"
     },
     "output_type": "display_data"
    }
   ],
   "source": [
    "x_ = data[0]\n",
    "y = y_pred\n",
    "\n",
    "plt.scatter(x_[:,0], x_[:,1], c=y)"
   ]
  },
  {
   "cell_type": "markdown",
   "metadata": {
    "id": "KQCV8we8b1OD"
   },
   "source": [
    "## Quiz\n",
    "\n",
    "Подберите $\\varepsilon$ и min_samples в DBSCAN, чтобы наилучшим образом найти кластеры.\n",
    "Ищите гиперпараметры из диапазонов:\n",
    "* eps in [0.05, 0.1, 0.2, 0.28, 0.3, 0.32]\n",
    "* min_samples in [4, 5, 6, 7]"
   ]
  },
  {
   "cell_type": "code",
   "execution_count": 288,
   "metadata": {
    "id": "XVFoaJqtb6z9"
   },
   "outputs": [],
   "source": [
    "from sklearn.cluster import DBSCAN\n",
    "from sklearn.metrics import accuracy_score"
   ]
  },
  {
   "cell_type": "code",
   "execution_count": 296,
   "metadata": {},
   "outputs": [],
   "source": [
    "best_eps = 0\n",
    "best_min_samples = 0\n",
    "max_accuracy = 0\n",
    "for eps in [0.05, 0.1, 0.2, 0.28, 0.3, 0.32]:\n",
    "    for min_samples in [4, 5, 6, 7]:\n",
    "        model = DBSCAN(eps=eps, min_samples=min_samples)\n",
    "        pred = model.fit(data[0]).labels_\n",
    "        if accuracy_score(data[1], pred) > max_accuracy:\n",
    "            max_accuracy = accuracy_score(data[1], pred)\n",
    "            best_eps = eps\n",
    "            best_min_samples = min_samples"
   ]
  },
  {
   "cell_type": "code",
   "execution_count": 299,
   "metadata": {},
   "outputs": [
    {
     "data": {
      "text/plain": [
       "0.5"
      ]
     },
     "execution_count": 299,
     "metadata": {},
     "output_type": "execute_result"
    }
   ],
   "source": [
    "max_accuracy"
   ]
  },
  {
   "cell_type": "code",
   "execution_count": 309,
   "metadata": {},
   "outputs": [
    {
     "data": {
      "text/plain": [
       "0.0"
      ]
     },
     "execution_count": 309,
     "metadata": {},
     "output_type": "execute_result"
    }
   ],
   "source": [
    "accuracy_score(data[1], DBSCAN(eps=0.28, min_samples=4).fit(data[0]).labels_)"
   ]
  },
  {
   "cell_type": "code",
   "execution_count": 310,
   "metadata": {},
   "outputs": [
    {
     "data": {
      "text/plain": [
       "array([0, 0, 0, 1, 1, 1, 1, 0, 1, 1, 1, 1, 0, 1, 0, 1, 0, 0, 1, 1, 0, 0,\n",
       "       1, 1, 0, 1, 1, 0, 1, 0, 1, 1, 0, 1, 0, 1, 0, 0, 1, 1, 1, 1, 1, 0,\n",
       "       1, 1, 0, 1, 0, 1, 1, 1, 1, 1, 1, 0, 1, 0, 1, 0, 0, 0, 0, 1, 0, 0,\n",
       "       1, 0, 0, 0, 0, 1, 0, 1, 0, 0, 0, 1, 0, 0, 0, 0, 1, 1, 1, 0, 1, 1,\n",
       "       1, 0, 0, 0, 0, 0, 1, 0, 0, 1, 0, 0], dtype=int64)"
      ]
     },
     "execution_count": 310,
     "metadata": {},
     "output_type": "execute_result"
    }
   ],
   "source": [
    "DBSCAN(eps=0.28, min_samples=4).fit(data[0]).labels_"
   ]
  },
  {
   "cell_type": "code",
   "execution_count": 311,
   "metadata": {},
   "outputs": [
    {
     "data": {
      "text/plain": [
       "array([1, 1, 1, 0, 0, 0, 0, 1, 0, 0, 0, 0, 1, 0, 1, 0, 1, 1, 0, 0, 1, 1,\n",
       "       0, 0, 1, 0, 0, 1, 0, 1, 0, 0, 1, 0, 1, 0, 1, 1, 0, 0, 0, 0, 0, 1,\n",
       "       0, 0, 1, 0, 1, 0, 0, 0, 0, 0, 0, 1, 0, 1, 0, 1, 1, 1, 1, 0, 1, 1,\n",
       "       0, 1, 1, 1, 1, 0, 1, 0, 1, 1, 1, 0, 1, 1, 1, 1, 0, 0, 0, 1, 0, 0,\n",
       "       0, 1, 1, 1, 1, 1, 0, 1, 1, 0, 1, 1], dtype=int64)"
      ]
     },
     "execution_count": 311,
     "metadata": {},
     "output_type": "execute_result"
    }
   ],
   "source": [
    "data[1]"
   ]
  },
  {
   "cell_type": "code",
   "execution_count": 308,
   "metadata": {},
   "outputs": [
    {
     "data": {
      "text/plain": [
       "<matplotlib.collections.PathCollection at 0x226915146a0>"
      ]
     },
     "execution_count": 308,
     "metadata": {},
     "output_type": "execute_result"
    },
    {
     "data": {
      "image/png": "[encoded data removed]",
      "text/plain": [
       "<Figure size 432x288 with 1 Axes>"
      ]
     },
     "metadata": {
      "needs_background": "light"
     },
     "output_type": "display_data"
    }
   ],
   "source": [
    "x_ = data[0]\n",
    "y = DBSCAN(eps=0.28, min_samples=4).fit(data[0]).labels_\n",
    "\n",
    "plt.scatter(x_[:,0], x_[:,1], c=y)"
   ]
  },
  {
   "cell_type": "markdown",
   "metadata": {
    "id": "gVT2XXpXb7iY"
   },
   "source": [
    "## Quiz\n",
    "\n",
    "Используйте иерархическую кластеризацию для поиска кластеров.\n",
    "Задайте в методе 2 кластера. Подберите гиперпараметр linkage из списка ['ward', 'complete', 'average', 'single'], дающий наилучший результат."
   ]
  },
  {
   "cell_type": "code",
   "execution_count": 313,
   "metadata": {
    "id": "o1K8jDR7b_BW"
   },
   "outputs": [],
   "source": [
    "from sklearn.cluster import AgglomerativeClustering"
   ]
  },
  {
   "cell_type": "code",
   "execution_count": null,
   "metadata": {},
   "outputs": [],
   "source": [
    "model = AgglomerativeClustering(n_clusters=2)"
   ]
  },
  {
   "cell_type": "code",
   "execution_count": 332,
   "metadata": {},
   "outputs": [
    {
     "data": {
      "text/plain": [
       "<matplotlib.collections.PathCollection at 0x226ec9f16a0>"
      ]
     },
     "execution_count": 332,
     "metadata": {},
     "output_type": "execute_result"
    },
    {
     "data": {
      "image/png": "[encoded data removed]",
      "text/plain": [
       "<Figure size 432x288 with 1 Axes>"
      ]
     },
     "metadata": {
      "needs_background": "light"
     },
     "output_type": "display_data"
    }
   ],
   "source": [
    "x_ = data[0]\n",
    "y = AgglomerativeClustering(n_clusters=2, linkage='average').fit(data[0]).labels_\n",
    "\n",
    "plt.scatter(x_[:,0], x_[:,1], c=y)"
   ]
  },
  {
   "cell_type": "markdown",
   "metadata": {
    "id": "JpBvTJi1b_16",
    "tags": []
   },
   "source": [
    "## Quiz\n",
    "\n",
    "Попробуйте найти кластеры при помощи спектральной кластеризации.\n",
    "Задайте 2 кластера, affinity='nearest_neighbors'. Подберите гиперпараметр n_neighbors из диапазона [1,2,...,19], чтобы добиться наилучшего результата."
   ]
  },
  {
   "cell_type": "code",
   "execution_count": 317,
   "metadata": {
    "id": "XqAacOmXcCPv"
   },
   "outputs": [],
   "source": [
    "from sklearn.cluster import SpectralClustering"
   ]
  },
  {
   "cell_type": "code",
   "execution_count": 318,
   "metadata": {},
   "outputs": [],
   "source": [
    "model = SpectralClustering(n_clusters=2)"
   ]
  },
  {
   "cell_type": "code",
   "execution_count": 328,
   "metadata": {},
   "outputs": [
    {
     "data": {
      "text/plain": [
       "<matplotlib.collections.PathCollection at 0x226cfe45dc0>"
      ]
     },
     "execution_count": 328,
     "metadata": {},
     "output_type": "execute_result"
    },
    {
     "data": {
      "image/png": "[encoded data removed]",
      "text/plain": [
       "<Figure size 432x288 with 1 Axes>"
      ]
     },
     "metadata": {
      "needs_background": "light"
     },
     "output_type": "display_data"
    }
   ],
   "source": [
    "x_ = data[0]\n",
    "y = SpectralClustering(n_clusters=2, affinity='nearest_neighbors', n_neighbors=13).fit(data[0]).labels_\n",
    "\n",
    "plt.scatter(x_[:,0], x_[:,1], c=y)"
   ]
  },
  {
   "cell_type": "markdown",
   "metadata": {
    "id": "7e-_7M4PcID8"
   },
   "source": [
    "## Quiz\n",
    "\n",
    "Сделайте выводы: какой метод сработал лучше других? какой метод сработал быстрее? есть ли метод, наилучший и по качеству, и по времени одновременно?"
   ]
  }
 ],
 "metadata": {
  "colab": {
   "provenance": []
  },
  "kernelspec": {
   "display_name": "Python 3 (ipykernel)",
   "language": "python",
   "name": "python3"
  },
  "language_info": {
   "codemirror_mode": {
    "name": "ipython",
    "version": 3
   },
   "file_extension": ".py",
   "mimetype": "text/x-python",
   "name": "python",
   "nbconvert_exporter": "python",
   "pygments_lexer": "ipython3",
   "version": "3.9.7"
  }
 },
 "nbformat": 4,
 "nbformat_minor": 4
}
