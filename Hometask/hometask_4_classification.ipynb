{
 "cells": [
  {
   "cell_type": "markdown",
   "metadata": {},
   "source": [
    "# Домашнее задание: модели классификации и оценка их качества.\n",
    "\n",
    "Будем тренироваться обучать модели классификации и интерпретировать их качество.\n",
    "\n",
    "Максимальный балл за задание - 11.\n",
    "Балл, который ставится в ведомость - min(10,ваш балл)."
   ]
  },
  {
   "cell_type": "markdown",
   "metadata": {},
   "source": [
    "## Часть 1. Обучение моделей классификации (5 баллов). \n",
    "\n",
    "Поработайте с датасетом telecom_churn. Вам предстоит по характеристикам клиента предсказать, уйдет он или нет (целевая колонка - Churn).\n",
    "\n",
    "A. Решите задачу с помощью логистической регрессии:\n",
    "- подберите значение гиперпараметров с помощью GridSearchCV\n",
    "Что вы можете сказать об алгоритме? Он переобучился/недообучился/обучился как надо и вы довольны качеством?\n",
    "\n",
    "B. Решите задачу с помощью метода опорных векторов (с kernel = 'linear'):\n",
    "- подберите значение гиперпараметров с помощью GridSearchCV\n",
    "Что вы можете сказать об алгоритме? Он переобучился/недообучился/обучился как надо и вы довольны качеством?\n",
    "\n",
    "Не забудьте масштабировать данные перед применением линейных моделей.\n",
    "\n",
    "C. Попробуйте увеличить число признаков с помощью добавления полиномиальных признаков. Также можно добавить функции от признаков вручную (те, которые вам кажутся подходящими в данной задаче).\n",
    "Улучшилось ли качество алгоритма?\n",
    "\n",
    "D. Постройте матрицу корреляций признаков. Есть ли признаки, которые практически не коррелируют с целевой переменной? Попробуйте их удалить. Есть ли пары сильно коррелирующих между собой признаков? Удалите по одному признаку из каждой пары.\n",
    "Помогло ли это улучшить качество в данной задаче?\n",
    "\n",
    "Пункты C и D можно скомбинировать для достижения наилучшего качества.\n",
    "\n",
    "E. Сделайте мини-отчет о проведенной работе. Для этого ответьте на вопросы:\n",
    "a) какой классификатор дал наилучший результат? чему равны значения метрик accuracy, f1-score и ROC-AUC? \n",
    "(Вы можете изначально разбить данные на train и test и сравнивать значения метрик на этих выборках; или же можно оценивать качество алгоритмов по кросс-валидации).\n",
    "\n",
    "b) какие новые признаки вы добавили и какие признаки удалили?\n",
    "\n",
    "c) удалось ли добиться того, что алгоритм не переобучился и не недообучился?"
   ]
  },
  {
   "cell_type": "code",
   "execution_count": 1,
   "metadata": {},
   "outputs": [],
   "source": [
    "import pandas as pd\n",
    "import matplotlib.pyplot as plt\n",
    "import numpy as np\n",
    "import seaborn as sns\n",
    "\n",
    "from sklearn.preprocessing import StandardScaler\n",
    "from sklearn.preprocessing import PolynomialFeatures\n",
    "\n",
    "from sklearn.model_selection import train_test_split \n",
    "from sklearn.model_selection import cross_val_score\n",
    "from sklearn.model_selection import cross_validate\n",
    "from sklearn.model_selection import GridSearchCV\n",
    "\n",
    "from sklearn.metrics import accuracy_score, precision_score, recall_score, f1_score, roc_auc_score\n",
    "from sklearn.svm import SVC\n",
    "from sklearn.linear_model import LogisticRegression\n",
    "from sklearn.pipeline import Pipeline\n",
    "\n",
    "from category_encoders.one_hot import OneHotEncoder\n",
    "from category_encoders.target_encoder import TargetEncoder\n",
    "\n",
    "#%pylab inline"
   ]
  },
  {
   "cell_type": "code",
   "execution_count": 2,
   "metadata": {},
   "outputs": [],
   "source": [
    "# Выгружаем dataframe\n",
    "df = pd.read_csv('telecom_churn.csv')"
   ]
  },
  {
   "cell_type": "code",
   "execution_count": 3,
   "metadata": {},
   "outputs": [
    {
     "data": {
      "text/plain": [
       "(3333, 20)"
      ]
     },
     "execution_count": 3,
     "metadata": {},
     "output_type": "execute_result"
    }
   ],
   "source": [
    "df.shape"
   ]
  },
  {
   "cell_type": "code",
   "execution_count": 4,
   "metadata": {},
   "outputs": [],
   "source": [
    "# Создаем копию чтобы не трогать с исходник\n",
    "df_c = df.copy()"
   ]
  },
  {
   "cell_type": "code",
   "execution_count": 5,
   "metadata": {},
   "outputs": [],
   "source": [
    "# Целевая переменная имеет значения [True, False], конвертируем в [1,0]\n",
    "df_c.Churn = df_c.Churn.map(int)"
   ]
  },
  {
   "cell_type": "code",
   "execution_count": 6,
   "metadata": {},
   "outputs": [
    {
     "data": {
      "text/html": [
       "<div>\n",
       "<style scoped>\n",
       "    .dataframe tbody tr th:only-of-type {\n",
       "        vertical-align: middle;\n",
       "    }\n",
       "\n",
       "    .dataframe tbody tr th {\n",
       "        vertical-align: top;\n",
       "    }\n",
       "\n",
       "    .dataframe thead th {\n",
       "        text-align: right;\n",
       "    }\n",
       "</style>\n",
       "<table border=\"1\" class=\"dataframe\">\n",
       "  <thead>\n",
       "    <tr style=\"text-align: right;\">\n",
       "      <th></th>\n",
       "      <th>State</th>\n",
       "      <th>Account length</th>\n",
       "      <th>Area code</th>\n",
       "      <th>International plan</th>\n",
       "      <th>Voice mail plan</th>\n",
       "      <th>Number vmail messages</th>\n",
       "      <th>Total day minutes</th>\n",
       "      <th>Total day calls</th>\n",
       "      <th>Total day charge</th>\n",
       "      <th>Total eve minutes</th>\n",
       "      <th>Total eve calls</th>\n",
       "      <th>Total eve charge</th>\n",
       "      <th>Total night minutes</th>\n",
       "      <th>Total night calls</th>\n",
       "      <th>Total night charge</th>\n",
       "      <th>Total intl minutes</th>\n",
       "      <th>Total intl calls</th>\n",
       "      <th>Total intl charge</th>\n",
       "      <th>Customer service calls</th>\n",
       "      <th>Churn</th>\n",
       "    </tr>\n",
       "  </thead>\n",
       "  <tbody>\n",
       "    <tr>\n",
       "      <th>0</th>\n",
       "      <td>KS</td>\n",
       "      <td>128</td>\n",
       "      <td>415</td>\n",
       "      <td>No</td>\n",
       "      <td>Yes</td>\n",
       "      <td>25</td>\n",
       "      <td>265.1</td>\n",
       "      <td>110</td>\n",
       "      <td>45.07</td>\n",
       "      <td>197.4</td>\n",
       "      <td>99</td>\n",
       "      <td>16.78</td>\n",
       "      <td>244.7</td>\n",
       "      <td>91</td>\n",
       "      <td>11.01</td>\n",
       "      <td>10.0</td>\n",
       "      <td>3</td>\n",
       "      <td>2.70</td>\n",
       "      <td>1</td>\n",
       "      <td>0</td>\n",
       "    </tr>\n",
       "    <tr>\n",
       "      <th>1</th>\n",
       "      <td>OH</td>\n",
       "      <td>107</td>\n",
       "      <td>415</td>\n",
       "      <td>No</td>\n",
       "      <td>Yes</td>\n",
       "      <td>26</td>\n",
       "      <td>161.6</td>\n",
       "      <td>123</td>\n",
       "      <td>27.47</td>\n",
       "      <td>195.5</td>\n",
       "      <td>103</td>\n",
       "      <td>16.62</td>\n",
       "      <td>254.4</td>\n",
       "      <td>103</td>\n",
       "      <td>11.45</td>\n",
       "      <td>13.7</td>\n",
       "      <td>3</td>\n",
       "      <td>3.70</td>\n",
       "      <td>1</td>\n",
       "      <td>0</td>\n",
       "    </tr>\n",
       "    <tr>\n",
       "      <th>2</th>\n",
       "      <td>NJ</td>\n",
       "      <td>137</td>\n",
       "      <td>415</td>\n",
       "      <td>No</td>\n",
       "      <td>No</td>\n",
       "      <td>0</td>\n",
       "      <td>243.4</td>\n",
       "      <td>114</td>\n",
       "      <td>41.38</td>\n",
       "      <td>121.2</td>\n",
       "      <td>110</td>\n",
       "      <td>10.30</td>\n",
       "      <td>162.6</td>\n",
       "      <td>104</td>\n",
       "      <td>7.32</td>\n",
       "      <td>12.2</td>\n",
       "      <td>5</td>\n",
       "      <td>3.29</td>\n",
       "      <td>0</td>\n",
       "      <td>0</td>\n",
       "    </tr>\n",
       "    <tr>\n",
       "      <th>3</th>\n",
       "      <td>OH</td>\n",
       "      <td>84</td>\n",
       "      <td>408</td>\n",
       "      <td>Yes</td>\n",
       "      <td>No</td>\n",
       "      <td>0</td>\n",
       "      <td>299.4</td>\n",
       "      <td>71</td>\n",
       "      <td>50.90</td>\n",
       "      <td>61.9</td>\n",
       "      <td>88</td>\n",
       "      <td>5.26</td>\n",
       "      <td>196.9</td>\n",
       "      <td>89</td>\n",
       "      <td>8.86</td>\n",
       "      <td>6.6</td>\n",
       "      <td>7</td>\n",
       "      <td>1.78</td>\n",
       "      <td>2</td>\n",
       "      <td>0</td>\n",
       "    </tr>\n",
       "    <tr>\n",
       "      <th>4</th>\n",
       "      <td>OK</td>\n",
       "      <td>75</td>\n",
       "      <td>415</td>\n",
       "      <td>Yes</td>\n",
       "      <td>No</td>\n",
       "      <td>0</td>\n",
       "      <td>166.7</td>\n",
       "      <td>113</td>\n",
       "      <td>28.34</td>\n",
       "      <td>148.3</td>\n",
       "      <td>122</td>\n",
       "      <td>12.61</td>\n",
       "      <td>186.9</td>\n",
       "      <td>121</td>\n",
       "      <td>8.41</td>\n",
       "      <td>10.1</td>\n",
       "      <td>3</td>\n",
       "      <td>2.73</td>\n",
       "      <td>3</td>\n",
       "      <td>0</td>\n",
       "    </tr>\n",
       "  </tbody>\n",
       "</table>\n",
       "</div>"
      ],
      "text/plain": [
       "  State  Account length  Area code International plan Voice mail plan  \\\n",
       "0    KS             128        415                 No             Yes   \n",
       "1    OH             107        415                 No             Yes   \n",
       "2    NJ             137        415                 No              No   \n",
       "3    OH              84        408                Yes              No   \n",
       "4    OK              75        415                Yes              No   \n",
       "\n",
       "   Number vmail messages  Total day minutes  Total day calls  \\\n",
       "0                     25              265.1              110   \n",
       "1                     26              161.6              123   \n",
       "2                      0              243.4              114   \n",
       "3                      0              299.4               71   \n",
       "4                      0              166.7              113   \n",
       "\n",
       "   Total day charge  Total eve minutes  Total eve calls  Total eve charge  \\\n",
       "0             45.07              197.4               99             16.78   \n",
       "1             27.47              195.5              103             16.62   \n",
       "2             41.38              121.2              110             10.30   \n",
       "3             50.90               61.9               88              5.26   \n",
       "4             28.34              148.3              122             12.61   \n",
       "\n",
       "   Total night minutes  Total night calls  Total night charge  \\\n",
       "0                244.7                 91               11.01   \n",
       "1                254.4                103               11.45   \n",
       "2                162.6                104                7.32   \n",
       "3                196.9                 89                8.86   \n",
       "4                186.9                121                8.41   \n",
       "\n",
       "   Total intl minutes  Total intl calls  Total intl charge  \\\n",
       "0                10.0                 3               2.70   \n",
       "1                13.7                 3               3.70   \n",
       "2                12.2                 5               3.29   \n",
       "3                 6.6                 7               1.78   \n",
       "4                10.1                 3               2.73   \n",
       "\n",
       "   Customer service calls  Churn  \n",
       "0                       1      0  \n",
       "1                       1      0  \n",
       "2                       0      0  \n",
       "3                       2      0  \n",
       "4                       3      0  "
      ]
     },
     "execution_count": 6,
     "metadata": {},
     "output_type": "execute_result"
    }
   ],
   "source": [
    "df_c[:5]"
   ]
  },
  {
   "cell_type": "code",
   "execution_count": 7,
   "metadata": {},
   "outputs": [
    {
     "data": {
      "text/plain": [
       "0    2850\n",
       "1     483\n",
       "Name: Churn, dtype: int64"
      ]
     },
     "execution_count": 7,
     "metadata": {},
     "output_type": "execute_result"
    }
   ],
   "source": [
    "# Проверим на дисбаланс классов\n",
    "df_c.Churn.value_counts()"
   ]
  },
  {
   "cell_type": "markdown",
   "metadata": {},
   "source": [
    "Как видно у нас имеется дисбаланс классов. Объектов класса 1 ~15%"
   ]
  },
  {
   "cell_type": "code",
   "execution_count": 8,
   "metadata": {},
   "outputs": [
    {
     "data": {
      "text/html": [
       "<div>\n",
       "<style scoped>\n",
       "    .dataframe tbody tr th:only-of-type {\n",
       "        vertical-align: middle;\n",
       "    }\n",
       "\n",
       "    .dataframe tbody tr th {\n",
       "        vertical-align: top;\n",
       "    }\n",
       "\n",
       "    .dataframe thead th {\n",
       "        text-align: right;\n",
       "    }\n",
       "</style>\n",
       "<table border=\"1\" class=\"dataframe\">\n",
       "  <thead>\n",
       "    <tr style=\"text-align: right;\">\n",
       "      <th></th>\n",
       "      <th>State</th>\n",
       "      <th>International plan</th>\n",
       "      <th>Voice mail plan</th>\n",
       "    </tr>\n",
       "  </thead>\n",
       "  <tbody>\n",
       "    <tr>\n",
       "      <th>count</th>\n",
       "      <td>3333</td>\n",
       "      <td>3333</td>\n",
       "      <td>3333</td>\n",
       "    </tr>\n",
       "    <tr>\n",
       "      <th>unique</th>\n",
       "      <td>51</td>\n",
       "      <td>2</td>\n",
       "      <td>2</td>\n",
       "    </tr>\n",
       "    <tr>\n",
       "      <th>top</th>\n",
       "      <td>WV</td>\n",
       "      <td>No</td>\n",
       "      <td>No</td>\n",
       "    </tr>\n",
       "    <tr>\n",
       "      <th>freq</th>\n",
       "      <td>106</td>\n",
       "      <td>3010</td>\n",
       "      <td>2411</td>\n",
       "    </tr>\n",
       "  </tbody>\n",
       "</table>\n",
       "</div>"
      ],
      "text/plain": [
       "       State International plan Voice mail plan\n",
       "count   3333               3333            3333\n",
       "unique    51                  2               2\n",
       "top       WV                 No              No\n",
       "freq     106               3010            2411"
      ]
     },
     "execution_count": 8,
     "metadata": {},
     "output_type": "execute_result"
    }
   ],
   "source": [
    "# Посмотрим какие нечисловые переменные есть в наших данных\n",
    "df_c.describe(include='object')"
   ]
  },
  {
   "cell_type": "code",
   "execution_count": 9,
   "metadata": {},
   "outputs": [
    {
     "name": "stdout",
     "output_type": "stream",
     "text": [
      "<class 'pandas.core.frame.DataFrame'>\n",
      "RangeIndex: 3333 entries, 0 to 3332\n",
      "Data columns (total 20 columns):\n",
      " #   Column                  Non-Null Count  Dtype  \n",
      "---  ------                  --------------  -----  \n",
      " 0   State                   3333 non-null   object \n",
      " 1   Account length          3333 non-null   int64  \n",
      " 2   Area code               3333 non-null   int64  \n",
      " 3   International plan      3333 non-null   object \n",
      " 4   Voice mail plan         3333 non-null   object \n",
      " 5   Number vmail messages   3333 non-null   int64  \n",
      " 6   Total day minutes       3333 non-null   float64\n",
      " 7   Total day calls         3333 non-null   int64  \n",
      " 8   Total day charge        3333 non-null   float64\n",
      " 9   Total eve minutes       3333 non-null   float64\n",
      " 10  Total eve calls         3333 non-null   int64  \n",
      " 11  Total eve charge        3333 non-null   float64\n",
      " 12  Total night minutes     3333 non-null   float64\n",
      " 13  Total night calls       3333 non-null   int64  \n",
      " 14  Total night charge      3333 non-null   float64\n",
      " 15  Total intl minutes      3333 non-null   float64\n",
      " 16  Total intl calls        3333 non-null   int64  \n",
      " 17  Total intl charge       3333 non-null   float64\n",
      " 18  Customer service calls  3333 non-null   int64  \n",
      " 19  Churn                   3333 non-null   int64  \n",
      "dtypes: float64(8), int64(9), object(3)\n",
      "memory usage: 520.9+ KB\n"
     ]
    }
   ],
   "source": [
    "# И проверим заполняемость наших признаков\n",
    "df_c.info()"
   ]
  },
  {
   "cell_type": "code",
   "execution_count": 10,
   "metadata": {},
   "outputs": [],
   "source": [
    "#df_obj = df_c.select_dtypes(include='object')\n",
    "#df_numeric = df_c.select_dtypes(exclude='object')"
   ]
  },
  {
   "cell_type": "code",
   "execution_count": 11,
   "metadata": {},
   "outputs": [],
   "source": [
    "#df_obj[:5]"
   ]
  },
  {
   "cell_type": "code",
   "execution_count": 12,
   "metadata": {},
   "outputs": [
    {
     "data": {
      "text/plain": [
       "(No     2411\n",
       " Yes     922\n",
       " Name: Voice mail plan, dtype: int64,\n",
       " No     3010\n",
       " Yes     323\n",
       " Name: International plan, dtype: int64)"
      ]
     },
     "execution_count": 12,
     "metadata": {},
     "output_type": "execute_result"
    }
   ],
   "source": [
    "df_c['Voice mail plan'].value_counts(), df_c['International plan'].value_counts()"
   ]
  },
  {
   "cell_type": "markdown",
   "metadata": {},
   "source": [
    "Поля **Voice mail plan** и **International plan** имеют бинарную структуру значений, поэтому конвертируем значения в [0,1]"
   ]
  },
  {
   "cell_type": "code",
   "execution_count": 13,
   "metadata": {},
   "outputs": [],
   "source": [
    "df_c['Voice mail plan'] = df_c.loc[:, 'Voice mail plan'].map({'No':0, 'Yes':1})\n",
    "df_c['International plan'] = df_c.loc[:, 'International plan'].map({'No':0, 'Yes':1})"
   ]
  },
  {
   "cell_type": "code",
   "execution_count": 14,
   "metadata": {},
   "outputs": [],
   "source": [
    "# Разделим признаки и целевую переменную\n",
    "X_ = df_c.drop(columns='Churn')\n",
    "y = df_c.loc[:, 'Churn']"
   ]
  },
  {
   "cell_type": "code",
   "execution_count": 15,
   "metadata": {},
   "outputs": [],
   "source": [
    "# Разделим датасет на тестовую и тренироввочную выгрузки\n",
    "X_train, X_test, y_train, y_test = train_test_split(X_, y, test_size=0.3, random_state=42)"
   ]
  },
  {
   "cell_type": "code",
   "execution_count": 16,
   "metadata": {},
   "outputs": [
    {
     "data": {
      "text/plain": [
       "(69, 25)"
      ]
     },
     "execution_count": 16,
     "metadata": {},
     "output_type": "execute_result"
    }
   ],
   "source": [
    "# Для тренировочной выборки посмотрим 'встречаемость' каждого штата, так как планирую делать target encoding\n",
    "X_train.loc[:, 'State'].value_counts()[0],\\\n",
    "X_train.loc[:, 'State'].value_counts()[-1]"
   ]
  },
  {
   "cell_type": "markdown",
   "metadata": {},
   "source": [
    "В общем и целом, на мой взгляд, разница между самым популярным и непопулярным штатом не такая уж большая и, что как мне кажется важно, даже самый непопулярный штат встречается число раз не сильно близкое к 0"
   ]
  },
  {
   "cell_type": "code",
   "execution_count": 17,
   "metadata": {},
   "outputs": [],
   "source": [
    "# Инициализируем TargetEncoder\n",
    "target_enc = TargetEncoder()"
   ]
  },
  {
   "cell_type": "code",
   "execution_count": 18,
   "metadata": {},
   "outputs": [
    {
     "data": {
      "text/plain": [
       "TargetEncoder(cols=['State'])"
      ]
     },
     "execution_count": 18,
     "metadata": {},
     "output_type": "execute_result"
    }
   ],
   "source": [
    "# Вычисляем параметры TargetEncoder на тренировочной выборке\n",
    "target_enc.fit(X_train, y_train)"
   ]
  },
  {
   "cell_type": "code",
   "execution_count": 19,
   "metadata": {},
   "outputs": [],
   "source": [
    "# Применяем encoder на Train\n",
    "X_train = target_enc.transform(X_train)"
   ]
  },
  {
   "cell_type": "code",
   "execution_count": 20,
   "metadata": {},
   "outputs": [
    {
     "data": {
      "text/html": [
       "<div>\n",
       "<style scoped>\n",
       "    .dataframe tbody tr th:only-of-type {\n",
       "        vertical-align: middle;\n",
       "    }\n",
       "\n",
       "    .dataframe tbody tr th {\n",
       "        vertical-align: top;\n",
       "    }\n",
       "\n",
       "    .dataframe thead th {\n",
       "        text-align: right;\n",
       "    }\n",
       "</style>\n",
       "<table border=\"1\" class=\"dataframe\">\n",
       "  <thead>\n",
       "    <tr style=\"text-align: right;\">\n",
       "      <th></th>\n",
       "      <th>State</th>\n",
       "      <th>Account length</th>\n",
       "      <th>Area code</th>\n",
       "      <th>International plan</th>\n",
       "      <th>Voice mail plan</th>\n",
       "      <th>Number vmail messages</th>\n",
       "      <th>Total day minutes</th>\n",
       "      <th>Total day calls</th>\n",
       "      <th>Total day charge</th>\n",
       "      <th>Total eve minutes</th>\n",
       "      <th>Total eve calls</th>\n",
       "      <th>Total eve charge</th>\n",
       "      <th>Total night minutes</th>\n",
       "      <th>Total night calls</th>\n",
       "      <th>Total night charge</th>\n",
       "      <th>Total intl minutes</th>\n",
       "      <th>Total intl calls</th>\n",
       "      <th>Total intl charge</th>\n",
       "      <th>Customer service calls</th>\n",
       "    </tr>\n",
       "  </thead>\n",
       "  <tbody>\n",
       "    <tr>\n",
       "      <th>2016</th>\n",
       "      <td>0.088924</td>\n",
       "      <td>80</td>\n",
       "      <td>510</td>\n",
       "      <td>0</td>\n",
       "      <td>0</td>\n",
       "      <td>0</td>\n",
       "      <td>202.4</td>\n",
       "      <td>118</td>\n",
       "      <td>34.41</td>\n",
       "      <td>260.2</td>\n",
       "      <td>67</td>\n",
       "      <td>22.12</td>\n",
       "      <td>177.4</td>\n",
       "      <td>112</td>\n",
       "      <td>7.98</td>\n",
       "      <td>9.2</td>\n",
       "      <td>5</td>\n",
       "      <td>2.48</td>\n",
       "      <td>3</td>\n",
       "    </tr>\n",
       "    <tr>\n",
       "      <th>1362</th>\n",
       "      <td>0.101777</td>\n",
       "      <td>63</td>\n",
       "      <td>510</td>\n",
       "      <td>0</td>\n",
       "      <td>0</td>\n",
       "      <td>0</td>\n",
       "      <td>132.9</td>\n",
       "      <td>122</td>\n",
       "      <td>22.59</td>\n",
       "      <td>67.0</td>\n",
       "      <td>62</td>\n",
       "      <td>5.70</td>\n",
       "      <td>160.4</td>\n",
       "      <td>121</td>\n",
       "      <td>7.22</td>\n",
       "      <td>9.9</td>\n",
       "      <td>2</td>\n",
       "      <td>2.67</td>\n",
       "      <td>3</td>\n",
       "    </tr>\n",
       "    <tr>\n",
       "      <th>2670</th>\n",
       "      <td>0.125551</td>\n",
       "      <td>116</td>\n",
       "      <td>510</td>\n",
       "      <td>0</td>\n",
       "      <td>1</td>\n",
       "      <td>12</td>\n",
       "      <td>221.0</td>\n",
       "      <td>108</td>\n",
       "      <td>37.57</td>\n",
       "      <td>151.0</td>\n",
       "      <td>118</td>\n",
       "      <td>12.84</td>\n",
       "      <td>179.0</td>\n",
       "      <td>80</td>\n",
       "      <td>8.06</td>\n",
       "      <td>9.0</td>\n",
       "      <td>6</td>\n",
       "      <td>2.43</td>\n",
       "      <td>2</td>\n",
       "    </tr>\n",
       "    <tr>\n",
       "      <th>2210</th>\n",
       "      <td>0.111257</td>\n",
       "      <td>71</td>\n",
       "      <td>415</td>\n",
       "      <td>0</td>\n",
       "      <td>0</td>\n",
       "      <td>0</td>\n",
       "      <td>278.9</td>\n",
       "      <td>110</td>\n",
       "      <td>47.41</td>\n",
       "      <td>190.2</td>\n",
       "      <td>67</td>\n",
       "      <td>16.17</td>\n",
       "      <td>255.2</td>\n",
       "      <td>84</td>\n",
       "      <td>11.48</td>\n",
       "      <td>11.7</td>\n",
       "      <td>7</td>\n",
       "      <td>3.16</td>\n",
       "      <td>0</td>\n",
       "    </tr>\n",
       "    <tr>\n",
       "      <th>1846</th>\n",
       "      <td>0.156170</td>\n",
       "      <td>120</td>\n",
       "      <td>510</td>\n",
       "      <td>0</td>\n",
       "      <td>1</td>\n",
       "      <td>43</td>\n",
       "      <td>177.9</td>\n",
       "      <td>117</td>\n",
       "      <td>30.24</td>\n",
       "      <td>175.1</td>\n",
       "      <td>70</td>\n",
       "      <td>14.88</td>\n",
       "      <td>161.3</td>\n",
       "      <td>117</td>\n",
       "      <td>7.26</td>\n",
       "      <td>11.5</td>\n",
       "      <td>4</td>\n",
       "      <td>3.11</td>\n",
       "      <td>1</td>\n",
       "    </tr>\n",
       "  </tbody>\n",
       "</table>\n",
       "</div>"
      ],
      "text/plain": [
       "         State  Account length  Area code  International plan  \\\n",
       "2016  0.088924              80        510                   0   \n",
       "1362  0.101777              63        510                   0   \n",
       "2670  0.125551             116        510                   0   \n",
       "2210  0.111257              71        415                   0   \n",
       "1846  0.156170             120        510                   0   \n",
       "\n",
       "      Voice mail plan  Number vmail messages  Total day minutes  \\\n",
       "2016                0                      0              202.4   \n",
       "1362                0                      0              132.9   \n",
       "2670                1                     12              221.0   \n",
       "2210                0                      0              278.9   \n",
       "1846                1                     43              177.9   \n",
       "\n",
       "      Total day calls  Total day charge  Total eve minutes  Total eve calls  \\\n",
       "2016              118             34.41              260.2               67   \n",
       "1362              122             22.59               67.0               62   \n",
       "2670              108             37.57              151.0              118   \n",
       "2210              110             47.41              190.2               67   \n",
       "1846              117             30.24              175.1               70   \n",
       "\n",
       "      Total eve charge  Total night minutes  Total night calls  \\\n",
       "2016             22.12                177.4                112   \n",
       "1362              5.70                160.4                121   \n",
       "2670             12.84                179.0                 80   \n",
       "2210             16.17                255.2                 84   \n",
       "1846             14.88                161.3                117   \n",
       "\n",
       "      Total night charge  Total intl minutes  Total intl calls  \\\n",
       "2016                7.98                 9.2                 5   \n",
       "1362                7.22                 9.9                 2   \n",
       "2670                8.06                 9.0                 6   \n",
       "2210               11.48                11.7                 7   \n",
       "1846                7.26                11.5                 4   \n",
       "\n",
       "      Total intl charge  Customer service calls  \n",
       "2016               2.48                       3  \n",
       "1362               2.67                       3  \n",
       "2670               2.43                       2  \n",
       "2210               3.16                       0  \n",
       "1846               3.11                       1  "
      ]
     },
     "execution_count": 20,
     "metadata": {},
     "output_type": "execute_result"
    }
   ],
   "source": [
    "X_train[:5]"
   ]
  },
  {
   "cell_type": "code",
   "execution_count": 21,
   "metadata": {},
   "outputs": [],
   "source": [
    "# Инициализируем StandardScaler\n",
    "scaler = StandardScaler()"
   ]
  },
  {
   "cell_type": "code",
   "execution_count": 22,
   "metadata": {},
   "outputs": [
    {
     "data": {
      "text/plain": [
       "StandardScaler()"
      ]
     },
     "execution_count": 22,
     "metadata": {},
     "output_type": "execute_result"
    }
   ],
   "source": [
    "# Вычисляем параметры StandardScaler на тренировочной выборке\n",
    "scaler.fit(X_train)"
   ]
  },
  {
   "cell_type": "code",
   "execution_count": 23,
   "metadata": {},
   "outputs": [],
   "source": [
    "# Нормируем данные на Train\n",
    "X_train = pd.DataFrame(data=scaler.transform(X_train), columns=X_train.columns)"
   ]
  },
  {
   "cell_type": "code",
   "execution_count": 24,
   "metadata": {},
   "outputs": [
    {
     "data": {
      "text/html": [
       "<div>\n",
       "<style scoped>\n",
       "    .dataframe tbody tr th:only-of-type {\n",
       "        vertical-align: middle;\n",
       "    }\n",
       "\n",
       "    .dataframe tbody tr th {\n",
       "        vertical-align: top;\n",
       "    }\n",
       "\n",
       "    .dataframe thead th {\n",
       "        text-align: right;\n",
       "    }\n",
       "</style>\n",
       "<table border=\"1\" class=\"dataframe\">\n",
       "  <thead>\n",
       "    <tr style=\"text-align: right;\">\n",
       "      <th></th>\n",
       "      <th>State</th>\n",
       "      <th>Account length</th>\n",
       "      <th>Area code</th>\n",
       "      <th>International plan</th>\n",
       "      <th>Voice mail plan</th>\n",
       "      <th>Number vmail messages</th>\n",
       "      <th>Total day minutes</th>\n",
       "      <th>Total day calls</th>\n",
       "      <th>Total day charge</th>\n",
       "      <th>Total eve minutes</th>\n",
       "      <th>Total eve calls</th>\n",
       "      <th>Total eve charge</th>\n",
       "      <th>Total night minutes</th>\n",
       "      <th>Total night calls</th>\n",
       "      <th>Total night charge</th>\n",
       "      <th>Total intl minutes</th>\n",
       "      <th>Total intl calls</th>\n",
       "      <th>Total intl charge</th>\n",
       "      <th>Customer service calls</th>\n",
       "    </tr>\n",
       "  </thead>\n",
       "  <tbody>\n",
       "    <tr>\n",
       "      <th>0</th>\n",
       "      <td>-1.008863</td>\n",
       "      <td>-0.511937</td>\n",
       "      <td>1.740454</td>\n",
       "      <td>-0.324289</td>\n",
       "      <td>-0.612192</td>\n",
       "      <td>-0.585483</td>\n",
       "      <td>0.410716</td>\n",
       "      <td>0.873749</td>\n",
       "      <td>0.410877</td>\n",
       "      <td>1.167102</td>\n",
       "      <td>-1.646317</td>\n",
       "      <td>1.167733</td>\n",
       "      <td>-0.456961</td>\n",
       "      <td>0.615443</td>\n",
       "      <td>-0.458282</td>\n",
       "      <td>-0.373682</td>\n",
       "      <td>0.226639</td>\n",
       "      <td>-0.379643</td>\n",
       "      <td>1.073319</td>\n",
       "    </tr>\n",
       "    <tr>\n",
       "      <th>1</th>\n",
       "      <td>-0.781135</td>\n",
       "      <td>-0.939002</td>\n",
       "      <td>1.740454</td>\n",
       "      <td>-0.324289</td>\n",
       "      <td>-0.612192</td>\n",
       "      <td>-0.585483</td>\n",
       "      <td>-0.864713</td>\n",
       "      <td>1.074874</td>\n",
       "      <td>-0.865095</td>\n",
       "      <td>-2.639021</td>\n",
       "      <td>-1.895351</td>\n",
       "      <td>-2.637901</td>\n",
       "      <td>-0.790790</td>\n",
       "      <td>1.075039</td>\n",
       "      <td>-0.789925</td>\n",
       "      <td>-0.122835</td>\n",
       "      <td>-0.997316</td>\n",
       "      <td>-0.127479</td>\n",
       "      <td>1.073319</td>\n",
       "    </tr>\n",
       "    <tr>\n",
       "      <th>2</th>\n",
       "      <td>-0.359870</td>\n",
       "      <td>0.392435</td>\n",
       "      <td>1.740454</td>\n",
       "      <td>-0.324289</td>\n",
       "      <td>1.633475</td>\n",
       "      <td>0.289180</td>\n",
       "      <td>0.752053</td>\n",
       "      <td>0.370935</td>\n",
       "      <td>0.752000</td>\n",
       "      <td>-0.984185</td>\n",
       "      <td>0.893834</td>\n",
       "      <td>-0.983076</td>\n",
       "      <td>-0.425542</td>\n",
       "      <td>-1.018675</td>\n",
       "      <td>-0.423373</td>\n",
       "      <td>-0.445353</td>\n",
       "      <td>0.634624</td>\n",
       "      <td>-0.446002</td>\n",
       "      <td>0.323378</td>\n",
       "    </tr>\n",
       "    <tr>\n",
       "      <th>3</th>\n",
       "      <td>-0.613162</td>\n",
       "      <td>-0.738030</td>\n",
       "      <td>-0.515843</td>\n",
       "      <td>-0.324289</td>\n",
       "      <td>-0.612192</td>\n",
       "      <td>-0.585483</td>\n",
       "      <td>1.814605</td>\n",
       "      <td>0.471498</td>\n",
       "      <td>1.814230</td>\n",
       "      <td>-0.211928</td>\n",
       "      <td>-1.646317</td>\n",
       "      <td>-0.211288</td>\n",
       "      <td>1.070799</td>\n",
       "      <td>-0.814411</td>\n",
       "      <td>1.069020</td>\n",
       "      <td>0.522200</td>\n",
       "      <td>1.042609</td>\n",
       "      <td>0.522840</td>\n",
       "      <td>-1.176504</td>\n",
       "    </tr>\n",
       "    <tr>\n",
       "      <th>4</th>\n",
       "      <td>0.182656</td>\n",
       "      <td>0.492921</td>\n",
       "      <td>1.740454</td>\n",
       "      <td>-0.324289</td>\n",
       "      <td>1.633475</td>\n",
       "      <td>2.548723</td>\n",
       "      <td>-0.038896</td>\n",
       "      <td>0.823467</td>\n",
       "      <td>-0.039276</td>\n",
       "      <td>-0.509404</td>\n",
       "      <td>-1.496896</td>\n",
       "      <td>-0.510269</td>\n",
       "      <td>-0.773117</td>\n",
       "      <td>0.870774</td>\n",
       "      <td>-0.772470</td>\n",
       "      <td>0.450529</td>\n",
       "      <td>-0.181346</td>\n",
       "      <td>0.456481</td>\n",
       "      <td>-0.426563</td>\n",
       "    </tr>\n",
       "  </tbody>\n",
       "</table>\n",
       "</div>"
      ],
      "text/plain": [
       "      State  Account length  Area code  International plan  Voice mail plan  \\\n",
       "0 -1.008863       -0.511937   1.740454           -0.324289        -0.612192   \n",
       "1 -0.781135       -0.939002   1.740454           -0.324289        -0.612192   \n",
       "2 -0.359870        0.392435   1.740454           -0.324289         1.633475   \n",
       "3 -0.613162       -0.738030  -0.515843           -0.324289        -0.612192   \n",
       "4  0.182656        0.492921   1.740454           -0.324289         1.633475   \n",
       "\n",
       "   Number vmail messages  Total day minutes  Total day calls  \\\n",
       "0              -0.585483           0.410716         0.873749   \n",
       "1              -0.585483          -0.864713         1.074874   \n",
       "2               0.289180           0.752053         0.370935   \n",
       "3              -0.585483           1.814605         0.471498   \n",
       "4               2.548723          -0.038896         0.823467   \n",
       "\n",
       "   Total day charge  Total eve minutes  Total eve calls  Total eve charge  \\\n",
       "0          0.410877           1.167102        -1.646317          1.167733   \n",
       "1         -0.865095          -2.639021        -1.895351         -2.637901   \n",
       "2          0.752000          -0.984185         0.893834         -0.983076   \n",
       "3          1.814230          -0.211928        -1.646317         -0.211288   \n",
       "4         -0.039276          -0.509404        -1.496896         -0.510269   \n",
       "\n",
       "   Total night minutes  Total night calls  Total night charge  \\\n",
       "0            -0.456961           0.615443           -0.458282   \n",
       "1            -0.790790           1.075039           -0.789925   \n",
       "2            -0.425542          -1.018675           -0.423373   \n",
       "3             1.070799          -0.814411            1.069020   \n",
       "4            -0.773117           0.870774           -0.772470   \n",
       "\n",
       "   Total intl minutes  Total intl calls  Total intl charge  \\\n",
       "0           -0.373682          0.226639          -0.379643   \n",
       "1           -0.122835         -0.997316          -0.127479   \n",
       "2           -0.445353          0.634624          -0.446002   \n",
       "3            0.522200          1.042609           0.522840   \n",
       "4            0.450529         -0.181346           0.456481   \n",
       "\n",
       "   Customer service calls  \n",
       "0                1.073319  \n",
       "1                1.073319  \n",
       "2                0.323378  \n",
       "3               -1.176504  \n",
       "4               -0.426563  "
      ]
     },
     "execution_count": 24,
     "metadata": {},
     "output_type": "execute_result"
    }
   ],
   "source": [
    "X_train[:5]"
   ]
  },
  {
   "cell_type": "code",
   "execution_count": 25,
   "metadata": {},
   "outputs": [],
   "source": [
    "# Инициализируем LogisticRegression с дефолтными параметрами\n",
    "model = LogisticRegression()"
   ]
  },
  {
   "cell_type": "code",
   "execution_count": 26,
   "metadata": {},
   "outputs": [
    {
     "data": {
      "text/plain": [
       "LogisticRegression()"
      ]
     },
     "execution_count": 26,
     "metadata": {},
     "output_type": "execute_result"
    }
   ],
   "source": [
    "# Обучаем модель\n",
    "model.fit(X_train, y_train)"
   ]
  },
  {
   "cell_type": "code",
   "execution_count": 27,
   "metadata": {},
   "outputs": [],
   "source": [
    "# Делаем предсказания на Test, предварительно применив TargetEncoder и StandardScaler, обученные на Train\n",
    "pred = model.predict(pd.DataFrame(data=scaler.transform(target_enc.transform(X_test)), columns=X_test.columns))"
   ]
  },
  {
   "cell_type": "code",
   "execution_count": 28,
   "metadata": {},
   "outputs": [
    {
     "data": {
      "text/plain": [
       "(0.861, 0.5333333333333333, 0.22377622377622378, 0.31527093596059114)"
      ]
     },
     "execution_count": 28,
     "metadata": {},
     "output_type": "execute_result"
    }
   ],
   "source": [
    "# Смотрим метрики качества на Test\n",
    "accuracy_score(y_test, pred)\\\n",
    ", precision_score(y_test, pred)\\\n",
    ", recall_score(y_test, pred)\\\n",
    ", f1_score(y_test, pred)"
   ]
  },
  {
   "cell_type": "code",
   "execution_count": 29,
   "metadata": {},
   "outputs": [
    {
     "data": {
      "text/plain": [
       "(0.8709815687955422,\n",
       " 0.6308724832214765,\n",
       " 0.27647058823529413,\n",
       " 0.3844580777096115)"
      ]
     },
     "execution_count": 29,
     "metadata": {},
     "output_type": "execute_result"
    }
   ],
   "source": [
    "# Смотрим метрики качества на Train\n",
    "accuracy_score(y_train, model.predict(X_train))\\\n",
    ", precision_score(y_train, model.predict(X_train))\\\n",
    ", recall_score(y_train, model.predict(X_train))\\\n",
    ", f1_score(y_train, model.predict(X_train))"
   ]
  },
  {
   "cell_type": "markdown",
   "metadata": {},
   "source": [
    "### Оформим pipeline и подберем гиперпараметры"
   ]
  },
  {
   "cell_type": "code",
   "execution_count": 30,
   "metadata": {},
   "outputs": [],
   "source": [
    "df_c = df.copy()"
   ]
  },
  {
   "cell_type": "code",
   "execution_count": 31,
   "metadata": {},
   "outputs": [],
   "source": [
    "df_c['Voice mail plan'] = df_c.loc[:, 'Voice mail plan'].map({'No':0, 'Yes':1})\n",
    "df_c['International plan'] = df_c.loc[:, 'International plan'].map({'No':0, 'Yes':1})"
   ]
  },
  {
   "cell_type": "code",
   "execution_count": 32,
   "metadata": {},
   "outputs": [],
   "source": [
    "X_ = df_c.drop(columns='Churn')\n",
    "y = df_c.loc[:, 'Churn']"
   ]
  },
  {
   "cell_type": "code",
   "execution_count": 33,
   "metadata": {},
   "outputs": [],
   "source": [
    "X_train, X_test, y_train, y_test = train_test_split(X_, y, test_size=0.3, random_state=42)"
   ]
  },
  {
   "cell_type": "code",
   "execution_count": 34,
   "metadata": {},
   "outputs": [],
   "source": [
    "pipe = Pipeline([\n",
    "    ('target_encoder', TargetEncoder(cols='State')),\n",
    "    ('scaler', StandardScaler()),\n",
    "    ('model', LogisticRegression(max_iter=5000))\n",
    "])"
   ]
  },
  {
   "cell_type": "markdown",
   "metadata": {},
   "source": [
    "В качетсве парметров для подбора, пробовал **smoothing** у TargetEncoder, **C**, **solver** у LogisticRegression\n",
    "По итогу получил такие лучшие парметры из диапазонов подбора: **smothing=16**, **C=3.5**, **solver='newton-cg'**"
   ]
  },
  {
   "cell_type": "code",
   "execution_count": 35,
   "metadata": {},
   "outputs": [],
   "source": [
    "param_grid = dict(target_encoder__smoothing=np.arange(1, 30, 5),\n",
    "                  model__C=np.arange(0.5, 8, 0.5)\n",
    "                  )"
   ]
  },
  {
   "cell_type": "raw",
   "metadata": {},
   "source": [
    "param_grid = dict(model__solver=['newton-cg', 'lbfgs', 'liblinear', 'sag', 'saga']\n",
    "                 )"
   ]
  },
  {
   "cell_type": "code",
   "execution_count": 36,
   "metadata": {},
   "outputs": [],
   "source": [
    "# Создаем GridSearchCV для подбора параметров по f1_score \n",
    "# Ниже я написал почему считаю что accuracy в данном случаее, на мой взгляд, менее показательный\n",
    "gs = GridSearchCV(pipe, param_grid=param_grid, cv=5, scoring='f1')"
   ]
  },
  {
   "cell_type": "code",
   "execution_count": 37,
   "metadata": {},
   "outputs": [
    {
     "data": {
      "text/plain": [
       "GridSearchCV(cv=5,\n",
       "             estimator=Pipeline(steps=[('target_encoder',\n",
       "                                        TargetEncoder(cols='State')),\n",
       "                                       ('scaler', StandardScaler()),\n",
       "                                       ('model',\n",
       "                                        LogisticRegression(max_iter=5000))]),\n",
       "             param_grid={'model__C': array([0.5, 1. , 1.5, 2. , 2.5, 3. , 3.5, 4. , 4.5, 5. , 5.5, 6. , 6.5,\n",
       "       7. , 7.5]),\n",
       "                         'target_encoder__smoothing': array([ 1,  6, 11, 16, 21, 26])},\n",
       "             scoring='f1')"
      ]
     },
     "execution_count": 37,
     "metadata": {},
     "output_type": "execute_result"
    }
   ],
   "source": [
    "gs.fit(X_, y)"
   ]
  },
  {
   "cell_type": "code",
   "execution_count": 38,
   "metadata": {},
   "outputs": [
    {
     "name": "stdout",
     "output_type": "stream",
     "text": [
      "best_score: 0.3277801939041532\n",
      "best params: {'model__C': 3.5, 'target_encoder__smoothing': 16}\n"
     ]
    }
   ],
   "source": [
    "print('best_score:', gs.best_score_)\n",
    "print('best params:', gs.best_params_)"
   ]
  },
  {
   "cell_type": "code",
   "execution_count": 39,
   "metadata": {},
   "outputs": [
    {
     "data": {
      "text/plain": [
       "Pipeline(steps=[('target_encoder', TargetEncoder(cols=['State'])),\n",
       "                ('scaler', StandardScaler()),\n",
       "                ('model', LogisticRegression(max_iter=5000))])"
      ]
     },
     "execution_count": 39,
     "metadata": {},
     "output_type": "execute_result"
    }
   ],
   "source": [
    "pipe.fit(X_train, y_train)"
   ]
  },
  {
   "cell_type": "code",
   "execution_count": 40,
   "metadata": {},
   "outputs": [],
   "source": [
    "pred = pipe.predict(X_test)"
   ]
  },
  {
   "cell_type": "code",
   "execution_count": 41,
   "metadata": {},
   "outputs": [
    {
     "data": {
      "text/plain": [
       "(0.861, 0.5333333333333333, 0.22377622377622378, 0.31527093596059114)"
      ]
     },
     "execution_count": 41,
     "metadata": {},
     "output_type": "execute_result"
    }
   ],
   "source": [
    "accuracy_score(y_test, pred)\\\n",
    ", precision_score(y_test, pred)\\\n",
    ", recall_score(y_test, pred)\\\n",
    ", f1_score(y_test, pred)"
   ]
  },
  {
   "cell_type": "code",
   "execution_count": 42,
   "metadata": {},
   "outputs": [],
   "source": [
    "pipe = Pipeline([\n",
    "    ('target_encoder', TargetEncoder(cols='State', smoothing=16)),\n",
    "    ('scaler', StandardScaler()),\n",
    "    ('model', LogisticRegression(solver='newton-cg', C=3.5))\n",
    "])"
   ]
  },
  {
   "cell_type": "code",
   "execution_count": 43,
   "metadata": {},
   "outputs": [
    {
     "data": {
      "text/plain": [
       "Pipeline(steps=[('target_encoder', TargetEncoder(cols=['State'], smoothing=16)),\n",
       "                ('scaler', StandardScaler()),\n",
       "                ('model', LogisticRegression(C=3.5, solver='newton-cg'))])"
      ]
     },
     "execution_count": 43,
     "metadata": {},
     "output_type": "execute_result"
    }
   ],
   "source": [
    "pipe.fit(X_train, y_train)"
   ]
  },
  {
   "cell_type": "code",
   "execution_count": 44,
   "metadata": {},
   "outputs": [],
   "source": [
    "pred = pipe.predict(X_test)"
   ]
  },
  {
   "cell_type": "code",
   "execution_count": 45,
   "metadata": {},
   "outputs": [
    {
     "data": {
      "text/plain": [
       "(0.861, 0.5333333333333333, 0.22377622377622378, 0.31527093596059114)"
      ]
     },
     "execution_count": 45,
     "metadata": {},
     "output_type": "execute_result"
    }
   ],
   "source": [
    "accuracy_score(y_test, pred)\\\n",
    ", precision_score(y_test, pred)\\\n",
    ", recall_score(y_test, pred)\\\n",
    ", f1_score(y_test, pred)"
   ]
  },
  {
   "cell_type": "code",
   "execution_count": 46,
   "metadata": {},
   "outputs": [
    {
     "data": {
      "text/plain": [
       "{'fit_time': array([0.11878228, 0.14260459, 0.11571169, 0.13316965, 0.12543845]),\n",
       " 'score_time': array([0.01664162, 0.00405407, 0.00836611, 0.01262283, 0.01117396]),\n",
       " 'test_accuracy': array([0.85607196, 0.85907046, 0.86056972, 0.86186186, 0.86786787]),\n",
       " 'test_precision': array([0.51162791, 0.53658537, 0.54545455, 0.55555556, 0.5952381 ]),\n",
       " 'test_recall': array([0.22680412, 0.22680412, 0.24742268, 0.20833333, 0.26041667]),\n",
       " 'test_f1': array([0.31428571, 0.31884058, 0.34042553, 0.3030303 , 0.36231884])}"
      ]
     },
     "execution_count": 46,
     "metadata": {},
     "output_type": "execute_result"
    }
   ],
   "source": [
    "cross_validate(pipe, X_, y, scoring=('accuracy', 'precision', 'recall', 'f1'))"
   ]
  },
  {
   "cell_type": "markdown",
   "metadata": {},
   "source": [
    "Как видно, на тестовых данных качество не изменилось никак "
   ]
  },
  {
   "cell_type": "markdown",
   "metadata": {},
   "source": [
    "**Выводы:** \\\n",
    "Нам необходимо было предсказать уйдет клиент или нет. Возможно наша цель была разметить клиентов которые намерены уйти и предложить им специальные условия или мы хотели разметить их чтобы именно им их не предлагать так как они уйдут. \n",
    "В 1 случае нам желательно иметь небольшой FP, так как предлагать скидки тем, кто и без них будет нашим клиентом затратно. Во втором случае ситуация такая, что спецпредложение - штатная ситуация и нам не хочется давать ее клиенту который все равно уйдет. Тода нам для максимизации прибыли необходимо иметь наибольшую полноту, т.е. мало FN (прямой эффект) и, при этом нам снова нельзя много ошибаться так как если акция - штатная ситуация, то  не дав ее 'устойчивому клиенту' он может уйти. Итого, на мой взгляд, нам нужен хороший баланс Precision и Recall или f1_score при дисбалансе классов. (класс 1 ~16%)\n",
    "Вполне возможно что цель  была другая, например, понять какими характеристиками обладает наш 'устойчивый' клиент (так как данные пользовательствие, то он, скорее всего, должен быть уже клиентом конкурента), чтобы направить на таких рекламные акции.\n",
    "\n",
    "На мой взгляд, задача решена неуспешно. Полнота порядка 20% и точность около 50%. f1 на уровне 31%. Параметов я перебрал немного (C, solver и smoothing у TargetEncoder), но с вариациями этих параметров значительного улучшения качества достигнуть не удалось.\n",
    "Может быть в данном случае как раз помогло изменение порога разметки класса. \n",
    "Модель не переобучилась, она скорее не дообучилась так как на Train метрики качества отличаются незначительно"
   ]
  },
  {
   "cell_type": "markdown",
   "metadata": {},
   "source": [
    "### SVC"
   ]
  },
  {
   "cell_type": "markdown",
   "metadata": {},
   "source": [
    "Проделаем такие же операции, но будем использовать в качестве модели **SVC** с **kernel='linear'**"
   ]
  },
  {
   "cell_type": "code",
   "execution_count": 47,
   "metadata": {},
   "outputs": [],
   "source": [
    "pipe = Pipeline([\n",
    "    ('target_encoder', TargetEncoder(cols='State')),\n",
    "    ('scaler', StandardScaler()),\n",
    "    ('model', SVC(kernel = 'linear'))\n",
    "])"
   ]
  },
  {
   "cell_type": "code",
   "execution_count": 48,
   "metadata": {},
   "outputs": [
    {
     "name": "stderr",
     "output_type": "stream",
     "text": [
      "D:\\anaconda3\\lib\\site-packages\\sklearn\\metrics\\_classification.py:1248: UndefinedMetricWarning: Precision is ill-defined and being set to 0.0 due to no predicted samples. Use `zero_division` parameter to control this behavior.\n",
      "  _warn_prf(average, modifier, msg_start, len(result))\n",
      "D:\\anaconda3\\lib\\site-packages\\sklearn\\metrics\\_classification.py:1248: UndefinedMetricWarning: Precision is ill-defined and being set to 0.0 due to no predicted samples. Use `zero_division` parameter to control this behavior.\n",
      "  _warn_prf(average, modifier, msg_start, len(result))\n",
      "D:\\anaconda3\\lib\\site-packages\\sklearn\\metrics\\_classification.py:1248: UndefinedMetricWarning: Precision is ill-defined and being set to 0.0 due to no predicted samples. Use `zero_division` parameter to control this behavior.\n",
      "  _warn_prf(average, modifier, msg_start, len(result))\n",
      "D:\\anaconda3\\lib\\site-packages\\sklearn\\metrics\\_classification.py:1248: UndefinedMetricWarning: Precision is ill-defined and being set to 0.0 due to no predicted samples. Use `zero_division` parameter to control this behavior.\n",
      "  _warn_prf(average, modifier, msg_start, len(result))\n",
      "D:\\anaconda3\\lib\\site-packages\\sklearn\\metrics\\_classification.py:1248: UndefinedMetricWarning: Precision is ill-defined and being set to 0.0 due to no predicted samples. Use `zero_division` parameter to control this behavior.\n",
      "  _warn_prf(average, modifier, msg_start, len(result))\n"
     ]
    },
    {
     "data": {
      "text/plain": [
       "{'fit_time': array([0.32327318, 0.35927701, 0.34317207, 0.34029508, 2.01012993]),\n",
       " 'score_time': array([0.05792403, 0.05407572, 0.0506227 , 0.05145526, 0.05750179]),\n",
       " 'test_accuracy': array([0.85457271, 0.85457271, 0.85457271, 0.85585586, 0.85585586]),\n",
       " 'test_precision': array([0., 0., 0., 0., 0.]),\n",
       " 'test_recall': array([0., 0., 0., 0., 0.]),\n",
       " 'test_f1': array([0., 0., 0., 0., 0.])}"
      ]
     },
     "execution_count": 48,
     "metadata": {},
     "output_type": "execute_result"
    }
   ],
   "source": [
    "cross_validate(pipe, X_, y, scoring=('accuracy', 'precision', 'recall', 'f1'))"
   ]
  },
  {
   "cell_type": "code",
   "execution_count": 49,
   "metadata": {},
   "outputs": [],
   "source": [
    "df_c = df.copy()\n",
    "df_c.Churn = df_c.Churn.map(int)\n",
    "df_c['Voice mail plan'] = df_c.loc[:, 'Voice mail plan'].map({'No':0, 'Yes':1})\n",
    "df_c['International plan'] = df_c.loc[:, 'International plan'].map({'No':0, 'Yes':1})\n",
    "X_ = df_c.drop(columns='Churn')\n",
    "y = df_c.loc[:, 'Churn']"
   ]
  },
  {
   "cell_type": "code",
   "execution_count": 50,
   "metadata": {},
   "outputs": [],
   "source": [
    "X_train, X_test, y_train, y_test = train_test_split(X_, y, test_size=0.3, random_state=42)"
   ]
  },
  {
   "cell_type": "code",
   "execution_count": 51,
   "metadata": {},
   "outputs": [
    {
     "data": {
      "text/plain": [
       "Pipeline(steps=[('target_encoder', TargetEncoder(cols=['State'])),\n",
       "                ('scaler', StandardScaler()), ('model', SVC(kernel='linear'))])"
      ]
     },
     "execution_count": 51,
     "metadata": {},
     "output_type": "execute_result"
    }
   ],
   "source": [
    "pipe.fit(X_train, y_train)"
   ]
  },
  {
   "cell_type": "code",
   "execution_count": 52,
   "metadata": {},
   "outputs": [],
   "source": [
    "pred = pipe.predict(X_test)"
   ]
  },
  {
   "cell_type": "code",
   "execution_count": 53,
   "metadata": {},
   "outputs": [
    {
     "data": {
      "text/plain": [
       "(array([0], dtype=int64), array([1000], dtype=int64))"
      ]
     },
     "execution_count": 53,
     "metadata": {},
     "output_type": "execute_result"
    }
   ],
   "source": [
    "np.unique(pred, return_counts=True)"
   ]
  },
  {
   "cell_type": "markdown",
   "metadata": {},
   "source": [
    "Как видим, SVC с kernel='linear' разметил всех пользователей классом 0"
   ]
  },
  {
   "cell_type": "code",
   "execution_count": 54,
   "metadata": {},
   "outputs": [],
   "source": [
    "pipe = Pipeline([\n",
    "    ('target_encoder', TargetEncoder(cols='State')),\n",
    "    ('scaler', StandardScaler()),\n",
    "    ('model', SVC(kernel ='rbf'))\n",
    "])"
   ]
  },
  {
   "cell_type": "code",
   "execution_count": 55,
   "metadata": {},
   "outputs": [
    {
     "data": {
      "text/plain": [
       "{'fit_time': array([0.29301262, 0.26315141, 0.27325273, 0.27748513, 0.27830815]),\n",
       " 'score_time': array([0.12361836, 0.12517214, 0.12002516, 0.12123609, 0.12600756]),\n",
       " 'test_accuracy': array([0.91154423, 0.91004498, 0.92953523, 0.90990991, 0.91891892]),\n",
       " 'test_precision': array([0.88      , 0.83636364, 0.91666667, 0.89130435, 0.86206897]),\n",
       " 'test_recall': array([0.45360825, 0.4742268 , 0.56701031, 0.42708333, 0.52083333]),\n",
       " 'test_f1': array([0.59863946, 0.60526316, 0.70063694, 0.57746479, 0.64935065])}"
      ]
     },
     "execution_count": 55,
     "metadata": {},
     "output_type": "execute_result"
    }
   ],
   "source": [
    "cross_validate(pipe, X_, y, scoring=('accuracy', 'precision', 'recall', 'f1'))"
   ]
  },
  {
   "cell_type": "code",
   "execution_count": 56,
   "metadata": {},
   "outputs": [
    {
     "data": {
      "text/plain": [
       "Pipeline(steps=[('target_encoder', TargetEncoder(cols=['State'])),\n",
       "                ('scaler', StandardScaler()), ('model', SVC())])"
      ]
     },
     "execution_count": 56,
     "metadata": {},
     "output_type": "execute_result"
    }
   ],
   "source": [
    "pipe.fit(X_train, y_train)"
   ]
  },
  {
   "cell_type": "code",
   "execution_count": 57,
   "metadata": {},
   "outputs": [],
   "source": [
    "pred = pipe.predict(X_test)"
   ]
  },
  {
   "cell_type": "code",
   "execution_count": 58,
   "metadata": {},
   "outputs": [
    {
     "data": {
      "text/plain": [
       "(array([0, 1], dtype=int64), array([925,  75], dtype=int64))"
      ]
     },
     "execution_count": 58,
     "metadata": {},
     "output_type": "execute_result"
    }
   ],
   "source": [
    "np.unique(pred, return_counts=True)"
   ]
  },
  {
   "cell_type": "markdown",
   "metadata": {},
   "source": [
    "**SVC** с kernel='rbf' справился намного лучше"
   ]
  },
  {
   "cell_type": "markdown",
   "metadata": {},
   "source": [
    "### Подбор гиперпараметров SVC"
   ]
  },
  {
   "cell_type": "markdown",
   "metadata": {},
   "source": [
    "Мы увидели что SVC может сильно лучше справиться с задаче, попробуем его еще немного докрутить, подобрав гиперпараметры"
   ]
  },
  {
   "cell_type": "code",
   "execution_count": 59,
   "metadata": {},
   "outputs": [],
   "source": [
    "pipe = Pipeline([\n",
    "    ('target_encoder', TargetEncoder(cols='State')),\n",
    "    ('scaler', StandardScaler()),\n",
    "    ('model', SVC())\n",
    "])"
   ]
  },
  {
   "cell_type": "code",
   "execution_count": 60,
   "metadata": {},
   "outputs": [],
   "source": [
    "param_grid = dict(model__kernel=['linear', 'poly', 'rbf', 'sigmoid'],\n",
    "                  model__C=np.arange(0.5,6,0.5)\n",
    "                 )"
   ]
  },
  {
   "cell_type": "code",
   "execution_count": 61,
   "metadata": {},
   "outputs": [],
   "source": [
    "gs = GridSearchCV(pipe, param_grid=param_grid, cv=5, scoring='f1')"
   ]
  },
  {
   "cell_type": "code",
   "execution_count": 62,
   "metadata": {},
   "outputs": [
    {
     "data": {
      "text/plain": [
       "GridSearchCV(cv=5,\n",
       "             estimator=Pipeline(steps=[('target_encoder',\n",
       "                                        TargetEncoder(cols='State')),\n",
       "                                       ('scaler', StandardScaler()),\n",
       "                                       ('model', SVC())]),\n",
       "             param_grid={'model__C': array([0.5, 1. , 1.5, 2. , 2.5, 3. , 3.5, 4. , 4.5, 5. , 5.5]),\n",
       "                         'model__kernel': ['linear', 'poly', 'rbf', 'sigmoid']},\n",
       "             scoring='f1')"
      ]
     },
     "execution_count": 62,
     "metadata": {},
     "output_type": "execute_result"
    }
   ],
   "source": [
    "gs.fit(X_, y)"
   ]
  },
  {
   "cell_type": "code",
   "execution_count": 63,
   "metadata": {},
   "outputs": [
    {
     "name": "stdout",
     "output_type": "stream",
     "text": [
      "best_score: 0.6891801348355525\n",
      "best params: {'model__C': 4.5, 'model__kernel': 'rbf'}\n"
     ]
    }
   ],
   "source": [
    "print('best_score:', gs.best_score_)\n",
    "print('best params:', gs.best_params_)"
   ]
  },
  {
   "cell_type": "markdown",
   "metadata": {},
   "source": [
    "Качество по f1_score в сравнении с LogisticRegression() удалось улучшить более чем в 2 раза (f1_score для LogisticRegression было ~0.31)"
   ]
  },
  {
   "cell_type": "code",
   "execution_count": 64,
   "metadata": {},
   "outputs": [],
   "source": [
    "pipe = Pipeline([\n",
    "    ('target_encoder', TargetEncoder(cols='State', smoothing=16)),\n",
    "    ('scaler', StandardScaler()),\n",
    "    ('model', SVC(kernel='rbf', C=4.5))\n",
    "])"
   ]
  },
  {
   "cell_type": "code",
   "execution_count": 65,
   "metadata": {},
   "outputs": [
    {
     "data": {
      "text/plain": [
       "{'fit_time': array([0.33521867, 0.29784346, 0.30809259, 0.30593824, 0.29166055]),\n",
       " 'score_time': array([0.12213516, 0.11269927, 0.12102437, 0.11554837, 0.12398696]),\n",
       " 'test_accuracy': array([0.91154423, 0.91904048, 0.93403298, 0.91741742, 0.92642643]),\n",
       " 'test_precision': array([0.78787879, 0.79452055, 0.84415584, 0.81538462, 0.84057971]),\n",
       " 'test_recall': array([0.53608247, 0.59793814, 0.67010309, 0.55208333, 0.60416667]),\n",
       " 'test_f1': array([0.63803681, 0.68235294, 0.74712644, 0.65838509, 0.7030303 ])}"
      ]
     },
     "execution_count": 65,
     "metadata": {},
     "output_type": "execute_result"
    }
   ],
   "source": [
    "cross_validate(pipe, X_, y, scoring=('accuracy', 'precision', 'recall', 'f1'))"
   ]
  },
  {
   "cell_type": "markdown",
   "metadata": {},
   "source": [
    "Подбор гиперпарметров дал значительный результат"
   ]
  },
  {
   "cell_type": "markdown",
   "metadata": {},
   "source": [
    "### Проверка на мультикорреляции"
   ]
  },
  {
   "cell_type": "code",
   "execution_count": 66,
   "metadata": {},
   "outputs": [],
   "source": [
    "train_data = pd.concat([X_train, pd.DataFrame(data=y_train, columns=['Churn']).reset_index(drop=True)], axis=1)"
   ]
  },
  {
   "cell_type": "code",
   "execution_count": 67,
   "metadata": {},
   "outputs": [
    {
     "data": {
      "text/plain": [
       "<AxesSubplot:title={'center':'Pearson Correlation of Features'}>"
      ]
     },
     "execution_count": 67,
     "metadata": {},
     "output_type": "execute_result"
    },
    {
     "data": {
      "image/png": "[encoded data removed]",
      "text/plain": [
       "<Figure size 1008x864 with 2 Axes>"
      ]
     },
     "metadata": {
      "needs_background": "light"
     },
     "output_type": "display_data"
    }
   ],
   "source": [
    "colormap = plt.cm.RdBu\n",
    "plt.figure(figsize=(14,12))\n",
    "\n",
    "plt.title('Pearson Correlation of Features', y=1.05, size=18)\n",
    "sns.heatmap(train_data.corr('kendall'),\n",
    "            linewidths=0.1, vmax=1.0, \n",
    "            square=True, cmap=colormap, linecolor='white', annot=True)"
   ]
  },
  {
   "cell_type": "code",
   "execution_count": 68,
   "metadata": {},
   "outputs": [
    {
     "data": {
      "text/plain": [
       "Total eve calls           0.000277\n",
       "Total night calls         0.000302\n",
       "Total night charge        0.004466\n",
       "Total night minutes       0.004482\n",
       "Total intl calls          0.007301\n",
       "Total eve charge          0.007358\n",
       "Total eve minutes         0.007377\n",
       "International plan        0.010255\n",
       "Total day minutes         0.012411\n",
       "Total day charge          0.012411\n",
       "Number vmail messages     0.021011\n",
       "Voice mail plan           0.023128\n",
       "Total intl charge         0.025188\n",
       "Total intl minutes        0.025188\n",
       "Account length            0.027391\n",
       "Total day calls           0.031710\n",
       "Customer service calls    0.031717\n",
       "Area code                 0.032739\n",
       "Churn                     1.000000\n",
       "Name: Churn, dtype: float64"
      ]
     },
     "execution_count": 68,
     "metadata": {},
     "output_type": "execute_result"
    }
   ],
   "source": [
    "train_data.corr('kendall').loc[:, 'Churn'].apply(abs).sort_values()"
   ]
  },
  {
   "cell_type": "markdown",
   "metadata": {},
   "source": [
    "По данным корреляции мы видим: \\\n",
    "    **1.** У нас есть _minutes и _charge, которые дублируют информацию \\\n",
    "    **2.** Есть признаки, значение корреляции с целевой метрикой которых ненулевое только поле 3 знака после запятой \\\n",
    "Попробуем удалить такие признаки"
   ]
  },
  {
   "cell_type": "code",
   "execution_count": 69,
   "metadata": {},
   "outputs": [],
   "source": [
    "# Создадим список полей для удаления\n",
    "cols_for_del = [i for i in train_data.columns if 'charge' in i]\n",
    "cols_for_del.append('Total day calls')\n",
    "cols_for_del.append('Total eve calls')\n",
    "cols_for_del.append('Total night calls')"
   ]
  },
  {
   "cell_type": "code",
   "execution_count": 70,
   "metadata": {},
   "outputs": [
    {
     "data": {
      "text/plain": [
       "['Total day charge',\n",
       " 'Total eve charge',\n",
       " 'Total night charge',\n",
       " 'Total intl charge',\n",
       " 'Total day calls',\n",
       " 'Total eve calls',\n",
       " 'Total night calls']"
      ]
     },
     "execution_count": 70,
     "metadata": {},
     "output_type": "execute_result"
    }
   ],
   "source": [
    "cols_for_del"
   ]
  },
  {
   "cell_type": "code",
   "execution_count": 71,
   "metadata": {},
   "outputs": [],
   "source": [
    "df_c = df.copy()\n",
    "df_c.Churn = df_c.Churn.map(int)\n",
    "df_c['Voice mail plan'] = df_c.loc[:, 'Voice mail plan'].map({'No':0, 'Yes':1})\n",
    "df_c['International plan'] = df_c.loc[:, 'International plan'].map({'No':0, 'Yes':1})\n",
    "df_c.drop(columns=cols_for_del, inplace=True)\n",
    "X_ = df_c.drop(columns='Churn')\n",
    "y = df_c.loc[:, 'Churn']"
   ]
  },
  {
   "cell_type": "code",
   "execution_count": 72,
   "metadata": {},
   "outputs": [],
   "source": [
    "X_train, X_test, y_train, y_test = train_test_split(X_, y, test_size=0.3, random_state=42)"
   ]
  },
  {
   "cell_type": "code",
   "execution_count": 73,
   "metadata": {},
   "outputs": [
    {
     "data": {
      "text/plain": [
       "(2333, 12)"
      ]
     },
     "execution_count": 73,
     "metadata": {},
     "output_type": "execute_result"
    }
   ],
   "source": [
    "X_train.shape"
   ]
  },
  {
   "cell_type": "code",
   "execution_count": 74,
   "metadata": {},
   "outputs": [],
   "source": [
    "pipe = Pipeline([\n",
    "    ('target_encoder', TargetEncoder(cols='State', smoothing=16)),\n",
    "    ('scaler', StandardScaler()),\n",
    "    ('model', SVC(kernel='rbf', C=4.5))\n",
    "])"
   ]
  },
  {
   "cell_type": "code",
   "execution_count": 75,
   "metadata": {},
   "outputs": [
    {
     "data": {
      "text/plain": [
       "0.7302308275668103"
      ]
     },
     "execution_count": 75,
     "metadata": {},
     "output_type": "execute_result"
    }
   ],
   "source": [
    "cross_validate(pipe, X_, y, scoring=('accuracy', 'precision', 'recall', 'f1'))['test_f1'].mean()"
   ]
  },
  {
   "cell_type": "markdown",
   "metadata": {},
   "source": [
    "**--** Как видно, нам удалось улучшить качество по сравнению с применеием SVC к исходному датафрейму удалением фичей с мультикорреляцией и с самыми маленькими значениями корреляции с целевой переменной \\\n",
    "**--** Тперь попробуем сгенерировать новые признаки"
   ]
  },
  {
   "cell_type": "code",
   "execution_count": 76,
   "metadata": {},
   "outputs": [],
   "source": [
    "pipe = Pipeline([\n",
    "    ('target_encoder', TargetEncoder(cols='State', smoothing=16)),\n",
    "    ('poly', PolynomialFeatures(degree=2)),\n",
    "    ('scaler', StandardScaler()),\n",
    "    ('model', SVC(kernel='rbf', C=4.5))\n",
    "])"
   ]
  },
  {
   "cell_type": "code",
   "execution_count": 77,
   "metadata": {},
   "outputs": [
    {
     "data": {
      "text/plain": [
       "0.7296164362478121"
      ]
     },
     "execution_count": 77,
     "metadata": {},
     "output_type": "execute_result"
    }
   ],
   "source": [
    "cross_validate(pipe, X_, y, scoring=('accuracy', 'precision', 'recall', 'f1'))['test_f1'].mean()"
   ]
  },
  {
   "cell_type": "markdown",
   "metadata": {},
   "source": [
    "Простое применение PolynomialFeatures немного ухудшило качество. Попробуем взять самые значимые признаки, при этом имеющие небольшую корреляцию между собой и перемножить их"
   ]
  },
  {
   "cell_type": "code",
   "execution_count": 78,
   "metadata": {},
   "outputs": [],
   "source": [
    "df_c = df.copy()\n",
    "df_c.Churn = df_c.Churn.map(int)\n",
    "df_c['Voice mail plan'] = df_c.loc[:, 'Voice mail plan'].map({'No':0, 'Yes':1})\n",
    "df_c['International plan'] = df_c.loc[:, 'International plan'].map({'No':0, 'Yes':1})\n",
    "df_c.drop(columns=cols_for_del, inplace=True)\n",
    "X_ = df_c.drop(columns='Churn', inplace=False)\n",
    "y = df_c.loc[:, 'Churn']"
   ]
  },
  {
   "cell_type": "code",
   "execution_count": 79,
   "metadata": {},
   "outputs": [],
   "source": [
    "# Так как мы хотим перемножить фичу State, то ее сначала нужно преобразовать\n",
    "target_enc = TargetEncoder(cols='State', smoothing=16)"
   ]
  },
  {
   "cell_type": "code",
   "execution_count": 80,
   "metadata": {},
   "outputs": [],
   "source": [
    "# Разделим данные на Train и Test\n",
    "X_train, X_test, y_train, y_test = train_test_split(X_, y, test_size=0.3, random_state=42)"
   ]
  },
  {
   "cell_type": "code",
   "execution_count": 81,
   "metadata": {},
   "outputs": [
    {
     "data": {
      "text/plain": [
       "TargetEncoder(cols=['State'], smoothing=16)"
      ]
     },
     "execution_count": 81,
     "metadata": {},
     "output_type": "execute_result"
    }
   ],
   "source": [
    "# Вычислим параметры TargetEncoder\n",
    "target_enc.fit(X_train, y_train)"
   ]
  },
  {
   "cell_type": "code",
   "execution_count": 82,
   "metadata": {},
   "outputs": [],
   "source": [
    "# Применяем TArgetEncoder ко всему датасету\n",
    "X_ = target_enc.transform(X_)"
   ]
  },
  {
   "cell_type": "code",
   "execution_count": 83,
   "metadata": {},
   "outputs": [],
   "source": [
    "# X_.info()"
   ]
  },
  {
   "cell_type": "code",
   "execution_count": 84,
   "metadata": {},
   "outputs": [],
   "source": [
    "# Генерируем новые признаки\n",
    "X_['Total day minutes_x_State'] = X_.loc[:, 'Total day minutes']*X_.loc[:, 'State']\n",
    "X_['Total day minutes_x_International plan'] = X_.loc[:, 'Total day minutes']*X_.loc[:, 'International plan']\n",
    "X_['International plan_x_State'] = X_.loc[:, 'International plan']*X_.loc[:, 'State']"
   ]
  },
  {
   "cell_type": "code",
   "execution_count": 85,
   "metadata": {},
   "outputs": [
    {
     "data": {
      "text/html": [
       "<div>\n",
       "<style scoped>\n",
       "    .dataframe tbody tr th:only-of-type {\n",
       "        vertical-align: middle;\n",
       "    }\n",
       "\n",
       "    .dataframe tbody tr th {\n",
       "        vertical-align: top;\n",
       "    }\n",
       "\n",
       "    .dataframe thead th {\n",
       "        text-align: right;\n",
       "    }\n",
       "</style>\n",
       "<table border=\"1\" class=\"dataframe\">\n",
       "  <thead>\n",
       "    <tr style=\"text-align: right;\">\n",
       "      <th></th>\n",
       "      <th>State</th>\n",
       "      <th>Account length</th>\n",
       "      <th>Area code</th>\n",
       "      <th>International plan</th>\n",
       "      <th>Voice mail plan</th>\n",
       "      <th>Number vmail messages</th>\n",
       "      <th>Total day minutes</th>\n",
       "      <th>Total eve minutes</th>\n",
       "      <th>Total night minutes</th>\n",
       "      <th>Total intl minutes</th>\n",
       "      <th>Total intl calls</th>\n",
       "      <th>Customer service calls</th>\n",
       "      <th>Total day minutes_x_State</th>\n",
       "      <th>Total day minutes_x_International plan</th>\n",
       "      <th>International plan_x_State</th>\n",
       "    </tr>\n",
       "  </thead>\n",
       "  <tbody>\n",
       "    <tr>\n",
       "      <th>0</th>\n",
       "      <td>0.184347</td>\n",
       "      <td>128</td>\n",
       "      <td>415</td>\n",
       "      <td>0</td>\n",
       "      <td>1</td>\n",
       "      <td>25</td>\n",
       "      <td>265.1</td>\n",
       "      <td>197.4</td>\n",
       "      <td>244.7</td>\n",
       "      <td>10.0</td>\n",
       "      <td>3</td>\n",
       "      <td>1</td>\n",
       "      <td>48.870363</td>\n",
       "      <td>0.0</td>\n",
       "      <td>0.000000</td>\n",
       "    </tr>\n",
       "    <tr>\n",
       "      <th>1</th>\n",
       "      <td>0.138595</td>\n",
       "      <td>107</td>\n",
       "      <td>415</td>\n",
       "      <td>0</td>\n",
       "      <td>1</td>\n",
       "      <td>26</td>\n",
       "      <td>161.6</td>\n",
       "      <td>195.5</td>\n",
       "      <td>254.4</td>\n",
       "      <td>13.7</td>\n",
       "      <td>3</td>\n",
       "      <td>1</td>\n",
       "      <td>22.396977</td>\n",
       "      <td>0.0</td>\n",
       "      <td>0.000000</td>\n",
       "    </tr>\n",
       "    <tr>\n",
       "      <th>2</th>\n",
       "      <td>0.248526</td>\n",
       "      <td>137</td>\n",
       "      <td>415</td>\n",
       "      <td>0</td>\n",
       "      <td>0</td>\n",
       "      <td>0</td>\n",
       "      <td>243.4</td>\n",
       "      <td>121.2</td>\n",
       "      <td>162.6</td>\n",
       "      <td>12.2</td>\n",
       "      <td>5</td>\n",
       "      <td>0</td>\n",
       "      <td>60.491222</td>\n",
       "      <td>0.0</td>\n",
       "      <td>0.000000</td>\n",
       "    </tr>\n",
       "    <tr>\n",
       "      <th>3</th>\n",
       "      <td>0.138595</td>\n",
       "      <td>84</td>\n",
       "      <td>408</td>\n",
       "      <td>1</td>\n",
       "      <td>0</td>\n",
       "      <td>0</td>\n",
       "      <td>299.4</td>\n",
       "      <td>61.9</td>\n",
       "      <td>196.9</td>\n",
       "      <td>6.6</td>\n",
       "      <td>7</td>\n",
       "      <td>2</td>\n",
       "      <td>41.495389</td>\n",
       "      <td>299.4</td>\n",
       "      <td>0.138595</td>\n",
       "    </tr>\n",
       "    <tr>\n",
       "      <th>4</th>\n",
       "      <td>0.143438</td>\n",
       "      <td>75</td>\n",
       "      <td>415</td>\n",
       "      <td>1</td>\n",
       "      <td>0</td>\n",
       "      <td>0</td>\n",
       "      <td>166.7</td>\n",
       "      <td>148.3</td>\n",
       "      <td>186.9</td>\n",
       "      <td>10.1</td>\n",
       "      <td>3</td>\n",
       "      <td>3</td>\n",
       "      <td>23.911107</td>\n",
       "      <td>166.7</td>\n",
       "      <td>0.143438</td>\n",
       "    </tr>\n",
       "  </tbody>\n",
       "</table>\n",
       "</div>"
      ],
      "text/plain": [
       "      State  Account length  Area code  International plan  Voice mail plan  \\\n",
       "0  0.184347             128        415                   0                1   \n",
       "1  0.138595             107        415                   0                1   \n",
       "2  0.248526             137        415                   0                0   \n",
       "3  0.138595              84        408                   1                0   \n",
       "4  0.143438              75        415                   1                0   \n",
       "\n",
       "   Number vmail messages  Total day minutes  Total eve minutes  \\\n",
       "0                     25              265.1              197.4   \n",
       "1                     26              161.6              195.5   \n",
       "2                      0              243.4              121.2   \n",
       "3                      0              299.4               61.9   \n",
       "4                      0              166.7              148.3   \n",
       "\n",
       "   Total night minutes  Total intl minutes  Total intl calls  \\\n",
       "0                244.7                10.0                 3   \n",
       "1                254.4                13.7                 3   \n",
       "2                162.6                12.2                 5   \n",
       "3                196.9                 6.6                 7   \n",
       "4                186.9                10.1                 3   \n",
       "\n",
       "   Customer service calls  Total day minutes_x_State  \\\n",
       "0                       1                  48.870363   \n",
       "1                       1                  22.396977   \n",
       "2                       0                  60.491222   \n",
       "3                       2                  41.495389   \n",
       "4                       3                  23.911107   \n",
       "\n",
       "   Total day minutes_x_International plan  International plan_x_State  \n",
       "0                                     0.0                    0.000000  \n",
       "1                                     0.0                    0.000000  \n",
       "2                                     0.0                    0.000000  \n",
       "3                                   299.4                    0.138595  \n",
       "4                                   166.7                    0.143438  "
      ]
     },
     "execution_count": 85,
     "metadata": {},
     "output_type": "execute_result"
    }
   ],
   "source": [
    "X_[:5]"
   ]
  },
  {
   "cell_type": "code",
   "execution_count": 86,
   "metadata": {},
   "outputs": [],
   "source": [
    "X_train = X_.iloc[X_train.index]"
   ]
  },
  {
   "cell_type": "code",
   "execution_count": 87,
   "metadata": {},
   "outputs": [
    {
     "data": {
      "text/html": [
       "<div>\n",
       "<style scoped>\n",
       "    .dataframe tbody tr th:only-of-type {\n",
       "        vertical-align: middle;\n",
       "    }\n",
       "\n",
       "    .dataframe tbody tr th {\n",
       "        vertical-align: top;\n",
       "    }\n",
       "\n",
       "    .dataframe thead th {\n",
       "        text-align: right;\n",
       "    }\n",
       "</style>\n",
       "<table border=\"1\" class=\"dataframe\">\n",
       "  <thead>\n",
       "    <tr style=\"text-align: right;\">\n",
       "      <th></th>\n",
       "      <th>State</th>\n",
       "      <th>Account length</th>\n",
       "      <th>Area code</th>\n",
       "      <th>International plan</th>\n",
       "      <th>Voice mail plan</th>\n",
       "      <th>Number vmail messages</th>\n",
       "      <th>Total day minutes</th>\n",
       "      <th>Total eve minutes</th>\n",
       "      <th>Total night minutes</th>\n",
       "      <th>Total intl minutes</th>\n",
       "      <th>Total intl calls</th>\n",
       "      <th>Customer service calls</th>\n",
       "      <th>Total day minutes_x_State</th>\n",
       "      <th>Total day minutes_x_International plan</th>\n",
       "      <th>International plan_x_State</th>\n",
       "    </tr>\n",
       "  </thead>\n",
       "  <tbody>\n",
       "    <tr>\n",
       "      <th>2016</th>\n",
       "      <td>0.094571</td>\n",
       "      <td>80</td>\n",
       "      <td>510</td>\n",
       "      <td>0</td>\n",
       "      <td>0</td>\n",
       "      <td>0</td>\n",
       "      <td>202.4</td>\n",
       "      <td>260.2</td>\n",
       "      <td>177.4</td>\n",
       "      <td>9.2</td>\n",
       "      <td>5</td>\n",
       "      <td>3</td>\n",
       "      <td>19.141135</td>\n",
       "      <td>0.0</td>\n",
       "      <td>0.0</td>\n",
       "    </tr>\n",
       "    <tr>\n",
       "      <th>1362</th>\n",
       "      <td>0.103428</td>\n",
       "      <td>63</td>\n",
       "      <td>510</td>\n",
       "      <td>0</td>\n",
       "      <td>0</td>\n",
       "      <td>0</td>\n",
       "      <td>132.9</td>\n",
       "      <td>67.0</td>\n",
       "      <td>160.4</td>\n",
       "      <td>9.9</td>\n",
       "      <td>2</td>\n",
       "      <td>3</td>\n",
       "      <td>13.745582</td>\n",
       "      <td>0.0</td>\n",
       "      <td>0.0</td>\n",
       "    </tr>\n",
       "    <tr>\n",
       "      <th>2670</th>\n",
       "      <td>0.126977</td>\n",
       "      <td>116</td>\n",
       "      <td>510</td>\n",
       "      <td>0</td>\n",
       "      <td>1</td>\n",
       "      <td>12</td>\n",
       "      <td>221.0</td>\n",
       "      <td>151.0</td>\n",
       "      <td>179.0</td>\n",
       "      <td>9.0</td>\n",
       "      <td>6</td>\n",
       "      <td>2</td>\n",
       "      <td>28.061935</td>\n",
       "      <td>0.0</td>\n",
       "      <td>0.0</td>\n",
       "    </tr>\n",
       "    <tr>\n",
       "      <th>2210</th>\n",
       "      <td>0.114789</td>\n",
       "      <td>71</td>\n",
       "      <td>415</td>\n",
       "      <td>0</td>\n",
       "      <td>0</td>\n",
       "      <td>0</td>\n",
       "      <td>278.9</td>\n",
       "      <td>190.2</td>\n",
       "      <td>255.2</td>\n",
       "      <td>11.7</td>\n",
       "      <td>7</td>\n",
       "      <td>0</td>\n",
       "      <td>32.014722</td>\n",
       "      <td>0.0</td>\n",
       "      <td>0.0</td>\n",
       "    </tr>\n",
       "    <tr>\n",
       "      <th>1846</th>\n",
       "      <td>0.154915</td>\n",
       "      <td>120</td>\n",
       "      <td>510</td>\n",
       "      <td>0</td>\n",
       "      <td>1</td>\n",
       "      <td>43</td>\n",
       "      <td>177.9</td>\n",
       "      <td>175.1</td>\n",
       "      <td>161.3</td>\n",
       "      <td>11.5</td>\n",
       "      <td>4</td>\n",
       "      <td>1</td>\n",
       "      <td>27.559306</td>\n",
       "      <td>0.0</td>\n",
       "      <td>0.0</td>\n",
       "    </tr>\n",
       "  </tbody>\n",
       "</table>\n",
       "</div>"
      ],
      "text/plain": [
       "         State  Account length  Area code  International plan  \\\n",
       "2016  0.094571              80        510                   0   \n",
       "1362  0.103428              63        510                   0   \n",
       "2670  0.126977             116        510                   0   \n",
       "2210  0.114789              71        415                   0   \n",
       "1846  0.154915             120        510                   0   \n",
       "\n",
       "      Voice mail plan  Number vmail messages  Total day minutes  \\\n",
       "2016                0                      0              202.4   \n",
       "1362                0                      0              132.9   \n",
       "2670                1                     12              221.0   \n",
       "2210                0                      0              278.9   \n",
       "1846                1                     43              177.9   \n",
       "\n",
       "      Total eve minutes  Total night minutes  Total intl minutes  \\\n",
       "2016              260.2                177.4                 9.2   \n",
       "1362               67.0                160.4                 9.9   \n",
       "2670              151.0                179.0                 9.0   \n",
       "2210              190.2                255.2                11.7   \n",
       "1846              175.1                161.3                11.5   \n",
       "\n",
       "      Total intl calls  Customer service calls  Total day minutes_x_State  \\\n",
       "2016                 5                       3                  19.141135   \n",
       "1362                 2                       3                  13.745582   \n",
       "2670                 6                       2                  28.061935   \n",
       "2210                 7                       0                  32.014722   \n",
       "1846                 4                       1                  27.559306   \n",
       "\n",
       "      Total day minutes_x_International plan  International plan_x_State  \n",
       "2016                                     0.0                         0.0  \n",
       "1362                                     0.0                         0.0  \n",
       "2670                                     0.0                         0.0  \n",
       "2210                                     0.0                         0.0  \n",
       "1846                                     0.0                         0.0  "
      ]
     },
     "execution_count": 87,
     "metadata": {},
     "output_type": "execute_result"
    }
   ],
   "source": [
    "X_train[:5]"
   ]
  },
  {
   "cell_type": "code",
   "execution_count": 88,
   "metadata": {},
   "outputs": [],
   "source": [
    "scaler = StandardScaler()"
   ]
  },
  {
   "cell_type": "code",
   "execution_count": 89,
   "metadata": {},
   "outputs": [
    {
     "data": {
      "text/plain": [
       "StandardScaler()"
      ]
     },
     "execution_count": 89,
     "metadata": {},
     "output_type": "execute_result"
    }
   ],
   "source": [
    "scaler.fit(X_train)"
   ]
  },
  {
   "cell_type": "code",
   "execution_count": 90,
   "metadata": {},
   "outputs": [],
   "source": [
    "X_ = pd.DataFrame(data=scaler.transform(X_), columns=X_.columns)"
   ]
  },
  {
   "cell_type": "code",
   "execution_count": 91,
   "metadata": {},
   "outputs": [
    {
     "data": {
      "text/html": [
       "<div>\n",
       "<style scoped>\n",
       "    .dataframe tbody tr th:only-of-type {\n",
       "        vertical-align: middle;\n",
       "    }\n",
       "\n",
       "    .dataframe tbody tr th {\n",
       "        vertical-align: top;\n",
       "    }\n",
       "\n",
       "    .dataframe thead th {\n",
       "        text-align: right;\n",
       "    }\n",
       "</style>\n",
       "<table border=\"1\" class=\"dataframe\">\n",
       "  <thead>\n",
       "    <tr style=\"text-align: right;\">\n",
       "      <th></th>\n",
       "      <th>State</th>\n",
       "      <th>Account length</th>\n",
       "      <th>Area code</th>\n",
       "      <th>International plan</th>\n",
       "      <th>Voice mail plan</th>\n",
       "      <th>Number vmail messages</th>\n",
       "      <th>Total day minutes</th>\n",
       "      <th>Total eve minutes</th>\n",
       "      <th>Total night minutes</th>\n",
       "      <th>Total intl minutes</th>\n",
       "      <th>Total intl calls</th>\n",
       "      <th>Customer service calls</th>\n",
       "      <th>Total day minutes_x_State</th>\n",
       "      <th>Total day minutes_x_International plan</th>\n",
       "      <th>International plan_x_State</th>\n",
       "    </tr>\n",
       "  </thead>\n",
       "  <tbody>\n",
       "    <tr>\n",
       "      <th>0</th>\n",
       "      <td>0.754639</td>\n",
       "      <td>0.693893</td>\n",
       "      <td>-0.515843</td>\n",
       "      <td>-0.324289</td>\n",
       "      <td>1.633475</td>\n",
       "      <td>1.236730</td>\n",
       "      <td>1.561355</td>\n",
       "      <td>-0.070085</td>\n",
       "      <td>0.864611</td>\n",
       "      <td>-0.087000</td>\n",
       "      <td>-0.589331</td>\n",
       "      <td>-0.426563</td>\n",
       "      <td>1.727727</td>\n",
       "      <td>-0.308001</td>\n",
       "      <td>-0.304295</td>\n",
       "    </tr>\n",
       "    <tr>\n",
       "      <th>1</th>\n",
       "      <td>-0.142125</td>\n",
       "      <td>0.166342</td>\n",
       "      <td>-0.515843</td>\n",
       "      <td>-0.324289</td>\n",
       "      <td>1.633475</td>\n",
       "      <td>1.309619</td>\n",
       "      <td>-0.338025</td>\n",
       "      <td>-0.107516</td>\n",
       "      <td>1.055090</td>\n",
       "      <td>1.238905</td>\n",
       "      <td>-0.589331</td>\n",
       "      <td>-0.426563</td>\n",
       "      <td>-0.307824</td>\n",
       "      <td>-0.308001</td>\n",
       "      <td>-0.304295</td>\n",
       "    </tr>\n",
       "    <tr>\n",
       "      <th>2</th>\n",
       "      <td>2.012592</td>\n",
       "      <td>0.919986</td>\n",
       "      <td>-0.515843</td>\n",
       "      <td>-0.324289</td>\n",
       "      <td>-0.612192</td>\n",
       "      <td>-0.585483</td>\n",
       "      <td>1.163127</td>\n",
       "      <td>-1.571257</td>\n",
       "      <td>-0.747589</td>\n",
       "      <td>0.701376</td>\n",
       "      <td>0.226639</td>\n",
       "      <td>-1.176504</td>\n",
       "      <td>2.621260</td>\n",
       "      <td>-0.308001</td>\n",
       "      <td>-0.304295</td>\n",
       "    </tr>\n",
       "    <tr>\n",
       "      <th>3</th>\n",
       "      <td>-0.142125</td>\n",
       "      <td>-0.411451</td>\n",
       "      <td>-0.682096</td>\n",
       "      <td>3.083668</td>\n",
       "      <td>-0.612192</td>\n",
       "      <td>-0.585483</td>\n",
       "      <td>2.190811</td>\n",
       "      <td>-2.739493</td>\n",
       "      <td>-0.074039</td>\n",
       "      <td>-1.305399</td>\n",
       "      <td>1.042609</td>\n",
       "      <td>0.323378</td>\n",
       "      <td>1.160662</td>\n",
       "      <td>4.805139</td>\n",
       "      <td>2.677673</td>\n",
       "    </tr>\n",
       "    <tr>\n",
       "      <th>4</th>\n",
       "      <td>-0.047203</td>\n",
       "      <td>-0.637545</td>\n",
       "      <td>-0.515843</td>\n",
       "      <td>3.083668</td>\n",
       "      <td>-0.612192</td>\n",
       "      <td>-0.585483</td>\n",
       "      <td>-0.244433</td>\n",
       "      <td>-1.037376</td>\n",
       "      <td>-0.270409</td>\n",
       "      <td>-0.051165</td>\n",
       "      <td>-0.589331</td>\n",
       "      <td>1.073319</td>\n",
       "      <td>-0.191402</td>\n",
       "      <td>2.538894</td>\n",
       "      <td>2.781869</td>\n",
       "    </tr>\n",
       "  </tbody>\n",
       "</table>\n",
       "</div>"
      ],
      "text/plain": [
       "      State  Account length  Area code  International plan  Voice mail plan  \\\n",
       "0  0.754639        0.693893  -0.515843           -0.324289         1.633475   \n",
       "1 -0.142125        0.166342  -0.515843           -0.324289         1.633475   \n",
       "2  2.012592        0.919986  -0.515843           -0.324289        -0.612192   \n",
       "3 -0.142125       -0.411451  -0.682096            3.083668        -0.612192   \n",
       "4 -0.047203       -0.637545  -0.515843            3.083668        -0.612192   \n",
       "\n",
       "   Number vmail messages  Total day minutes  Total eve minutes  \\\n",
       "0               1.236730           1.561355          -0.070085   \n",
       "1               1.309619          -0.338025          -0.107516   \n",
       "2              -0.585483           1.163127          -1.571257   \n",
       "3              -0.585483           2.190811          -2.739493   \n",
       "4              -0.585483          -0.244433          -1.037376   \n",
       "\n",
       "   Total night minutes  Total intl minutes  Total intl calls  \\\n",
       "0             0.864611           -0.087000         -0.589331   \n",
       "1             1.055090            1.238905         -0.589331   \n",
       "2            -0.747589            0.701376          0.226639   \n",
       "3            -0.074039           -1.305399          1.042609   \n",
       "4            -0.270409           -0.051165         -0.589331   \n",
       "\n",
       "   Customer service calls  Total day minutes_x_State  \\\n",
       "0               -0.426563                   1.727727   \n",
       "1               -0.426563                  -0.307824   \n",
       "2               -1.176504                   2.621260   \n",
       "3                0.323378                   1.160662   \n",
       "4                1.073319                  -0.191402   \n",
       "\n",
       "   Total day minutes_x_International plan  International plan_x_State  \n",
       "0                               -0.308001                   -0.304295  \n",
       "1                               -0.308001                   -0.304295  \n",
       "2                               -0.308001                   -0.304295  \n",
       "3                                4.805139                    2.677673  \n",
       "4                                2.538894                    2.781869  "
      ]
     },
     "execution_count": 91,
     "metadata": {},
     "output_type": "execute_result"
    }
   ],
   "source": [
    "X_[:5]"
   ]
  },
  {
   "cell_type": "code",
   "execution_count": 92,
   "metadata": {},
   "outputs": [],
   "source": [
    "model = SVC(C=4.5, kernel='rbf')"
   ]
  },
  {
   "cell_type": "code",
   "execution_count": 93,
   "metadata": {},
   "outputs": [],
   "source": [
    "cv = cross_validate(model, X_, y, scoring=('accuracy', 'precision', 'recall', 'f1', 'roc_auc'))"
   ]
  },
  {
   "cell_type": "code",
   "execution_count": 94,
   "metadata": {},
   "outputs": [
    {
     "data": {
      "text/plain": [
       "(0.7424012873260718, 0.934292313302808, 0.9064359136673298)"
      ]
     },
     "execution_count": 94,
     "metadata": {},
     "output_type": "execute_result"
    }
   ],
   "source": [
    "cv['test_f1'].mean()\\\n",
    ",cv['test_accuracy'].mean()\\\n",
    ",cv['test_roc_auc'].mean()"
   ]
  },
  {
   "cell_type": "code",
   "execution_count": 95,
   "metadata": {},
   "outputs": [
    {
     "data": {
      "text/plain": [
       "SVC(C=4.5)"
      ]
     },
     "execution_count": 95,
     "metadata": {},
     "output_type": "execute_result"
    }
   ],
   "source": [
    "model.fit(X_.loc[X_train.index], y_train)"
   ]
  },
  {
   "cell_type": "code",
   "execution_count": 96,
   "metadata": {},
   "outputs": [],
   "source": [
    "pred = model.predict(X_.loc[X_test.index])"
   ]
  },
  {
   "cell_type": "code",
   "execution_count": 97,
   "metadata": {},
   "outputs": [
    {
     "data": {
      "text/plain": [
       "(0.926,\n",
       " 0.8285714285714286,\n",
       " 0.6083916083916084,\n",
       " 0.7016129032258066,\n",
       " 0.7936940539040889)"
      ]
     },
     "execution_count": 97,
     "metadata": {},
     "output_type": "execute_result"
    }
   ],
   "source": [
    "# Метрики качества на Test\n",
    "accuracy_score(y_test, pred)\\\n",
    ", precision_score(y_test, pred)\\\n",
    ", recall_score(y_test, pred)\\\n",
    ", f1_score(y_test, pred) \\\n",
    ", roc_auc_score(y_test, pred)"
   ]
  },
  {
   "cell_type": "code",
   "execution_count": 98,
   "metadata": {},
   "outputs": [
    {
     "data": {
      "text/plain": [
       "(0.9665666523789113,\n",
       " 0.9678571428571429,\n",
       " 0.7970588235294118,\n",
       " 0.8741935483870968,\n",
       " 0.8962715091053983)"
      ]
     },
     "execution_count": 98,
     "metadata": {},
     "output_type": "execute_result"
    }
   ],
   "source": [
    "# Метрики качества на Train\n",
    "accuracy_score(y_train, model.predict(X_.loc[X_train.index]))\\\n",
    ", precision_score(y_train, model.predict(X_.loc[X_train.index]))\\\n",
    ", recall_score(y_train, model.predict(X_.loc[X_train.index]))\\\n",
    ", f1_score(y_train, model.predict(X_.loc[X_train.index])) \\\n",
    ", roc_auc_score(y_train, model.predict(X_.loc[X_train.index]))"
   ]
  },
  {
   "cell_type": "markdown",
   "metadata": {},
   "source": [
    "**Выводы:** \\\n",
    "    - В ходе решния нашей задачи мы использовали 2 вида моделей LogisticRegression и SVC. SVC из коробки справилась с задачей сильно лучше. (SVC с kernel=linear с задачей также не справился) \\\n",
    "    - Мы подбирали гиперпараметры для улучшения качества моделей. Для LogisticRegression это не дало значимых результатов, в то время как для SVC удалось получить неплохое улучшение метрик\n",
    "    - Мы пробовали генерировать новые фичи и удалять малозначимые признаки, признаки с мультиколлинеарностью. Простое добавление полиномиальных признаков со степенью 2 не дало результатов, даже незначительно ухудшило качество. Добавление нескольких конкретных полиномиальных признаков помогло еще немного улучшить качество\n",
    "    В итоге нам удалось улучшить качество f1_score=0.327 на кросс-валидации для дефолтной LogisticRegression до f1_score=0.742 для SVC(C=4.5, kernel='rbf'). ROC-AUC для данной версии составил ~0.9 на кросс-валидации. При этом, у этой модели есть подозрения на переобучение так как на train и test метрики качества довольно сильно отличаются, хотя все еще являются высокими (но возможно непредсказуемыми)."
   ]
  },
  {
   "cell_type": "markdown",
   "metadata": {
    "tags": []
   },
   "source": [
    "## Часть 2. Оценка качества моделей классификации (6 баллов)."
   ]
  },
  {
   "cell_type": "markdown",
   "metadata": {},
   "source": [
    "**Задание 0 (1 балл)**. Закончите определения, начинающиеся так:\n",
    "\n",
    "    * accuracy - это доля правильных ответов по отношению ко всем ответам (кол-ву классифицируемых объектов)\n",
    "    \n",
    "    * точность (precision) - это доля правильных ответов ко всем объектам размеченным эти классом (TP+FP) (целевого класса в случае бинарной классификации)\n",
    "    \n",
    "    * полнота (recall) - это доля правильных ответов ко всем объектам, в действительности относящимся к данному классу (TP+FN) \n",
    "    \n",
    "    * TPR - это доля правильных ответов ко всем объектам, в действительности относящимся к данному классу (TP+FN) \n",
    "    \n",
    "    \n",
    "Продолжите определения прямо в этой ячейке."
   ]
  },
  {
   "cell_type": "markdown",
   "metadata": {},
   "source": [
    "_______________________________________________________________________________________________"
   ]
  },
  {
   "cell_type": "markdown",
   "metadata": {},
   "source": [
    "В этой части вы будете работать с данными в задаче скоринга. За работу с этими данными можно получить **5 баллов.**\n",
    "\n",
    "* Колонки 0, 1, ..., 13 - анонимизированные характеристики клиентов (некоторые числовые, некоторые категориальные). \n",
    "* Target - целевая переменная: 1 - выдать кредит, 0 - не выдать кредит.\n",
    "\n",
    "На этих данных было обучено три различных алгоритма классификации и получены предсказания:\n",
    "* pred1_probs - предсказанные вероятности положительного класса, полученные алгоритмом 1.\n",
    "* pred1_classes - предсказанные алгоритмом 1 классы\n",
    "* pred2_probs, pred2_classes, pred3_probs, pred3_classes - аналогичные величины для алгоритмов 2 и 3\n",
    "\n",
    "Наша задача - оценить качество каждого из трех алгоритмов и разобраться, какой из алгоритмов лучше всего работает в данной задаче."
   ]
  },
  {
   "cell_type": "code",
   "execution_count": 99,
   "metadata": {},
   "outputs": [
    {
     "data": {
      "text/html": [
       "<div>\n",
       "<style scoped>\n",
       "    .dataframe tbody tr th:only-of-type {\n",
       "        vertical-align: middle;\n",
       "    }\n",
       "\n",
       "    .dataframe tbody tr th {\n",
       "        vertical-align: top;\n",
       "    }\n",
       "\n",
       "    .dataframe thead th {\n",
       "        text-align: right;\n",
       "    }\n",
       "</style>\n",
       "<table border=\"1\" class=\"dataframe\">\n",
       "  <thead>\n",
       "    <tr style=\"text-align: right;\">\n",
       "      <th></th>\n",
       "      <th>0</th>\n",
       "      <th>1</th>\n",
       "      <th>2</th>\n",
       "      <th>3</th>\n",
       "      <th>4</th>\n",
       "      <th>5</th>\n",
       "      <th>6</th>\n",
       "      <th>7</th>\n",
       "      <th>8</th>\n",
       "      <th>9</th>\n",
       "      <th>...</th>\n",
       "      <th>11</th>\n",
       "      <th>12</th>\n",
       "      <th>13</th>\n",
       "      <th>target</th>\n",
       "      <th>pred1_probs</th>\n",
       "      <th>pred1_classes</th>\n",
       "      <th>pred2_probs</th>\n",
       "      <th>pred2_classes</th>\n",
       "      <th>pred3_probs</th>\n",
       "      <th>pred3_classes</th>\n",
       "    </tr>\n",
       "  </thead>\n",
       "  <tbody>\n",
       "    <tr>\n",
       "      <th>0</th>\n",
       "      <td>1</td>\n",
       "      <td>22.08</td>\n",
       "      <td>11.46</td>\n",
       "      <td>2</td>\n",
       "      <td>4</td>\n",
       "      <td>4</td>\n",
       "      <td>1.585</td>\n",
       "      <td>0</td>\n",
       "      <td>0</td>\n",
       "      <td>0</td>\n",
       "      <td>...</td>\n",
       "      <td>2</td>\n",
       "      <td>100</td>\n",
       "      <td>1213</td>\n",
       "      <td>0</td>\n",
       "      <td>0.506772</td>\n",
       "      <td>1</td>\n",
       "      <td>0.610853</td>\n",
       "      <td>1</td>\n",
       "      <td>0.375494</td>\n",
       "      <td>0</td>\n",
       "    </tr>\n",
       "    <tr>\n",
       "      <th>1</th>\n",
       "      <td>0</td>\n",
       "      <td>22.67</td>\n",
       "      <td>7.00</td>\n",
       "      <td>2</td>\n",
       "      <td>8</td>\n",
       "      <td>4</td>\n",
       "      <td>0.165</td>\n",
       "      <td>0</td>\n",
       "      <td>0</td>\n",
       "      <td>0</td>\n",
       "      <td>...</td>\n",
       "      <td>2</td>\n",
       "      <td>160</td>\n",
       "      <td>1</td>\n",
       "      <td>0</td>\n",
       "      <td>0.358519</td>\n",
       "      <td>0</td>\n",
       "      <td>0.185941</td>\n",
       "      <td>0</td>\n",
       "      <td>0.200975</td>\n",
       "      <td>0</td>\n",
       "    </tr>\n",
       "    <tr>\n",
       "      <th>2</th>\n",
       "      <td>0</td>\n",
       "      <td>29.58</td>\n",
       "      <td>1.75</td>\n",
       "      <td>1</td>\n",
       "      <td>4</td>\n",
       "      <td>4</td>\n",
       "      <td>1.250</td>\n",
       "      <td>0</td>\n",
       "      <td>0</td>\n",
       "      <td>0</td>\n",
       "      <td>...</td>\n",
       "      <td>2</td>\n",
       "      <td>280</td>\n",
       "      <td>1</td>\n",
       "      <td>0</td>\n",
       "      <td>0.358753</td>\n",
       "      <td>0</td>\n",
       "      <td>0.523009</td>\n",
       "      <td>1</td>\n",
       "      <td>0.160465</td>\n",
       "      <td>0</td>\n",
       "    </tr>\n",
       "    <tr>\n",
       "      <th>3</th>\n",
       "      <td>0</td>\n",
       "      <td>21.67</td>\n",
       "      <td>11.50</td>\n",
       "      <td>1</td>\n",
       "      <td>5</td>\n",
       "      <td>3</td>\n",
       "      <td>0.000</td>\n",
       "      <td>1</td>\n",
       "      <td>1</td>\n",
       "      <td>11</td>\n",
       "      <td>...</td>\n",
       "      <td>2</td>\n",
       "      <td>0</td>\n",
       "      <td>1</td>\n",
       "      <td>1</td>\n",
       "      <td>0.408729</td>\n",
       "      <td>0</td>\n",
       "      <td>0.185941</td>\n",
       "      <td>0</td>\n",
       "      <td>0.357771</td>\n",
       "      <td>0</td>\n",
       "    </tr>\n",
       "    <tr>\n",
       "      <th>4</th>\n",
       "      <td>1</td>\n",
       "      <td>20.17</td>\n",
       "      <td>8.17</td>\n",
       "      <td>2</td>\n",
       "      <td>6</td>\n",
       "      <td>4</td>\n",
       "      <td>1.960</td>\n",
       "      <td>1</td>\n",
       "      <td>1</td>\n",
       "      <td>14</td>\n",
       "      <td>...</td>\n",
       "      <td>2</td>\n",
       "      <td>60</td>\n",
       "      <td>159</td>\n",
       "      <td>1</td>\n",
       "      <td>0.480904</td>\n",
       "      <td>0</td>\n",
       "      <td>0.526646</td>\n",
       "      <td>1</td>\n",
       "      <td>0.260169</td>\n",
       "      <td>0</td>\n",
       "    </tr>\n",
       "  </tbody>\n",
       "</table>\n",
       "<p>5 rows × 21 columns</p>\n",
       "</div>"
      ],
      "text/plain": [
       "   0      1      2  3  4  5      6  7  8   9  ...  11   12    13  target  \\\n",
       "0  1  22.08  11.46  2  4  4  1.585  0  0   0  ...   2  100  1213       0   \n",
       "1  0  22.67   7.00  2  8  4  0.165  0  0   0  ...   2  160     1       0   \n",
       "2  0  29.58   1.75  1  4  4  1.250  0  0   0  ...   2  280     1       0   \n",
       "3  0  21.67  11.50  1  5  3  0.000  1  1  11  ...   2    0     1       1   \n",
       "4  1  20.17   8.17  2  6  4  1.960  1  1  14  ...   2   60   159       1   \n",
       "\n",
       "   pred1_probs  pred1_classes  pred2_probs  pred2_classes  pred3_probs  \\\n",
       "0     0.506772              1     0.610853              1     0.375494   \n",
       "1     0.358519              0     0.185941              0     0.200975   \n",
       "2     0.358753              0     0.523009              1     0.160465   \n",
       "3     0.408729              0     0.185941              0     0.357771   \n",
       "4     0.480904              0     0.526646              1     0.260169   \n",
       "\n",
       "   pred3_classes  \n",
       "0              0  \n",
       "1              0  \n",
       "2              0  \n",
       "3              0  \n",
       "4              0  \n",
       "\n",
       "[5 rows x 21 columns]"
      ]
     },
     "execution_count": 99,
     "metadata": {},
     "output_type": "execute_result"
    }
   ],
   "source": [
    "df = pd.read_csv(\"credit_scoring_example1.csv\")\n",
    "df.head()"
   ]
  },
  {
   "cell_type": "code",
   "execution_count": 100,
   "metadata": {},
   "outputs": [
    {
     "data": {
      "text/plain": [
       "(689, 21)"
      ]
     },
     "execution_count": 100,
     "metadata": {},
     "output_type": "execute_result"
    }
   ],
   "source": [
    "df.shape"
   ]
  },
  {
   "cell_type": "markdown",
   "metadata": {},
   "source": [
    "**Задание 1.** Проверьте target на сбалансированность по классам, сделайте вывод."
   ]
  },
  {
   "cell_type": "code",
   "execution_count": 101,
   "metadata": {},
   "outputs": [
    {
     "data": {
      "text/plain": [
       "0    382\n",
       "1    307\n",
       "Name: target, dtype: int64"
      ]
     },
     "execution_count": 101,
     "metadata": {},
     "output_type": "execute_result"
    }
   ],
   "source": [
    "df.target.value_counts()"
   ]
  },
  {
   "cell_type": "markdown",
   "metadata": {},
   "source": [
    "Таргет можно считать сбалансированным"
   ]
  },
  {
   "cell_type": "markdown",
   "metadata": {},
   "source": [
    "**Задание 2.** Вычислите accuracy - долю правильных ответов каждого из алгоритмов. Какой алгоритм имеет наибольшую accuracy?"
   ]
  },
  {
   "cell_type": "code",
   "execution_count": 102,
   "metadata": {},
   "outputs": [
    {
     "name": "stdout",
     "output_type": "stream",
     "text": [
      "pred1 accuracy = 0.6618287373004355\n",
      "pred2 accuracy = 0.6719883889695211\n",
      "pred3 accuracy = 0.6400580551523948\n"
     ]
    }
   ],
   "source": [
    "# Вычисляем Accuracy для каждого из алгоритмов\n",
    "for i in range(1,4):\n",
    "    pred_col = 'pred'+str(i)+'_classes'\n",
    "    pred = df[pred_col]\n",
    "    ac_sc = accuracy_score(df.target, pred)\n",
    "    print('pred'+str(i)+f' accuracy = {ac_sc}')"
   ]
  },
  {
   "cell_type": "markdown",
   "metadata": {},
   "source": [
    "**Задание 3.** Теперь вычислите точность и полноту каждого из алгоритмов."
   ]
  },
  {
   "cell_type": "code",
   "execution_count": 103,
   "metadata": {},
   "outputs": [
    {
     "name": "stdout",
     "output_type": "stream",
     "text": [
      "pred1 precision = 0.6907216494845361\n",
      "pred2 precision = 0.6103542234332425\n",
      "pred3 precision = 0.6903225806451613\n",
      "pred1 recall = 0.4364820846905538\n",
      "pred2 recall = 0.7296416938110749\n",
      "pred3 recall = 0.3485342019543974\n"
     ]
    }
   ],
   "source": [
    "# Вычисляем Precision и Recall для каждого из алгоритмов\n",
    "metrics = {'precision':precision_score, 'recall':recall_score}\n",
    "for m in metrics:\n",
    "    for i in range(1,4):\n",
    "        pred_col = 'pred'+str(i)+'_classes'\n",
    "        pred = df[pred_col]\n",
    "        m_sc = metrics[m](df.target, pred)\n",
    "        print('pred'+str(i)+f' {m} = {m_sc}')"
   ]
  },
  {
   "cell_type": "markdown",
   "metadata": {},
   "source": [
    "Самым полезным инструментом в практических задачах является ***матрица ошибок***. Смотря на неё и регулируя порог, определяющий классы, мы можем достичь оптимального решения нашей задачи.\n",
    "\n",
    "**Задание 4.** Используя функцию plot_confusion_matrix для визуализации матрицы ошибок, нарисуйте матрицы ошибок всех трех алгоритмов."
   ]
  },
  {
   "cell_type": "code",
   "execution_count": 104,
   "metadata": {},
   "outputs": [],
   "source": [
    "import itertools\n",
    "from sklearn.metrics import confusion_matrix\n",
    "\n",
    "def plot_confusion_matrix(cm, classes,\n",
    "                          normalize=False,\n",
    "                          title='Confusion matrix',\n",
    "                          cmap=plt.cm.Blues):\n",
    " \n",
    "    plt.imshow(cm, interpolation='nearest', cmap=cmap)\n",
    "    plt.title(title)\n",
    "    plt.colorbar()\n",
    "    tick_marks = np.arange(len(classes))\n",
    "    plt.xticks(tick_marks, classes, rotation=45)\n",
    "    plt.yticks(tick_marks, classes)\n",
    " \n",
    "    fmt = '.2f' if normalize else 'd'\n",
    "    thresh = cm.max() / 2.\n",
    "    for i, j in itertools.product(range(cm.shape[0]), range(cm.shape[1])):\n",
    "        plt.text(j, i, format(cm[i, j], fmt),\n",
    "                 horizontalalignment=\"center\",\n",
    "                 color=\"white\" if cm[i, j] > thresh else \"black\")\n",
    " \n",
    "    plt.tight_layout()\n",
    "    plt.ylabel('True label')#('True label')\n",
    "    plt.xlabel('Predicted label')#('Predicted label')"
   ]
  },
  {
   "cell_type": "code",
   "execution_count": 105,
   "metadata": {
    "tags": []
   },
   "outputs": [
    {
     "name": "stdout",
     "output_type": "stream",
     "text": [
      "\n",
      "Алгоритм 1\n",
      "---------------------------------------------\n"
     ]
    },
    {
     "data": {
      "image/png": "[encoded data removed]",
      "text/plain": [
       "<Figure size 432x288 with 2 Axes>"
      ]
     },
     "metadata": {
      "needs_background": "light"
     },
     "output_type": "display_data"
    }
   ],
   "source": [
    "# Confusion matrix для Алгоритма 1\n",
    "print('\\nАлгоритм 1'+'\\n'+'-'*45)\n",
    "plot_confusion_matrix(confusion_matrix(df.target, df.pred1_classes), sorted(df.pred1_classes.unique()))"
   ]
  },
  {
   "cell_type": "code",
   "execution_count": 106,
   "metadata": {},
   "outputs": [],
   "source": [
    "#df.loc[(df.target==0) & (df.target==df.pred1_classes)].shape[0] #TN\n",
    "#df.loc[(df.target==1) & (df.target==df.pred1_classes)].shape[0] #TP\n",
    "#tn, fp, fn, tp = confusion_matrix(df.target, df.pred1_classes).ravel()\n",
    "#tn, fp, fn, tp"
   ]
  },
  {
   "cell_type": "code",
   "execution_count": 107,
   "metadata": {},
   "outputs": [
    {
     "name": "stdout",
     "output_type": "stream",
     "text": [
      "\n",
      "Алгоритм 2\n",
      "---------------------------------------------\n"
     ]
    },
    {
     "data": {
      "image/png": "[encoded data removed]",
      "text/plain": [
       "<Figure size 432x288 with 2 Axes>"
      ]
     },
     "metadata": {
      "needs_background": "light"
     },
     "output_type": "display_data"
    }
   ],
   "source": [
    "# Confusion matrix для Алгоритма 2\n",
    "print('\\nАлгоритм 2'+'\\n'+'-'*45)\n",
    "plot_confusion_matrix(confusion_matrix(df.target, df.pred2_classes), sorted(df.pred2_classes.unique()))"
   ]
  },
  {
   "cell_type": "code",
   "execution_count": 108,
   "metadata": {},
   "outputs": [
    {
     "name": "stdout",
     "output_type": "stream",
     "text": [
      "\n",
      "Алгоритм 3\n",
      "---------------------------------------------\n"
     ]
    },
    {
     "data": {
      "image/png": "[encoded data removed]",
      "text/plain": [
       "<Figure size 432x288 with 2 Axes>"
      ]
     },
     "metadata": {
      "needs_background": "light"
     },
     "output_type": "display_data"
    }
   ],
   "source": [
    "# Confusion matrix для Алгоритма 3\n",
    "print('\\nАлгоритм 3'+'\\n'+'-'*45)\n",
    "plot_confusion_matrix(confusion_matrix(df.target, df.pred3_classes), sorted(df.pred3_classes.unique()))"
   ]
  },
  {
   "cell_type": "markdown",
   "metadata": {},
   "source": [
    "Давайте определимся с целями нашего предсказания:\n",
    "    \n",
    "* **Вариант 1**: хотим выдать кредит максимальному числу людей среди тех, кто мог бы его вернуть. При этом не хотим много ошибаться (общее число ошибок не более 35%).\n",
    "  \n",
    "1) Мы не хотим, чтобы алгоритм много ошибался: accuracy $\\geq$ 0.65.\n",
    "\n",
    "2) Кроме того полнота должна быть как можно больше (число в левом нижнем квадрате матрицы ошибок минимально).\n",
    "\n",
    "**Задание 5.** Для каждого алгоритма найдите такой порог принятия решения, чтобы выполнялись перечисленные выше условия. Какой максимальной полноты можно добиться у каждой из моделей при условии, что accuracy $\\geq$ 0.65?\n",
    "\n",
    "**Комментарий:** порог можно искать в цикле с небольшим шагом."
   ]
  },
  {
   "cell_type": "code",
   "execution_count": 109,
   "metadata": {},
   "outputs": [],
   "source": [
    "# Для каждого из 3-х алгоритмов подбираем порог с шагом 0.01 с целью добиться лучшей полноты при accuracy>=0.65 \n",
    "fitted_results = []\n",
    "for i in range(1,4):\n",
    "    pred_col = 'pred'+str(i)+'_probs'\n",
    "    result = []\n",
    "    for th in np.arange(0,1,0.01):\n",
    "        pred = (df[pred_col]>th).map(int)\n",
    "        ac_sc = accuracy_score(df.target, pred)\n",
    "        rec_sc = recall_score(df.target, pred)\n",
    "        result.append((th, ac_sc, rec_sc))\n",
    "        \n",
    "        # Фильтруем по заданному минимальному уровню accuracy\n",
    "    fitted_results.append([i for i in result if i[1]>=0.65])"
   ]
  },
  {
   "cell_type": "code",
   "execution_count": 110,
   "metadata": {},
   "outputs": [],
   "source": [
    "# Сортируем полученные метрики \n",
    "for i in fitted_results:\n",
    "    i.sort(reverse=True, key=lambda x: x[2])"
   ]
  },
  {
   "cell_type": "code",
   "execution_count": 111,
   "metadata": {},
   "outputs": [],
   "source": [
    "# Берем лучшие значения. Если значений с требуемыми параметрами нет, то заполняем nan\n",
    "best_estim = [i[0] if len(i)>0 else (np.nan, np.nan, np.nan) for i in fitted_results]"
   ]
  },
  {
   "cell_type": "code",
   "execution_count": 112,
   "metadata": {},
   "outputs": [
    {
     "data": {
      "text/plain": [
       "[(0.36, 0.6516690856313497, 0.742671009771987),\n",
       " (0.27, 0.6748911465892597, 0.8371335504885994),\n",
       " (nan, nan, nan)]"
      ]
     },
     "execution_count": 112,
     "metadata": {},
     "output_type": "execute_result"
    }
   ],
   "source": [
    "best_estim # (threshold, accuracy, recall)"
   ]
  },
  {
   "cell_type": "markdown",
   "metadata": {},
   "source": [
    "**Задание 6.** Визуализируйте матрицу ошибок для каждого из трех алгоритмов с подобранным порогом."
   ]
  },
  {
   "cell_type": "code",
   "execution_count": 113,
   "metadata": {},
   "outputs": [
    {
     "name": "stdout",
     "output_type": "stream",
     "text": [
      "\n",
      "Алгоритм 1 (оптимизированный по recall)\n",
      "---------------------------------------------\n"
     ]
    },
    {
     "data": {
      "image/png": "[encoded data removed]",
      "text/plain": [
       "<Figure size 432x288 with 2 Axes>"
      ]
     },
     "metadata": {
      "needs_background": "light"
     },
     "output_type": "display_data"
    }
   ],
   "source": [
    "# Confusion matrix для Алгоритма 1 (Оптимизация по recall)\n",
    "print('\\nАлгоритм 1 (оптимизированный по recall)'+'\\n'+'-'*45)\n",
    "plot_confusion_matrix(confusion_matrix(df.target, (df.pred1_probs>best_estim[0][0]).map(int)), sorted(df.pred1_classes.unique()))"
   ]
  },
  {
   "cell_type": "code",
   "execution_count": 114,
   "metadata": {},
   "outputs": [
    {
     "name": "stdout",
     "output_type": "stream",
     "text": [
      "\n",
      "Алгоритм 2 (оптимизированный по recall)\n",
      "---------------------------------------------\n"
     ]
    },
    {
     "data": {
      "image/png": "[encoded data removed]",
      "text/plain": [
       "<Figure size 432x288 with 2 Axes>"
      ]
     },
     "metadata": {
      "needs_background": "light"
     },
     "output_type": "display_data"
    }
   ],
   "source": [
    "# Confusion matrix для Алгоритма 2 (Оптимизация по recall)\n",
    "print('\\nАлгоритм 2 (оптимизированный по recall)'+'\\n'+'-'*45)\n",
    "plot_confusion_matrix(confusion_matrix(df.target, (df.pred2_probs>best_estim[1][0]).map(int)), sorted(df.pred1_classes.unique()))"
   ]
  },
  {
   "cell_type": "code",
   "execution_count": 115,
   "metadata": {},
   "outputs": [
    {
     "name": "stdout",
     "output_type": "stream",
     "text": [
      "\n",
      "Для Алгоритма 3 не удалось подобрать порог, чтобы добиться accuracy>=0.65\n",
      "\n"
     ]
    }
   ],
   "source": [
    "print('\\nДля Алгоритма 3 не удалось подобрать порог, чтобы добиться accuracy>=0.65\\n')"
   ]
  },
  {
   "cell_type": "markdown",
   "metadata": {},
   "source": [
    "**Выводы:** \\\n",
    "Лучше всего с задачей справился Алгоритм 2. Удалось получить recall на уроыне 0.83 при accuracy=0.67 с порогом **0.27**"
   ]
  },
  {
   "cell_type": "markdown",
   "metadata": {},
   "source": [
    "Наша цель может звучать и по-другому:\n",
    "    \n",
    "* **Вариант 2**: среди тех, кому модель выдает кредит, должно быть меньше всего ошибок (мало людей, кто его на самом деле не вернет - на них будем терять деньги). \n",
    "    При этом не хотим много ошибаться (общее число ошибок не более 35%).\n",
    "  \n",
    "1) Мы не хотим, чтобы алгоритм много ошибался: accuracy $\\geq$ 0.65.\n",
    "\n",
    "2) Кроме того точность должна быть как можно больше (число в правом верхнем квадрате матрицы ошибок минимально).\n",
    "\n",
    "**Задание 7.** Для каждого алгоритма найдите порог принятия решения, чтобы выполнялись перечисленные выше условия. Какой максимальной точности можно добиться у каждой из моделей при условии, что accuracy $\\geq$ 0.65? "
   ]
  },
  {
   "cell_type": "code",
   "execution_count": 116,
   "metadata": {},
   "outputs": [],
   "source": [
    "# Для каждого из 3-х алгоритмов подбираем порог с шагом 0.01 с целью добиться лучшей точности при accuracy>=0.65 \n",
    "fitted_results = []\n",
    "for i in range(1,4):\n",
    "    pred_col = 'pred'+str(i)+'_probs'\n",
    "    result = []\n",
    "    for th in np.arange(0,1,0.01):\n",
    "        pred = (df[pred_col]>th).map(int)\n",
    "        ac_sc = accuracy_score(df.target, pred)\n",
    "        rec_sc = precision_score(df.target, pred, zero_division=0)\n",
    "        result.append((th, ac_sc, rec_sc))\n",
    "        \n",
    "        # Фильтруем по заданному минимальному уровню accuracy\n",
    "    fitted_results.append([i for i in result if i[1]>=0.65])"
   ]
  },
  {
   "cell_type": "code",
   "execution_count": 117,
   "metadata": {},
   "outputs": [],
   "source": [
    "# Сортируем полученные метрики \n",
    "for i in fitted_results:\n",
    "    i.sort(reverse=True, key=lambda x: x[2])"
   ]
  },
  {
   "cell_type": "code",
   "execution_count": 118,
   "metadata": {},
   "outputs": [],
   "source": [
    "# Берем лучшие значения. Если значений с требуемыми параметрами нет, то заполняем nan\n",
    "best_estim = [i[0] if len(i)>0 else (np.nan, np.nan, np.nan) for i in fitted_results]"
   ]
  },
  {
   "cell_type": "code",
   "execution_count": 119,
   "metadata": {},
   "outputs": [
    {
     "data": {
      "text/plain": [
       "[(0.54, 0.6618287373004355, 0.7371794871794872),\n",
       " (0.73, 0.6502177068214804, 0.8367346938775511),\n",
       " (nan, nan, nan)]"
      ]
     },
     "execution_count": 119,
     "metadata": {},
     "output_type": "execute_result"
    }
   ],
   "source": [
    "best_estim # (threshold, accuracy, recall)"
   ]
  },
  {
   "cell_type": "markdown",
   "metadata": {},
   "source": [
    "**Задание 8.** Нарисуйте матрицы ошибок для каждого из алгоритмов с найденными значениями порога. Какая модель лучше всех справилась с этой задачей?"
   ]
  },
  {
   "cell_type": "code",
   "execution_count": 120,
   "metadata": {},
   "outputs": [
    {
     "name": "stdout",
     "output_type": "stream",
     "text": [
      "\n",
      "Алгоритм 1 (оптимизированный по precision)\n",
      "---------------------------------------------\n"
     ]
    },
    {
     "data": {
      "image/png": "[encoded data removed]",
      "text/plain": [
       "<Figure size 432x288 with 2 Axes>"
      ]
     },
     "metadata": {
      "needs_background": "light"
     },
     "output_type": "display_data"
    }
   ],
   "source": [
    "# Confusion matrix для Алгоритма 1 (Оптимизация по precision)\n",
    "print('\\nАлгоритм 1 (оптимизированный по precision)'+'\\n'+'-'*45)\n",
    "plot_confusion_matrix(confusion_matrix(df.target, (df.pred1_probs>best_estim[0][0]).map(int)), sorted(df.pred1_classes.unique()))"
   ]
  },
  {
   "cell_type": "code",
   "execution_count": 121,
   "metadata": {},
   "outputs": [
    {
     "name": "stdout",
     "output_type": "stream",
     "text": [
      "\n",
      "Алгоритм 2 (оптимизированный по precision)\n",
      "---------------------------------------------\n"
     ]
    },
    {
     "data": {
      "image/png": "[encoded data removed]",
      "text/plain": [
       "<Figure size 432x288 with 2 Axes>"
      ]
     },
     "metadata": {
      "needs_background": "light"
     },
     "output_type": "display_data"
    }
   ],
   "source": [
    "# Confusion matrix для Алгоритма 2 (Оптимизация по precision)\n",
    "print('\\nАлгоритм 2 (оптимизированный по precision)'+'\\n'+'-'*45)\n",
    "plot_confusion_matrix(confusion_matrix(df.target, (df.pred2_probs>best_estim[1][0]).map(int)), sorted(df.pred2_classes.unique()))"
   ]
  },
  {
   "cell_type": "markdown",
   "metadata": {},
   "source": [
    "**Выводы:** \\\n",
    "Лучше всего с задачей снова справился Алгоритм 2. Удалось получить recall на уроыне 0.83 при accuracy=0.65 с порогом **0.73**"
   ]
  },
  {
   "cell_type": "markdown",
   "metadata": {},
   "source": [
    "Также (**Вариант 3**) можно потребовать, чтобы и точность, и полнота были высокими, то есть обе ошибки в матрице ошибок были маленькие. Как вариант - можно максимизировать F1-score (среднее гармоническое между точностью и полнотой).\n",
    "\n",
    "**Задание 9.** Найдите пороги для достижения максимального F1-score для каждой из трех моделей и нарисуйте матрицы ошибок. Какая модель решает поставленную задачу лучше остальных?"
   ]
  },
  {
   "cell_type": "code",
   "execution_count": 122,
   "metadata": {},
   "outputs": [],
   "source": [
    "# Для каждого из 3-х алгоритмов подбираем порог с шагом 0.01 с целью добиться лучшего  f1_score при accuracy>=0.65 \n",
    "fitted_results = []\n",
    "for i in range(1,4):\n",
    "    pred_col = 'pred'+str(i)+'_probs'\n",
    "    result = []\n",
    "    for th in np.arange(0,1,0.01):\n",
    "        pred = (df[pred_col]>th).map(int)\n",
    "        f1_sc = f1_score(df.target, pred)\n",
    "        result.append((th, f1_sc))\n",
    "        \n",
    "        # Фильтруем по заданному минимальному уровню accuracy\n",
    "    fitted_results.append(result)"
   ]
  },
  {
   "cell_type": "code",
   "execution_count": 123,
   "metadata": {},
   "outputs": [],
   "source": [
    "# Сортируем полученные метрики \n",
    "for i in fitted_results:\n",
    "    i.sort(reverse=True, key=lambda x: x[1])"
   ]
  },
  {
   "cell_type": "code",
   "execution_count": 124,
   "metadata": {},
   "outputs": [],
   "source": [
    "# Берем лучшие значения\n",
    "best_estim = [i[0] for i in fitted_results]"
   ]
  },
  {
   "cell_type": "code",
   "execution_count": 125,
   "metadata": {},
   "outputs": [
    {
     "data": {
      "text/plain": [
       "[(0.34, 0.672), (0.32, 0.6990291262135923), (0.15, 0.6443418013856813)]"
      ]
     },
     "execution_count": 125,
     "metadata": {},
     "output_type": "execute_result"
    }
   ],
   "source": [
    "best_estim"
   ]
  },
  {
   "cell_type": "code",
   "execution_count": 126,
   "metadata": {},
   "outputs": [
    {
     "name": "stdout",
     "output_type": "stream",
     "text": [
      "\n",
      "Алгоритм 1 (оптимизированный по f1_score)\n",
      "---------------------------------------------\n"
     ]
    },
    {
     "data": {
      "image/png": "[encoded data removed]",
      "text/plain": [
       "<Figure size 432x288 with 2 Axes>"
      ]
     },
     "metadata": {
      "needs_background": "light"
     },
     "output_type": "display_data"
    }
   ],
   "source": [
    "# Confusion matrix для Алгоритма 1 (Оптимизация по f1_score)\n",
    "print('\\nАлгоритм 1 (оптимизированный по f1_score)'+'\\n'+'-'*45)\n",
    "plot_confusion_matrix(confusion_matrix(df.target, (df.pred1_probs>best_estim[0][0]).map(int)), sorted(df.pred1_classes.unique()))"
   ]
  },
  {
   "cell_type": "code",
   "execution_count": 127,
   "metadata": {},
   "outputs": [
    {
     "name": "stdout",
     "output_type": "stream",
     "text": [
      "\n",
      "Алгоритм 2 (оптимизированный по f1_score)\n",
      "---------------------------------------------\n"
     ]
    },
    {
     "data": {
      "image/png": "[encoded data removed]",
      "text/plain": [
       "<Figure size 432x288 with 2 Axes>"
      ]
     },
     "metadata": {
      "needs_background": "light"
     },
     "output_type": "display_data"
    }
   ],
   "source": [
    "# Confusion matrix для Алгоритма 2 (Оптимизация по f1_score)\n",
    "print('\\nАлгоритм 2 (оптимизированный по f1_score)'+'\\n'+'-'*45)\n",
    "plot_confusion_matrix(confusion_matrix(df.target, (df.pred2_probs>best_estim[1][0]).map(int)), sorted(df.pred2_classes.unique()))"
   ]
  },
  {
   "cell_type": "code",
   "execution_count": 128,
   "metadata": {},
   "outputs": [
    {
     "name": "stdout",
     "output_type": "stream",
     "text": [
      "\n",
      "Алгоритм 3 (оптимизированный по f1_score)\n",
      "---------------------------------------------\n"
     ]
    },
    {
     "data": {
      "image/png": "[encoded data removed]",
      "text/plain": [
       "<Figure size 432x288 with 2 Axes>"
      ]
     },
     "metadata": {
      "needs_background": "light"
     },
     "output_type": "display_data"
    }
   ],
   "source": [
    "# Confusion matrix для Алгоритма 3 (Оптимизация по f1_score)\n",
    "print('\\nАлгоритм 3 (оптимизированный по f1_score)'+'\\n'+'-'*45)\n",
    "plot_confusion_matrix(confusion_matrix(df.target, (df.pred3_probs>best_estim[2][0]).map(int)), sorted(df.pred3_classes.unique()))"
   ]
  },
  {
   "cell_type": "markdown",
   "metadata": {},
   "source": [
    "**Выводы:** \\\n",
    "Лучше всего с задачей снова справился Алгоритм 2. Удалось получить f1_score на уроыне 0.69 с порогом **0.32**"
   ]
  },
  {
   "cell_type": "markdown",
   "metadata": {},
   "source": [
    "#### Кстати\n",
    "\n",
    "В python есть удобная функция classification_report, которая выводит значения нескольких метрик."
   ]
  },
  {
   "cell_type": "code",
   "execution_count": 129,
   "metadata": {},
   "outputs": [
    {
     "name": "stdout",
     "output_type": "stream",
     "text": [
      "              precision    recall  f1-score   support\n",
      "\n",
      "           0       0.65      0.84      0.73       382\n",
      "           1       0.69      0.44      0.53       307\n",
      "\n",
      "    accuracy                           0.66       689\n",
      "   macro avg       0.67      0.64      0.63       689\n",
      "weighted avg       0.67      0.66      0.65       689\n",
      "\n"
     ]
    }
   ],
   "source": [
    "from sklearn.metrics import classification_report\n",
    "\n",
    "print(classification_report(df['target'],df['pred1_classes']))"
   ]
  },
  {
   "cell_type": "markdown",
   "metadata": {},
   "source": [
    "### Обучим свою модель для предсказания target.\n",
    "\n",
    "**Задание 10.** Отнормируйте признаки в задаче и обучите логистическую регрессию предсказывать target."
   ]
  },
  {
   "cell_type": "code",
   "execution_count": 130,
   "metadata": {},
   "outputs": [],
   "source": [
    "from sklearn.preprocessing import StandardScaler\n",
    "from sklearn.model_selection import train_test_split \n",
    "from sklearn.linear_model import LogisticRegression\n",
    "from sklearn.pipeline import Pipeline"
   ]
  },
  {
   "cell_type": "code",
   "execution_count": 131,
   "metadata": {},
   "outputs": [
    {
     "data": {
      "text/html": [
       "<div>\n",
       "<style scoped>\n",
       "    .dataframe tbody tr th:only-of-type {\n",
       "        vertical-align: middle;\n",
       "    }\n",
       "\n",
       "    .dataframe tbody tr th {\n",
       "        vertical-align: top;\n",
       "    }\n",
       "\n",
       "    .dataframe thead th {\n",
       "        text-align: right;\n",
       "    }\n",
       "</style>\n",
       "<table border=\"1\" class=\"dataframe\">\n",
       "  <thead>\n",
       "    <tr style=\"text-align: right;\">\n",
       "      <th></th>\n",
       "      <th>0</th>\n",
       "      <th>1</th>\n",
       "      <th>2</th>\n",
       "      <th>3</th>\n",
       "      <th>4</th>\n",
       "      <th>5</th>\n",
       "      <th>6</th>\n",
       "      <th>7</th>\n",
       "      <th>8</th>\n",
       "      <th>9</th>\n",
       "      <th>...</th>\n",
       "      <th>11</th>\n",
       "      <th>12</th>\n",
       "      <th>13</th>\n",
       "      <th>target</th>\n",
       "      <th>pred1_probs</th>\n",
       "      <th>pred1_classes</th>\n",
       "      <th>pred2_probs</th>\n",
       "      <th>pred2_classes</th>\n",
       "      <th>pred3_probs</th>\n",
       "      <th>pred3_classes</th>\n",
       "    </tr>\n",
       "  </thead>\n",
       "  <tbody>\n",
       "    <tr>\n",
       "      <th>0</th>\n",
       "      <td>1</td>\n",
       "      <td>22.08</td>\n",
       "      <td>11.46</td>\n",
       "      <td>2</td>\n",
       "      <td>4</td>\n",
       "      <td>4</td>\n",
       "      <td>1.585</td>\n",
       "      <td>0</td>\n",
       "      <td>0</td>\n",
       "      <td>0</td>\n",
       "      <td>...</td>\n",
       "      <td>2</td>\n",
       "      <td>100</td>\n",
       "      <td>1213</td>\n",
       "      <td>0</td>\n",
       "      <td>0.506772</td>\n",
       "      <td>1</td>\n",
       "      <td>0.610853</td>\n",
       "      <td>1</td>\n",
       "      <td>0.375494</td>\n",
       "      <td>0</td>\n",
       "    </tr>\n",
       "    <tr>\n",
       "      <th>1</th>\n",
       "      <td>0</td>\n",
       "      <td>22.67</td>\n",
       "      <td>7.00</td>\n",
       "      <td>2</td>\n",
       "      <td>8</td>\n",
       "      <td>4</td>\n",
       "      <td>0.165</td>\n",
       "      <td>0</td>\n",
       "      <td>0</td>\n",
       "      <td>0</td>\n",
       "      <td>...</td>\n",
       "      <td>2</td>\n",
       "      <td>160</td>\n",
       "      <td>1</td>\n",
       "      <td>0</td>\n",
       "      <td>0.358519</td>\n",
       "      <td>0</td>\n",
       "      <td>0.185941</td>\n",
       "      <td>0</td>\n",
       "      <td>0.200975</td>\n",
       "      <td>0</td>\n",
       "    </tr>\n",
       "    <tr>\n",
       "      <th>2</th>\n",
       "      <td>0</td>\n",
       "      <td>29.58</td>\n",
       "      <td>1.75</td>\n",
       "      <td>1</td>\n",
       "      <td>4</td>\n",
       "      <td>4</td>\n",
       "      <td>1.250</td>\n",
       "      <td>0</td>\n",
       "      <td>0</td>\n",
       "      <td>0</td>\n",
       "      <td>...</td>\n",
       "      <td>2</td>\n",
       "      <td>280</td>\n",
       "      <td>1</td>\n",
       "      <td>0</td>\n",
       "      <td>0.358753</td>\n",
       "      <td>0</td>\n",
       "      <td>0.523009</td>\n",
       "      <td>1</td>\n",
       "      <td>0.160465</td>\n",
       "      <td>0</td>\n",
       "    </tr>\n",
       "    <tr>\n",
       "      <th>3</th>\n",
       "      <td>0</td>\n",
       "      <td>21.67</td>\n",
       "      <td>11.50</td>\n",
       "      <td>1</td>\n",
       "      <td>5</td>\n",
       "      <td>3</td>\n",
       "      <td>0.000</td>\n",
       "      <td>1</td>\n",
       "      <td>1</td>\n",
       "      <td>11</td>\n",
       "      <td>...</td>\n",
       "      <td>2</td>\n",
       "      <td>0</td>\n",
       "      <td>1</td>\n",
       "      <td>1</td>\n",
       "      <td>0.408729</td>\n",
       "      <td>0</td>\n",
       "      <td>0.185941</td>\n",
       "      <td>0</td>\n",
       "      <td>0.357771</td>\n",
       "      <td>0</td>\n",
       "    </tr>\n",
       "    <tr>\n",
       "      <th>4</th>\n",
       "      <td>1</td>\n",
       "      <td>20.17</td>\n",
       "      <td>8.17</td>\n",
       "      <td>2</td>\n",
       "      <td>6</td>\n",
       "      <td>4</td>\n",
       "      <td>1.960</td>\n",
       "      <td>1</td>\n",
       "      <td>1</td>\n",
       "      <td>14</td>\n",
       "      <td>...</td>\n",
       "      <td>2</td>\n",
       "      <td>60</td>\n",
       "      <td>159</td>\n",
       "      <td>1</td>\n",
       "      <td>0.480904</td>\n",
       "      <td>0</td>\n",
       "      <td>0.526646</td>\n",
       "      <td>1</td>\n",
       "      <td>0.260169</td>\n",
       "      <td>0</td>\n",
       "    </tr>\n",
       "  </tbody>\n",
       "</table>\n",
       "<p>5 rows × 21 columns</p>\n",
       "</div>"
      ],
      "text/plain": [
       "   0      1      2  3  4  5      6  7  8   9  ...  11   12    13  target  \\\n",
       "0  1  22.08  11.46  2  4  4  1.585  0  0   0  ...   2  100  1213       0   \n",
       "1  0  22.67   7.00  2  8  4  0.165  0  0   0  ...   2  160     1       0   \n",
       "2  0  29.58   1.75  1  4  4  1.250  0  0   0  ...   2  280     1       0   \n",
       "3  0  21.67  11.50  1  5  3  0.000  1  1  11  ...   2    0     1       1   \n",
       "4  1  20.17   8.17  2  6  4  1.960  1  1  14  ...   2   60   159       1   \n",
       "\n",
       "   pred1_probs  pred1_classes  pred2_probs  pred2_classes  pred3_probs  \\\n",
       "0     0.506772              1     0.610853              1     0.375494   \n",
       "1     0.358519              0     0.185941              0     0.200975   \n",
       "2     0.358753              0     0.523009              1     0.160465   \n",
       "3     0.408729              0     0.185941              0     0.357771   \n",
       "4     0.480904              0     0.526646              1     0.260169   \n",
       "\n",
       "   pred3_classes  \n",
       "0              0  \n",
       "1              0  \n",
       "2              0  \n",
       "3              0  \n",
       "4              0  \n",
       "\n",
       "[5 rows x 21 columns]"
      ]
     },
     "execution_count": 131,
     "metadata": {},
     "output_type": "execute_result"
    }
   ],
   "source": [
    "df.head()"
   ]
  },
  {
   "cell_type": "code",
   "execution_count": 132,
   "metadata": {},
   "outputs": [],
   "source": [
    "# Удаляем колонки колонки с предсказаниями и классами данных предсказательных алгоритмов\n",
    "df_c = df.copy().drop(columns=['pred1_probs', 'pred1_classes', 'pred2_probs', 'pred2_classes', 'pred3_probs', 'pred3_classes'])"
   ]
  },
  {
   "cell_type": "code",
   "execution_count": 133,
   "metadata": {},
   "outputs": [],
   "source": [
    "# Разделяем признаки и таргет\n",
    "X_ = df_c.drop(columns='target')\n",
    "y = df_c.target"
   ]
  },
  {
   "cell_type": "code",
   "execution_count": 134,
   "metadata": {},
   "outputs": [
    {
     "data": {
      "text/plain": [
       "((689, 14), (689,))"
      ]
     },
     "execution_count": 134,
     "metadata": {},
     "output_type": "execute_result"
    }
   ],
   "source": [
    "# Проверяем формы\n",
    "X_.shape, y.shape"
   ]
  },
  {
   "cell_type": "code",
   "execution_count": 135,
   "metadata": {},
   "outputs": [],
   "source": [
    "# Разделяем на тренировочную и тестовые выборки\n",
    "X_train, X_test, y_train, y_test = train_test_split(X_, y, test_size=0.3, random_state=42)"
   ]
  },
  {
   "cell_type": "code",
   "execution_count": 136,
   "metadata": {},
   "outputs": [
    {
     "data": {
      "text/plain": [
       "((482, 14), (207, 14), (482,), (207,))"
      ]
     },
     "execution_count": 136,
     "metadata": {},
     "output_type": "execute_result"
    }
   ],
   "source": [
    "# Проверяем формы\n",
    "X_train.shape, X_test.shape, y_train.shape, y_test.shape"
   ]
  },
  {
   "cell_type": "code",
   "execution_count": 137,
   "metadata": {},
   "outputs": [],
   "source": [
    "# Задаем скалер\n",
    "scaler = StandardScaler()"
   ]
  },
  {
   "cell_type": "code",
   "execution_count": 138,
   "metadata": {},
   "outputs": [
    {
     "data": {
      "text/plain": [
       "StandardScaler()"
      ]
     },
     "execution_count": 138,
     "metadata": {},
     "output_type": "execute_result"
    }
   ],
   "source": [
    "# Расчет параметров скалера\n",
    "scaler.fit(X_train)"
   ]
  },
  {
   "cell_type": "code",
   "execution_count": 139,
   "metadata": {},
   "outputs": [],
   "source": [
    "# Нормализуем данные по параметрам скалера\n",
    "X_train = scaler.transform(X_train)"
   ]
  },
  {
   "cell_type": "code",
   "execution_count": 140,
   "metadata": {},
   "outputs": [],
   "source": [
    "# Возвращаем формат DataFrame\n",
    "X_train = pd.DataFrame(data=X_train, columns=df_c.drop(columns='target').columns)"
   ]
  },
  {
   "cell_type": "code",
   "execution_count": 141,
   "metadata": {},
   "outputs": [
    {
     "data": {
      "text/html": [
       "<div>\n",
       "<style scoped>\n",
       "    .dataframe tbody tr th:only-of-type {\n",
       "        vertical-align: middle;\n",
       "    }\n",
       "\n",
       "    .dataframe tbody tr th {\n",
       "        vertical-align: top;\n",
       "    }\n",
       "\n",
       "    .dataframe thead th {\n",
       "        text-align: right;\n",
       "    }\n",
       "</style>\n",
       "<table border=\"1\" class=\"dataframe\">\n",
       "  <thead>\n",
       "    <tr style=\"text-align: right;\">\n",
       "      <th></th>\n",
       "      <th>0</th>\n",
       "      <th>1</th>\n",
       "      <th>2</th>\n",
       "      <th>3</th>\n",
       "      <th>4</th>\n",
       "      <th>5</th>\n",
       "      <th>6</th>\n",
       "      <th>7</th>\n",
       "      <th>8</th>\n",
       "      <th>9</th>\n",
       "      <th>10</th>\n",
       "      <th>11</th>\n",
       "      <th>12</th>\n",
       "      <th>13</th>\n",
       "    </tr>\n",
       "  </thead>\n",
       "  <tbody>\n",
       "    <tr>\n",
       "      <th>0</th>\n",
       "      <td>0.701612</td>\n",
       "      <td>0.925562</td>\n",
       "      <td>0.072608</td>\n",
       "      <td>0.550295</td>\n",
       "      <td>1.016070</td>\n",
       "      <td>1.664643</td>\n",
       "      <td>3.123125</td>\n",
       "      <td>0.943502</td>\n",
       "      <td>-0.893592</td>\n",
       "      <td>-0.560902</td>\n",
       "      <td>1.123793</td>\n",
       "      <td>0.252553</td>\n",
       "      <td>-0.519529</td>\n",
       "      <td>-0.250925</td>\n",
       "    </tr>\n",
       "    <tr>\n",
       "      <th>1</th>\n",
       "      <td>0.701612</td>\n",
       "      <td>-0.756706</td>\n",
       "      <td>1.566847</td>\n",
       "      <td>0.550295</td>\n",
       "      <td>0.177943</td>\n",
       "      <td>-0.360235</td>\n",
       "      <td>0.328821</td>\n",
       "      <td>-1.059881</td>\n",
       "      <td>1.119078</td>\n",
       "      <td>-0.104992</td>\n",
       "      <td>1.123793</td>\n",
       "      <td>0.252553</td>\n",
       "      <td>-0.028523</td>\n",
       "      <td>-0.200618</td>\n",
       "    </tr>\n",
       "    <tr>\n",
       "      <th>2</th>\n",
       "      <td>0.701612</td>\n",
       "      <td>0.245084</td>\n",
       "      <td>0.380525</td>\n",
       "      <td>0.550295</td>\n",
       "      <td>-0.380809</td>\n",
       "      <td>-0.360235</td>\n",
       "      <td>-0.623884</td>\n",
       "      <td>0.943502</td>\n",
       "      <td>-0.893592</td>\n",
       "      <td>-0.560902</td>\n",
       "      <td>1.123793</td>\n",
       "      <td>0.252553</td>\n",
       "      <td>1.438916</td>\n",
       "      <td>-0.250925</td>\n",
       "    </tr>\n",
       "    <tr>\n",
       "      <th>3</th>\n",
       "      <td>0.701612</td>\n",
       "      <td>-0.455581</td>\n",
       "      <td>-0.832161</td>\n",
       "      <td>0.550295</td>\n",
       "      <td>0.177943</td>\n",
       "      <td>0.145984</td>\n",
       "      <td>-0.586784</td>\n",
       "      <td>0.943502</td>\n",
       "      <td>-0.893592</td>\n",
       "      <td>-0.560902</td>\n",
       "      <td>-0.889844</td>\n",
       "      <td>0.252553</td>\n",
       "      <td>0.914432</td>\n",
       "      <td>-0.244237</td>\n",
       "    </tr>\n",
       "    <tr>\n",
       "      <th>4</th>\n",
       "      <td>0.701612</td>\n",
       "      <td>-0.497637</td>\n",
       "      <td>-0.779435</td>\n",
       "      <td>0.550295</td>\n",
       "      <td>-0.380809</td>\n",
       "      <td>-0.360235</td>\n",
       "      <td>-0.512586</td>\n",
       "      <td>-1.059881</td>\n",
       "      <td>-0.893592</td>\n",
       "      <td>-0.560902</td>\n",
       "      <td>-0.889844</td>\n",
       "      <td>0.252553</td>\n",
       "      <td>0.083069</td>\n",
       "      <td>-0.250925</td>\n",
       "    </tr>\n",
       "  </tbody>\n",
       "</table>\n",
       "</div>"
      ],
      "text/plain": [
       "          0         1         2         3         4         5         6  \\\n",
       "0  0.701612  0.925562  0.072608  0.550295  1.016070  1.664643  3.123125   \n",
       "1  0.701612 -0.756706  1.566847  0.550295  0.177943 -0.360235  0.328821   \n",
       "2  0.701612  0.245084  0.380525  0.550295 -0.380809 -0.360235 -0.623884   \n",
       "3  0.701612 -0.455581 -0.832161  0.550295  0.177943  0.145984 -0.586784   \n",
       "4  0.701612 -0.497637 -0.779435  0.550295 -0.380809 -0.360235 -0.512586   \n",
       "\n",
       "          7         8         9        10        11        12        13  \n",
       "0  0.943502 -0.893592 -0.560902  1.123793  0.252553 -0.519529 -0.250925  \n",
       "1 -1.059881  1.119078 -0.104992  1.123793  0.252553 -0.028523 -0.200618  \n",
       "2  0.943502 -0.893592 -0.560902  1.123793  0.252553  1.438916 -0.250925  \n",
       "3  0.943502 -0.893592 -0.560902 -0.889844  0.252553  0.914432 -0.244237  \n",
       "4 -1.059881 -0.893592 -0.560902 -0.889844  0.252553  0.083069 -0.250925  "
      ]
     },
     "execution_count": 141,
     "metadata": {},
     "output_type": "execute_result"
    }
   ],
   "source": [
    "X_train[:5]"
   ]
  },
  {
   "cell_type": "code",
   "execution_count": 142,
   "metadata": {},
   "outputs": [],
   "source": [
    "# Инициализируем модель\n",
    "model = LogisticRegression()"
   ]
  },
  {
   "cell_type": "code",
   "execution_count": 143,
   "metadata": {},
   "outputs": [
    {
     "data": {
      "text/plain": [
       "LogisticRegression()"
      ]
     },
     "execution_count": 143,
     "metadata": {},
     "output_type": "execute_result"
    }
   ],
   "source": [
    "# Обучаем модель\n",
    "model.fit(X_train, y_train)"
   ]
  },
  {
   "cell_type": "code",
   "execution_count": 144,
   "metadata": {},
   "outputs": [],
   "source": [
    "# Предсказания на тесте \n",
    "pred = model.predict(scaler.fit_transform(X_test))"
   ]
  },
  {
   "cell_type": "code",
   "execution_count": 145,
   "metadata": {},
   "outputs": [
    {
     "data": {
      "text/plain": [
       "0.8599033816425121"
      ]
     },
     "execution_count": 145,
     "metadata": {},
     "output_type": "execute_result"
    }
   ],
   "source": [
    "# Считаем accuracy\n",
    "accuracy_score(y_test, pred)"
   ]
  },
  {
   "cell_type": "markdown",
   "metadata": {},
   "source": [
    "**Задание 11.** Подберите порог для перевода предсказания в классы, чтобы максимизировать:\n",
    "    а) точность \n",
    "    б) полноту \n",
    "    в) f1-score. \n",
    "Лучше ли логистическая регрессия справилась с задачей, чем три готовые модели, предсказания которых мы анализировали выше?"
   ]
  },
  {
   "cell_type": "code",
   "execution_count": 146,
   "metadata": {},
   "outputs": [],
   "source": [
    "# Удаляем колонки колонки с предсказаниями и классами данных предсказательных алгоритмов\n",
    "df_c = df.copy().drop(columns=['pred1_probs', 'pred1_classes', 'pred2_probs', 'pred2_classes', 'pred3_probs', 'pred3_classes'])"
   ]
  },
  {
   "cell_type": "code",
   "execution_count": 147,
   "metadata": {},
   "outputs": [],
   "source": [
    "# Разделяем признаки и таргет\n",
    "X_ = df_c.drop(columns='target')\n",
    "y = df_c.target"
   ]
  },
  {
   "cell_type": "code",
   "execution_count": 148,
   "metadata": {},
   "outputs": [
    {
     "data": {
      "text/plain": [
       "((689, 14), (482, 14))"
      ]
     },
     "execution_count": 148,
     "metadata": {},
     "output_type": "execute_result"
    }
   ],
   "source": [
    "# Проверяем формы\n",
    "X_.shape, X_train.shape"
   ]
  },
  {
   "cell_type": "code",
   "execution_count": 149,
   "metadata": {},
   "outputs": [
    {
     "data": {
      "text/plain": [
       "((482, 14), (207, 14), (482,), (207,))"
      ]
     },
     "execution_count": 149,
     "metadata": {},
     "output_type": "execute_result"
    }
   ],
   "source": [
    "# Разделяем на тренировочную и тестовые выборки\n",
    "X_train, X_test, y_train, y_test = train_test_split(X_, y, test_size=0.3, random_state=42, shuffle=False)\n",
    "X_train.shape, X_test.shape, y_train.shape, y_test.shape"
   ]
  },
  {
   "cell_type": "code",
   "execution_count": 150,
   "metadata": {},
   "outputs": [],
   "source": [
    "# Инициализируем модель\n",
    "model = LogisticRegression()"
   ]
  },
  {
   "cell_type": "code",
   "execution_count": 151,
   "metadata": {},
   "outputs": [],
   "source": [
    "# Создаем Pipeline\n",
    "pipe = Pipeline([('scaler', StandardScaler()), ('model', model)])"
   ]
  },
  {
   "cell_type": "code",
   "execution_count": 152,
   "metadata": {},
   "outputs": [
    {
     "data": {
      "text/plain": [
       "Pipeline(steps=[('scaler', StandardScaler()), ('model', LogisticRegression())])"
      ]
     },
     "execution_count": 152,
     "metadata": {},
     "output_type": "execute_result"
    }
   ],
   "source": [
    "# Обучаем модель\n",
    "pipe.fit(X_train, y_train)"
   ]
  },
  {
   "cell_type": "code",
   "execution_count": 153,
   "metadata": {},
   "outputs": [],
   "source": [
    "# Предсказания на тесте (вероятности) \n",
    "pred = pipe.predict_proba(X_test)"
   ]
  },
  {
   "cell_type": "code",
   "execution_count": 154,
   "metadata": {},
   "outputs": [],
   "source": [
    "# Так как классификация бинарная, то нам достаточно знать веротяность 1го класса\n",
    "prob_class1 = np.array([i[1] for i in pred])"
   ]
  },
  {
   "cell_type": "code",
   "execution_count": 155,
   "metadata": {},
   "outputs": [
    {
     "data": {
      "text/plain": [
       "0.8599033816425121"
      ]
     },
     "execution_count": 155,
     "metadata": {},
     "output_type": "execute_result"
    }
   ],
   "source": [
    "accuracy_score(y_test, pred.argmax(axis=1))"
   ]
  },
  {
   "cell_type": "code",
   "execution_count": 156,
   "metadata": {},
   "outputs": [],
   "source": [
    "# Метрики для оптимизации\n",
    "metrics = {'precision':precision_score, 'recall':recall_score, 'f1':f1_score}"
   ]
  },
  {
   "cell_type": "code",
   "execution_count": 157,
   "metadata": {},
   "outputs": [],
   "source": [
    "# Подбираем значения порога для максимизации метрик качества. Ставим условие на accuracy>=0.85 (иначе p)\n",
    "best_estim = []\n",
    "for m in metrics:\n",
    "    max_score = 0\n",
    "    best_th = 0\n",
    "    for th in np.arange(0,1,0.01):\n",
    "        pred_class1 = np.where(prob_class1>th, 1, 0)\n",
    "        score = metrics[m](y_test, pred_class1)\n",
    "        ac_sc = accuracy_score(y_test, pred_class1)\n",
    "        #print(score, max_score, ac_sc)\n",
    "        if score>max_score and ac_sc>=0.85:\n",
    "            max_score = score\n",
    "            best_th = th\n",
    "    best_estim.append((best_th, max_score))"
   ]
  },
  {
   "cell_type": "code",
   "execution_count": 158,
   "metadata": {},
   "outputs": [
    {
     "data": {
      "text/plain": [
       "[(0.6900000000000001, 0.9166666666666666),\n",
       " (0.17, 0.9560439560439561),\n",
       " (0.37, 0.8730964467005076)]"
      ]
     },
     "execution_count": 158,
     "metadata": {},
     "output_type": "execute_result"
    }
   ],
   "source": [
    "best_estim"
   ]
  },
  {
   "cell_type": "code",
   "execution_count": 159,
   "metadata": {},
   "outputs": [
    {
     "name": "stdout",
     "output_type": "stream",
     "text": [
      "accuracy = 0.8792270531400966\n",
      "recall = 0.945054945054945\n",
      "precision = 0.8113207547169812\n",
      "f1_score = 0.8730964467005076\n"
     ]
    }
   ],
   "source": [
    "print(f'accuracy = {accuracy_score(y_test, np.where(prob_class1>0.37, 1, 0))}')\n",
    "print(f'recall = {recall_score(y_test, np.where(prob_class1>0.37, 1, 0))}')\n",
    "print(f'precision = {precision_score(y_test, np.where(prob_class1>0.37, 1, 0))}')\n",
    "print(f'f1_score = {f1_score(y_test, np.where(prob_class1>0.37, 1, 0))}')"
   ]
  },
  {
   "cell_type": "markdown",
   "metadata": {},
   "source": [
    "**Вывод:** \\\n",
    "Логистической регрессией добились лучшего качества чем у данных изначально алгоритмов. С порогом **0.37**. Accuracy и f1_score на уровне 0.87"
   ]
  }
 ],
 "metadata": {
  "kernelspec": {
   "display_name": "Python 3 (ipykernel)",
   "language": "python",
   "name": "python3"
  },
  "language_info": {
   "codemirror_mode": {
    "name": "ipython",
    "version": 3
   },
   "file_extension": ".py",
   "mimetype": "text/x-python",
   "name": "python",
   "nbconvert_exporter": "python",
   "pygments_lexer": "ipython3",
   "version": "3.9.7"
  }
 },
 "nbformat": 4,
 "nbformat_minor": 4
}
